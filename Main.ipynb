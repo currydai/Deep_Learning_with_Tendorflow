{
 "cells": [
  {
   "cell_type": "markdown",
   "metadata": {},
   "source": [
    "# 一、Tensorflow与深度学习笔记 "
   ]
  },
  {
   "cell_type": "markdown",
   "metadata": {},
   "source": [
    "- **Author:**currydai\n",
    "- **Date:**4/3/2021 "
   ]
  },
  {
   "cell_type": "markdown",
   "metadata": {},
   "source": [
    "## 目录"
   ]
  },
  {
   "cell_type": "markdown",
   "metadata": {},
   "source": [
    "01. 人工智能简介\n",
    "02. 回归问题\n",
    "03. 分类问题\n",
    "04. tensorflow基础\n",
    "05. tensorflow进阶\n",
    "06. 神经网络\n",
    "07. 反向传播算法\n",
    "08. Keras高级接口\n",
    "09. 过拟合\n",
    "10. 卷积神经网络\n",
    "11. 循环神经网络\n",
    "12. 自编码器\n",
    "13. 生成对抗网络\n",
    "14. 强化学习\n",
    "15. 自定义数据集 "
   ]
  },
  {
   "cell_type": "markdown",
   "metadata": {},
   "source": [
    "## 前述"
   ]
  },
  {
   "cell_type": "markdown",
   "metadata": {},
   "source": [
    "深度学习相对与其他常规机器学习以及数值优化算法规模更大，主要体现在深层次的复杂网络导致前后向的计算复杂。不过不用过度担心或者惧怕，很多机构已经基于软硬件系统开发出最优的计算框架，例如Tensorflow or Pytorch，我们可以很方便的使用它们。\n"
   ]
  },
  {
   "cell_type": "markdown",
   "metadata": {},
   "source": [
    "然而在使用的过程中，我发现，由于框架太过简单，造成知识的退化。很多底层的原理一知半解，导致在实现各种模型时理解不到位。因此本文基于这种考虑，从原理公式结合tensorflow实现原理出发，深入理解深度学习相关模型与实现方法。"
   ]
  },
  {
   "cell_type": "markdown",
   "metadata": {},
   "source": [
    "$$公式+原理+代码$$  "
   ]
  },
  {
   "cell_type": "markdown",
   "metadata": {},
   "source": [
    "## 1.人工智能绪论 "
   ]
  },
  {
   "cell_type": "markdown",
   "metadata": {},
   "source": [
    "定义： 人工智能是让机器获得像人类一样具有思考和推理机制的智能技术"
   ]
  },
  {
   "cell_type": "markdown",
   "metadata": {},
   "source": [
    "发展：人工智能的发展主要经历过三个阶段，每个阶段都代表了人们从不同的角度尝试实现人工智能的探索足迹"
   ]
  },
  {
   "cell_type": "markdown",
   "metadata": {},
   "source": [
    "$$推理期->机器学习->神经网络$$"
   ]
  },
  {
   "cell_type": "markdown",
   "metadata": {},
   "source": [
    "### 1.1 机器学习"
   ]
  },
  {
   "cell_type": "markdown",
   "metadata": {},
   "source": [
    "**机器学习分类：**\n",
    "- 有监督学习 Supervised Learning\n",
    "- 无监督学习 Unsupervised Learning\n",
    "- 强化学习 Reinforcrment Learning"
   ]
  },
  {
   "cell_type": "markdown",
   "metadata": {},
   "source": [
    "- **有监督学习** 有监督学习的数据集包含了样本𝒙与样本的标签𝒚，算法模型需要学习到\n",
    "映射关系𝑓𝜃: 𝒙 → 𝒚，其中𝑓𝜃代表模型函数，𝜃为模型的参数。在训练时，通过计算模型的预\n",
    "测值𝑓𝜃(𝒙)与真实标签𝒚之间的误差来优化网络参数𝜃，使得网络下一次能够预测更精准。常\n",
    "见的有监督学习有线性回归、逻辑回归、支持向量机、随机森林等。"
   ]
  },
  {
   "cell_type": "markdown",
   "metadata": {},
   "source": [
    "- **无监督学习** 收集带标签的数据往往代价较为昂贵，对于只有样本𝒙的数据集，算法需\n",
    "要自行发现数据的模态，这种方式叫作无监督学习。无监督学习中有一类算法将自身作为\n",
    "监督信号，即模型需要学习的映射为𝑓𝜃: 𝒙 → 𝒙，称为自监督学习(Self-supervised \n",
    "Learning)。在训练时，通过计算模型的预测值𝑓𝜃(𝒙)与自身𝒙之间的误差来优化网络参数𝜃。\n",
    "常见的无监督学习算法有自编码器、生成对抗网络等。"
   ]
  },
  {
   "cell_type": "markdown",
   "metadata": {},
   "source": [
    "- **强化学习** 也称为增强学习，通过与环境进行交互来学习解决问题的策略的一类算法。\n",
    "与有监督、无监督学习不同，强化学习问题并没有明确的“正确的”动作监督信号，算法\n",
    "需要与环境进行交互，获取环境反馈的滞后的奖励信号，因此并不能通过计算动作与“正\n",
    "确动作”之间的误差来优化网络。常见的强化学习算法有 DQN，PPO 等。"
   ]
  },
  {
   "cell_type": "markdown",
   "metadata": {},
   "source": [
    "Tips：后续会有专门的课程区去介绍机器学习的理论、算法与应用，在这里就不展开扩展"
   ]
  },
  {
   "cell_type": "markdown",
   "metadata": {},
   "source": [
    "### 1.2神经网络与深度学习发展"
   ]
  },
  {
   "cell_type": "markdown",
   "metadata": {},
   "source": [
    "- 神经网络：一类基于神经网络从数据中学习的算法\n",
    "- 深度学习：将利用深层神经网络实现的算法"
   ]
  },
  {
   "cell_type": "markdown",
   "metadata": {},
   "source": [
    "2006 年以前，深度学习以神经网络和连接主义名义发展，历经了两次兴盛和两次\n",
    "寒冬"
   ]
  },
  {
   "cell_type": "markdown",
   "metadata": {},
   "source": [
    "2006 年，Geoffrey Hinton 首次将深层神经网络命名为深度学习，自此开启了深度学\n",
    "习的第三次复兴之路。"
   ]
  },
  {
   "cell_type": "markdown",
   "metadata": {},
   "source": [
    "**浅层神经网络伴随着机器学习的发展逐渐成熟** "
   ]
  },
  {
   "cell_type": "markdown",
   "metadata": {},
   "source": [
    "**1943-1969年为人工智能发展的第一次兴盛期**\n",
    "- 1943 神经元模型\n",
    "- 1950 图灵测试\n",
    "- 1958 感知机模型 "
   ]
  },
  {
   "cell_type": "markdown",
   "metadata": {},
   "source": [
    "**1982-1995年第二次人工智能复兴的大潮**\n",
    "- 1969 XOR异或问题\n",
    "- 1974 反向传播算法\n",
    "- 1982 Hopfield网络\n",
    "- 1985 Boltzmann机器\n",
    "- 1986 受限Boltzmann MLP RNN\n",
    "- 1990 LeNet "
   ]
  },
  {
   "cell_type": "markdown",
   "metadata": {},
   "source": [
    "**2006-至今第三次人工智能的复兴**\n",
    "- 1997 LSTM\n",
    "- 2006 DBN深度置信网络"
   ]
  },
  {
   "cell_type": "markdown",
   "metadata": {},
   "source": [
    "深度学习逐渐取代浅层神经网络，成为第三次人工智能的热点，并且在2012开启了深度学习的新纪元"
   ]
  },
  {
   "cell_type": "markdown",
   "metadata": {},
   "source": [
    "- 2009 ImageNet\n",
    "- 2012 AlexNet\n",
    "- 2014 GAN生成对抗网络\n",
    "- 2014 VGG GoogLeNet\n",
    "- 2015 ResNet\n",
    "- 2015 DQN\n",
    "- 2015 Batch Normalization\n",
    "- 2015 TensorFlow发布\n",
    "- 2016 AlphaGo\n",
    "- 2017 AlphaGo Zero\n",
    "- 2018 BERT机器翻译\n",
    "- 2019 Pluribus德州扑克\n",
    "- 2019 OpenAI Five\n",
    "- 2019 TensorFlow2.0发布 "
   ]
  },
  {
   "cell_type": "markdown",
   "metadata": {},
   "source": [
    "### 1.3 深度学习的特点"
   ]
  },
  {
   "cell_type": "markdown",
   "metadata": {},
   "source": [
    "#### 数据量"
   ]
  },
  {
   "cell_type": "markdown",
   "metadata": {},
   "source": [
    "- 1936 Iris:150样本\n",
    "- 1998 MNIST：70000样本\n",
    "- 2010 ImageNet:14197122 11400万样本\n",
    "- 总之，数据量在逐渐增大"
   ]
  },
  {
   "cell_type": "markdown",
   "metadata": {},
   "source": [
    "#### 计算力"
   ]
  },
  {
   "cell_type": "markdown",
   "metadata": {},
   "source": [
    "x86 CPU 的曲线变化相对缓慢，而 NVIDIA GPU的浮点计算能力指数式增长，这主要是由日益增长的游戏计算量和深度学习计算量等业务驱动的。"
   ]
  },
  {
   "cell_type": "markdown",
   "metadata": {},
   "source": [
    "#### 网络规模"
   ]
  },
  {
   "cell_type": "markdown",
   "metadata": {},
   "source": [
    "- AlexNet：8层\n",
    "- VCG16：16层\n",
    "- GoogLeNet:22层\n",
    "- ResNet50：50层\n",
    "- DenseNet121：121层"
   ]
  },
  {
   "cell_type": "markdown",
   "metadata": {},
   "source": [
    "网络的总参数量可达到千万级别"
   ]
  },
  {
   "cell_type": "markdown",
   "metadata": {},
   "source": [
    "Tips:成年人大脑中包含了约 1000 亿个神经元，每个神经元通过树突获取输入信号，通过轴\n",
    "突传递输出信号，神经元之间相互连接构成了巨大的神经网络，从而形成了人脑的感知和\n",
    "意识基础"
   ]
  },
  {
   "cell_type": "markdown",
   "metadata": {},
   "source": [
    "#### 通用智能"
   ]
  },
  {
   "cell_type": "markdown",
   "metadata": {},
   "source": [
    "- 依靠人工设计的特征和先验设定无法自适应新场景，模型通用性不强。\n",
    "- 深度学习端对端进行训练，适应性强"
   ]
  },
  {
   "cell_type": "markdown",
   "metadata": {},
   "source": [
    "Ex.DeepMind设计的DNQ算法可以在相同的算法、模型结构和参数情况下，在49个游戏获得人类相当的游戏水平，通用性很强"
   ]
  },
  {
   "cell_type": "markdown",
   "metadata": {},
   "source": [
    "### 1.4深度学习应用场景"
   ]
  },
  {
   "cell_type": "markdown",
   "metadata": {},
   "source": [
    "#### 计算机视觉"
   ]
  },
  {
   "cell_type": "markdown",
   "metadata": {},
   "source": [
    "- 图片识别\n",
    "- 目标检测\n",
    "- 语义分割\n",
    "- 视频理解\n",
    "- 图片生成"
   ]
  },
  {
   "cell_type": "markdown",
   "metadata": {},
   "source": [
    "- 艺术风格迁移\n",
    "- 超分辨率\n",
    "- 图片去噪/去雾\n",
    "- 灰度图片着色"
   ]
  },
  {
   "cell_type": "markdown",
   "metadata": {},
   "source": [
    "图片识别(Image Classification) 是常见的分类问题。神经网络的输入为图片数据，输出\n",
    "值为当前样本属于每个类别的概率分布。通常选取概率值最大的类别作为样本的预测类\n",
    "别。图片识别是最早成功应用深度学习的任务之一，经典的网络模型有 VGG 系列、\n",
    "Inception 系列、ResNet 系列等。"
   ]
  },
  {
   "cell_type": "markdown",
   "metadata": {},
   "source": [
    "目标检测(Object Detection) 是指通过算法自动检测出图片中常见物体的大致位置，通\n",
    "常用边界框(Bounding box)表示，并分类出边界框中物体的类别信息。常\n",
    "见的目标检测算法有 RCNN、Fast RCNN、Faster RCNN、Mask RCNN、SSD、YOLO 系列\n",
    "等。"
   ]
  },
  {
   "cell_type": "markdown",
   "metadata": {},
   "source": [
    "语义分割(Semantic Segmentation) 是通过算法自动分割并识别出图片中的内容，可以\n",
    "将语义分割理解为每个像素点的分类问题，分析每个像素点的物体的类别信息，如图 1.16\n",
    "所示。常见的语义分割模型有 FCN、U-net、SegNet、DeepLab 系列等。"
   ]
  },
  {
   "cell_type": "markdown",
   "metadata": {},
   "source": [
    "视频理解(Video Understanding) 随着深度学习在 2D 图片的相关任务上取得较好的效\n",
    "果，具有时间维度信息的 3D 视频理解任务受到越来越多的关注。常见的视频理解任务有\n",
    "视频分类、行为检测、视频主体抽取等。常用的模型有 C3D、TSN、DOVF、TS_LSTM\n",
    "等。\n"
   ]
  },
  {
   "cell_type": "markdown",
   "metadata": {},
   "source": [
    "图片生成(Image Generation) 通过学习真实图片的分布，并从学习到的分布中采样而获\n",
    "得逼真度较高的生成图片。目前常见的生成模型有 VAE 系列、GAN 系列等。其中 GAN 系\n",
    "列算法近年来取得了巨大的进展，最新 GAN 模型产生的图片效果达到了肉眼难辨真伪的\n",
    "程度"
   ]
  },
  {
   "cell_type": "markdown",
   "metadata": {},
   "source": [
    "#### 自然语言处理 "
   ]
  },
  {
   "cell_type": "markdown",
   "metadata": {},
   "source": [
    "机器翻译(Machine Translation) 过去的机器翻译算法通常是基于统计机器翻译模型，这\n",
    "也是 2016 年前 Google 翻译系统采用的技术。2016 年 11 月，Google 基于 Seq2Seq 模型上\n",
    "线了 Google 神经机器翻译系统(GNMT)，首次实现了源语言到目标语言的直译技术，在多\n",
    "项任务上获得了 50~90%的效果提升。常用的机器翻译模型有 Seq2Seq、BERT、GPT、\n",
    "GPT-2 等，其中 OpenAI 提出的 GPT-2 模型参数量高达 15 亿个，甚至发布之初以技术安全\n",
    "考虑为由拒绝开源 GPT-2 模型。\n"
   ]
  },
  {
   "cell_type": "markdown",
   "metadata": {},
   "source": [
    "聊天机器人(Chatbot) 聊天机器人也是自然语言处理的一项主流任务，机器自动学习与\n",
    "人类对话，对于人类的简单诉求提供满意的自动回复，提高客户的服务效率和服务质量\n",
    "等。常用在咨询服务、娱乐系统、智能家居"
   ]
  },
  {
   "cell_type": "markdown",
   "metadata": {},
   "source": [
    "#### 强化学习"
   ]
  },
  {
   "cell_type": "markdown",
   "metadata": {},
   "source": [
    "虚拟游戏 相对于真实环境，虚拟游戏平台既可以训练、测试强化学习算法，又可以避\n",
    "免无关因素干扰，同时也能将实验代价降到最低。目前常用的虚拟游戏平台有 OpenAI \n",
    "Gym、OpenAI Universe、OpenAI Roboschool、DeepMind OpenSpiel、MuJoCo 等，常用的\n",
    "强化学习算法有 DQN、A3C、A2C、PPO 等。在围棋领域，DeepMind AlaphGo 程序已经\n",
    "超越人类围棋专家；在 Dota2 和星际争霸游戏上，OpenAI 和 DeepMind 开发的智能程序也\n",
    "在限制规则下战胜了职业队伍。\n"
   ]
  },
  {
   "cell_type": "markdown",
   "metadata": {},
   "source": [
    "机器人(Robotics) 在真实环境中，机器人的控制也取得了一定的进展。如 UC Berkeley\n",
    "实验室在机器人领域的 Imitation Learning、Meta Learning、Few-shot Learning 等方向上取得\n",
    "了不少进展。美国波士顿动力公司在机器人应用中取得喜人的成就，其制造的机器人在复\n",
    "杂地形行走、多智能体协作等任务上表现良好。 \n"
   ]
  },
  {
   "cell_type": "markdown",
   "metadata": {},
   "source": [
    "自动驾驶(Autonomous Driving) 被认为是强化学习短期内能技术落地的一个应用方\n",
    "向，很多公司投入大量资源在自动驾驶上，如百度、Uber、Google 无人车等，其中百度的\n",
    "无人巴士“阿波龙”已经在北京、雄安、武汉等地展开试运营。"
   ]
  },
  {
   "cell_type": "markdown",
   "metadata": {},
   "source": [
    "#### 商业智能(BI)"
   ]
  },
  {
   "cell_type": "markdown",
   "metadata": {},
   "source": [
    "为提高企业经营绩效而采用的一系列方法、技术和软件的总和。通常被理解为将企业中的现有数据转换为知识并帮助企业做出明智的业务决策的工具。"
   ]
  },
  {
   "cell_type": "markdown",
   "metadata": {},
   "source": [
    "## 2.回归问题 "
   ]
  },
  {
   "cell_type": "markdown",
   "metadata": {},
   "source": [
    "- 回归问题：对样本集合$D=(x^{(1)},y^{(1)}),(x^{(2)},y^{(2)}),……,(x^{(n)},y^{(n)})$ ，寻找一条最好的曲线，使它尽可能让所有采样点到该曲线的误差最小。\n",
    "- 优化方法：$$w^*,b^*=argmin_{w,b}{\\frac {1}{n}{\\sum _{i=1}^{n}{(wx^{(i)}+b-y^{(i)})^2}}}$$"
   ]
  },
  {
   "cell_type": "markdown",
   "metadata": {},
   "source": [
    "梯度下降算法(Gradient Descent)是神经网络训练中最常用的优化算法，配合\n",
    "强大的图形处理芯片 GPU(Graphics Processing Unit)的并行加速能力，非常适合优化海量数\n",
    "据的神经网络模型，自然也适合优化我们这里的神经元线性模型。这里先简单地应用梯度\n",
    "下降算法，用于解决神经元模型预测的问题。由于梯度下降算法是深度学习的核心算法，\n",
    "我们将在第 7 章非常详尽地推导梯度下降算法在神经网络中的应用，这里先给读者第一印\n",
    "象。"
   ]
  },
  {
   "cell_type": "markdown",
   "metadata": {},
   "source": [
    "**Question 2.1:在机器学习算法中为什么经常求导数？**"
   ]
  },
  {
   "cell_type": "markdown",
   "metadata": {},
   "source": [
    "Ans:"
   ]
  },
  {
   "cell_type": "markdown",
   "metadata": {},
   "source": [
    "$$f(x)=x^2*sin(x)$$"
   ]
  },
  {
   "cell_type": "code",
   "execution_count": 1,
   "metadata": {
    "scrolled": true
   },
   "outputs": [
    {
     "data": {
      "image/png": "[encoded data removed]",
      "text/plain": [
       "<Figure size 432x288 with 1 Axes>"
      ]
     },
     "metadata": {
      "needs_background": "light"
     },
     "output_type": "display_data"
    }
   ],
   "source": [
    "import matplotlib.pyplot as plt\n",
    "import numpy as np\n",
    "\n",
    "x=np.linspace(-10,10,100)\n",
    "y=x**2*np.sin(x) \n",
    "\n",
    "dy=np.diff(y)/np.diff(x)\n",
    "\n",
    "plt.figure()\n",
    "plt.plot(x,y) \n",
    "plt.plot(x[0:len(x)-1],dy,'--') \n",
    "plt.hlines(0,-10,10,linestyles='--',colors='r')\n",
    "plt.legend(['y','dy'])\n",
    "plt.show() "
   ]
  },
  {
   "cell_type": "markdown",
   "metadata": {},
   "source": [
    "从上图可以看到，蓝色是$f(x)$波形，橙色是其导数$dy$的波形，红色是零刻度线。原始波形的极值点都是其导数的零点，因此在我们求解极值点可以通过求解导数的零点"
   ]
  },
  {
   "cell_type": "markdown",
   "metadata": {},
   "source": [
    "因此在对损失函数求解最小值的过程中，我们就可以不断进行更新参数，每次确保都达到极值。"
   ]
  },
  {
   "cell_type": "markdown",
   "metadata": {},
   "source": [
    "$$f(x,y)=-(cos^2(x)+cos^2(y))^2$$"
   ]
  },
  {
   "cell_type": "markdown",
   "metadata": {},
   "source": [
    "$$df(x,y)/dx=-2*(cos^2(x)+cos^2(y))*(-2*cos(x)*sin(x))$$ \n",
    "$$df(x,y)/dy=-2*(cos^2(x)+cos^2(y))*(-2*cos(y)*sin(y))$$ "
   ]
  },
  {
   "cell_type": "code",
   "execution_count": 2,
   "metadata": {
    "scrolled": true
   },
   "outputs": [
    {
     "data": {
      "image/png": "[encoded data removed]",
      "text/plain": [
       "<Figure size 432x288 with 1 Axes>"
      ]
     },
     "metadata": {
      "needs_background": "light"
     },
     "output_type": "display_data"
    }
   ],
   "source": [
    "import matplotlib as mpl \n",
    "from mpl_toolkits.mplot3d import Axes3D \n",
    "from sympy import *\n",
    "\n",
    "x=np.linspace(-2,2,20)\n",
    "y=np.linspace(-2,2,20) \n",
    "z=-(np.cos(x)**2+np.cos(y)**2)**2\n",
    "\n",
    "#x_s, y_s = symbols('x, y')\n",
    "#dx = diff(z, x_s) \n",
    "#dy = diff(z, y_s)\n",
    "\n",
    "X,Y=np.meshgrid(x,y)  \n",
    "Z=-(np.cos(X)**2+np.cos(Y)**2)**2  \n",
    "\n",
    "fig = plt.figure() \n",
    "ax = fig.gca(projection='3d')\n",
    "ax.plot_surface(X,Y,Z)   \n",
    "plt.show()  "
   ]
  },
  {
   "cell_type": "markdown",
   "metadata": {},
   "source": [
    "### 基于梯度下降 线性模型实战"
   ]
  },
  {
   "cell_type": "markdown",
   "metadata": {},
   "source": [
    "在介绍了用于优化𝑤和𝑏的梯度下降算法后，我们来实战训练单输入神经元线性模型。\n",
    "首先我们需要采样自真实模型的多组数据，对于已知真实模型的玩具样例(Toy Example)，\n",
    "我们直接从指定的𝑤 = 1. , 𝑏 = . 的真实模型中直接采样："
   ]
  },
  {
   "cell_type": "markdown",
   "metadata": {},
   "source": [
    "$$y=1.477x+0.089$$ "
   ]
  },
  {
   "cell_type": "markdown",
   "metadata": {},
   "source": [
    "- 采样数据"
   ]
  },
  {
   "cell_type": "markdown",
   "metadata": {},
   "source": [
    "为了能够很好地模拟真实样本的观测误差，我们给模型添加误差自变量𝜖，它采样自均\n",
    "值为 0，标准差为 0.01 的高斯分布："
   ]
  },
  {
   "cell_type": "code",
   "execution_count": 3,
   "metadata": {},
   "outputs": [],
   "source": [
    "data=[]\n",
    "for i in range(100):\n",
    "    x=np.random.uniform(-10,10)\n",
    "    eps=np.random.normal(0,0.01)\n",
    "    \n",
    "    y=1.477*x+0.089+eps\n",
    "    \n",
    "    data.append([x,y])\n",
    "    \n",
    "data=np.array(data) "
   ]
  },
  {
   "cell_type": "markdown",
   "metadata": {},
   "source": [
    "**计算误差**"
   ]
  },
  {
   "cell_type": "markdown",
   "metadata": {},
   "source": [
    "总体误差是每个样本点的误差累计，我们误差用均方根误差：\n",
    "$$L={\\frac {1}{n}{\\sum _{i=1}^{n}{(wx^{(i)}+b-y^{(i)})^2}}}$$"
   ]
  },
  {
   "cell_type": "code",
   "execution_count": 4,
   "metadata": {},
   "outputs": [],
   "source": [
    "def mse(w,b,points):\n",
    "    totalError=0\n",
    "    for i in range(len(points)):\n",
    "        x=points[i,0]\n",
    "        y=points[i,1] \n",
    "        totalError=totalError+(y-w*x-b)**2\n",
    "    return totalError/float(len(points))"
   ]
  },
  {
   "cell_type": "markdown",
   "metadata": {},
   "source": [
    "**计算梯度**"
   ]
  },
  {
   "cell_type": "markdown",
   "metadata": {},
   "source": [
    "梯度指示我们如何快速准确进行参数更新，向损失函数最小的方向前进。"
   ]
  },
  {
   "cell_type": "markdown",
   "metadata": {},
   "source": [
    "梯度下降需要我们在一组$(w,b)$下，计算出函数在每一个点$(x_i,y_i)$上的梯度信息从而求解出整体的平均梯度信息：$(\\frac {\\partial L}{\\partial w},\\frac {\\partial L}{\\partial b})$ "
   ]
  },
  {
   "cell_type": "markdown",
   "metadata": {},
   "source": [
    "$$\\frac {\\partial L}{\\partial w}=\\frac {{\\partial \\frac {1}{n}{\\sum _{i=1}^{n}{(wx^{(i)}+b-y^{(i)})^2}}}}{\\partial w}={\\frac {2}{n}{\\sum _{i=1}^{n}{(wx^{(i)}+b-y^{(i)})\\cdot x^{(i)}}}}$$"
   ]
  },
  {
   "cell_type": "markdown",
   "metadata": {},
   "source": [
    "$$\\frac {\\partial L}{\\partial b}=\\frac {{\\partial \\frac {1}{n}{\\sum _{i=1}^{n}{(wx^{(i)}+b-y^{(i)})^2}}}}{\\partial b}={\\frac {2}{n}{\\sum _{i=1}^{n}{(wx^{(i)}+b-y^{(i)})}}}$$"
   ]
  },
  {
   "cell_type": "markdown",
   "metadata": {},
   "source": [
    "$$w_{new}=w_{current}-Ir*\\frac {\\partial L}{\\partial w}$$"
   ]
  },
  {
   "cell_type": "markdown",
   "metadata": {},
   "source": [
    "$$b_{new}=b_{current}-Ir*\\frac {\\partial L}{\\partial b}$$ \n"
   ]
  },
  {
   "cell_type": "markdown",
   "metadata": {},
   "source": [
    "因此我们只需要计算在每一个点上面的(𝑤𝑥\n",
    "(𝑖) + 𝑏 − 𝑦\n",
    "(𝑖)\n",
    ") ∙\n",
    "𝑥\n",
    "(𝑖)和(𝑤𝑥\n",
    "(𝑖) + 𝑏 − 𝑦\n",
    "(𝑖)\n",
    ")值，平均后即可得到偏导数 "
   ]
  },
  {
   "cell_type": "code",
   "execution_count": 5,
   "metadata": {},
   "outputs": [],
   "source": [
    "def step_gradient(w,b,points,lr):\n",
    "    \n",
    "    w_gradient=0\n",
    "    b_gradient=0\n",
    "    M=float(len(points))\n",
    "    \n",
    "    for i in range(len(points)):\n",
    "        x=points[i,0]\n",
    "        y=points[i,1] \n",
    "                \n",
    "        w_gradient=w_gradient+(2/M)*x*(w*x+b-y)\n",
    "        b_gradient=b_gradient+(2/M)*(w*x+b-y)\n",
    "        \n",
    "    new_w=w-(Ir*w_gradient)\n",
    "    new_b=b-(Ir*b_gradient)\n",
    "    \n",
    "    return [new_w,new_b] "
   ]
  },
  {
   "cell_type": "markdown",
   "metadata": {},
   "source": [
    "**梯度更新** "
   ]
  },
  {
   "cell_type": "markdown",
   "metadata": {},
   "source": [
    "在计算出误差函数在w和b的梯度后，结合学习速度更新w和b的值。我们把对数据集的所有样本训练一次成为一个Epoch，共循环迭代num_iterations个Epoch。"
   ]
  },
  {
   "cell_type": "code",
   "execution_count": 6,
   "metadata": {},
   "outputs": [],
   "source": [
    "def gradient_descent(points,starting_w,starting_b,Ir,num_iterations):\n",
    "    \n",
    "    w=starting_w\n",
    "    b=starting_b\n",
    "    \n",
    "    LOSS=[]\n",
    "    for step in range(num_iterations):\n",
    "        \n",
    "        w,b=step_gradient(w,b,points,Ir)\n",
    "        loss=mse(w,b,points)\n",
    "        LOSS.append(loss)\n",
    "        if(step%50==0):\n",
    "            print(\"iteration:%s,loss:%s,w:%s,b:%s\"%(step,loss,w,b)) \n",
    "            \n",
    "    ax=plt.subplot(1,1,1)\n",
    "    ax.plot(LOSS)\n",
    "    ax.set_xlabel('Epoch')\n",
    "    ax.set_ylabel('LOSS')\n",
    "    plt.show() \n",
    "    return [w,b] "
   ]
  },
  {
   "cell_type": "markdown",
   "metadata": {},
   "source": [
    "**主函数**"
   ]
  },
  {
   "cell_type": "code",
   "execution_count": 7,
   "metadata": {},
   "outputs": [
    {
     "name": "stdout",
     "output_type": "stream",
     "text": [
      "iteration:0,loss:7.758123678377829,w:0.9927039002873065,b:-0.03773451133649564\n",
      "iteration:50,loss:0.003092355275865898,w:1.4748955895708002,b:0.03261852515541318\n",
      "iteration:100,loss:0.0005367695942329155,w:1.4763098159135961,b:0.06723456557442425\n",
      "iteration:150,loss:0.00015789172955616107,w:1.4768543477999951,b:0.08056308111583495\n",
      "iteration:200,loss:0.00010172126445545936,w:1.4770640136549804,b:0.08569507554348363\n",
      "iteration:250,loss:9.339372293407628e-05,w:1.4771447431252736,b:0.08767109205661962\n",
      "iteration:300,loss:9.215912486432427e-05,w:1.4771758270963584,b:0.08843193490538606\n",
      "iteration:350,loss:9.197608976447885e-05,w:1.4771877956284805,b:0.08872488885423767\n",
      "iteration:400,loss:9.194895393088518e-05,w:1.477192403976647,b:0.08883768746473507\n",
      "iteration:450,loss:9.19449309130844e-05,w:1.4771941783690792,b:0.08888111929618846\n",
      "iteration:500,loss:9.194433448135223e-05,w:1.4771948615788522,b:0.08889784223253573\n",
      "iteration:550,loss:9.194424605747958e-05,w:1.4771951246410617,b:0.088904281210371\n",
      "iteration:600,loss:9.194423294821542e-05,w:1.4771952259301953,b:0.08890676046608907\n",
      "iteration:650,loss:9.194423100470588e-05,w:1.4771952649304327,b:0.08890771507551204\n",
      "iteration:700,loss:9.194423071656921e-05,w:1.4771952799470338,b:0.08890808263709267\n",
      "iteration:750,loss:9.194423067385395e-05,w:1.4771952857290065,b:0.08890822416252944\n",
      "iteration:800,loss:9.194423066751913e-05,w:1.4771952879552899,b:0.08890827865530102\n",
      "iteration:850,loss:9.194423066658016e-05,w:1.477195288812495,b:0.08890829963712746\n",
      "iteration:900,loss:9.194423066644329e-05,w:1.4771952891425524,b:0.08890830771594287\n",
      "iteration:950,loss:9.194423066642135e-05,w:1.4771952892696372,b:0.0889083108265995\n"
     ]
    },
    {
     "data": {
      "image/png": "[encoded data removed]",
      "text/plain": [
       "<Figure size 432x288 with 1 Axes>"
      ]
     },
     "metadata": {
      "needs_background": "light"
     },
     "output_type": "display_data"
    },
    {
     "name": "stdout",
     "output_type": "stream",
     "text": [
      "Final loss:71.99843090222419, w:0.08890831200987064, b:1.4771952893179792\n"
     ]
    }
   ],
   "source": [
    "Ir=0.01\n",
    "initial_b=0\n",
    "initial_w=0\n",
    "num_iterations=1000\n",
    "[b,w]=gradient_descent(data,initial_w,initial_b,Ir,num_iterations) \n",
    "loss = mse(w, b, data)\n",
    "print(f'Final loss:{loss}, w:{w}, b:{b}')"
   ]
  },
  {
   "cell_type": "markdown",
   "metadata": {},
   "source": [
    "简单回顾一下我们的探索之路：首先假设𝑛个输入的生物神经元的数学模型为线性模\n",
    "型之后，只采样𝑛 + 1个数据点就可以估计线性模型的参数𝒘和𝑏。引入观测误差后，通过\n",
    "梯度下降算法，我们可以采样多组数据点循环优化得到𝒘和𝑏的数值解。"
   ]
  },
  {
   "cell_type": "markdown",
   "metadata": {},
   "source": [
    "对于预测值是连续的实数范围，或\n",
    "者属于某一段连续的实数区间，我们把这种问题称为回归(Regression)问题。特别地，如果\n",
    "使用线性模型去逼近真实模型，那么我们把这一类方法叫做线性回归(Linear Regression，\n",
    "简称 LR)，线性回归是回归问题中的一种具体的实现。"
   ]
  },
  {
   "cell_type": "markdown",
   "metadata": {},
   "source": [
    "## 3.分类问题"
   ]
  },
  {
   "cell_type": "markdown",
   "metadata": {},
   "source": [
    "我们将以数字图片识别为例，探索如何用机器学习的方法去解决这个问题。"
   ]
  },
  {
   "cell_type": "markdown",
   "metadata": {},
   "source": [
    "MNIST:60000+10000，28*28，灰度值"
   ]
  },
  {
   "cell_type": "code",
   "execution_count": 8,
   "metadata": {},
   "outputs": [],
   "source": [
    "import os\n",
    "import tensorflow as tf\n",
    "from tensorflow import keras \n",
    "from tensorflow.keras import layers,optimizers,datasets"
   ]
  },
  {
   "cell_type": "code",
   "execution_count": 9,
   "metadata": {},
   "outputs": [
    {
     "name": "stdout",
     "output_type": "stream",
     "text": [
      "(60000, 28, 28)\n",
      "(60000, 10)\n"
     ]
    }
   ],
   "source": [
    "(x,y),(x_val,y_val)=datasets.mnist.load_data()  \n",
    "x_input=2*tf.convert_to_tensor(x,dtype=tf.float32)/255-1\n",
    "y_output=tf.one_hot(y,depth=10)\n",
    "print(x_input.shape)\n",
    "print(y_output.shape) "
   ]
  },
  {
   "cell_type": "code",
   "execution_count": 10,
   "metadata": {},
   "outputs": [],
   "source": [
    "train_dataset=tf.data.Dataset.from_tensor_slices((x_input,y_output))\n",
    "train_dataset=train_dataset.batch(512)"
   ]
  },
  {
   "cell_type": "markdown",
   "metadata": {},
   "source": [
    "每一张图片的计算流程是通用的，我们在计算的过程中可以一次进行多张图片的计算，充分利用 CPU 或 GPU 的并行计算能力。我们用形状为[ℎ, 𝑤]的矩阵来表示一张图片，对于多张图片来说，我们在前面添加一个**数量维度(Dimension)**，使用形状为[𝑏, ℎ, 𝑤]的张量来表示，其中𝑏代表了批量(Batch Size)；多张彩色图片可以使用形状为[𝑏, ℎ, 𝑤, 𝑐]的张量来表示，其中**𝑐表示通道数量**(Channel)，彩色图片𝑐 = 3。**通过 TensorFlow 的 Dataset 对象可以方便完成模型的批量训练，只需要调用 batch()函数即可构建带 batch 功能的数据集对象**  "
   ]
  },
  {
   "cell_type": "markdown",
   "metadata": {},
   "source": [
    "### 3.1 基础知识"
   ]
  },
  {
   "cell_type": "markdown",
   "metadata": {},
   "source": [
    "在真正介绍应用之前，首先介绍一些神经网络的基础知识"
   ]
  },
  {
   "cell_type": "markdown",
   "metadata": {},
   "source": [
    "**非线性模型：激活函数**\n"
   ]
  },
  {
   "cell_type": "markdown",
   "metadata": {},
   "source": [
    "- Sigmoid函数"
   ]
  },
  {
   "cell_type": "markdown",
   "metadata": {},
   "source": [
    "$$f(x)=\\frac {1}{1+e^{-z}}$$"
   ]
  },
  {
   "cell_type": "code",
   "execution_count": 11,
   "metadata": {},
   "outputs": [
    {
     "data": {
      "image/png": "[encoded data removed]",
      "text/plain": [
       "<Figure size 432x288 with 1 Axes>"
      ]
     },
     "metadata": {
      "needs_background": "light"
     },
     "output_type": "display_data"
    }
   ],
   "source": [
    "z=np.linspace(-6,6,100)\n",
    "y=1/(1+np.exp(-(z)))\n",
    "ax=plt.subplot(111)\n",
    "ax.plot(z,y,'r')\n",
    "plt.vlines(0,0,1,linestyles='--')\n",
    "plt.hlines(0.5,-10,10,linestyles='--')\n",
    "plt.show() "
   ]
  },
  {
   "cell_type": "markdown",
   "metadata": {},
   "source": [
    "- Rule函数"
   ]
  },
  {
   "cell_type": "markdown",
   "metadata": {},
   "source": [
    "$$f(x)=\\begin{cases}\n",
    "0& \\text{x<0}\\\\\n",
    "x& \\text{x>0}\n",
    "\\end{cases}$$ "
   ]
  },
  {
   "cell_type": "code",
   "execution_count": 12,
   "metadata": {},
   "outputs": [
    {
     "data": {
      "image/png": "[encoded data removed]",
      "text/plain": [
       "<Figure size 432x288 with 1 Axes>"
      ]
     },
     "metadata": {
      "needs_background": "light"
     },
     "output_type": "display_data"
    }
   ],
   "source": [
    "z=np.linspace(-6,6,100)\n",
    "y=[]\n",
    "for i in z:\n",
    "    if(i<0):\n",
    "        y.append(0)\n",
    "    else:\n",
    "        y.append(i)\n",
    "y=np.array(y)\n",
    "ax=plt.subplot(111)\n",
    "ax.plot(z,y,'r')\n",
    "plt.vlines(0,0,6,linestyles='--')\n",
    "plt.hlines(0,-6,6,linestyles='--')\n",
    "plt.show()  "
   ]
  },
  {
   "cell_type": "markdown",
   "metadata": {},
   "source": [
    "ReLU 函数非常简单，在𝑦 = 𝑥的基础上面截去了𝑥 < 0的部分，可以直观地理解为\n",
    "ReLU 函数仅保留正的输入部份，清零负的输入，具有单边抑制特性。虽然简单，ReLU 函\n",
    "数却有优良的非线性特性，而且梯度计算简单，训练稳定，是深度学习模型使用最广泛的\n",
    "激活函数之一。"
   ]
  },
  {
   "cell_type": "markdown",
   "metadata": {},
   "source": [
    "**表达能力**"
   ]
  },
  {
   "cell_type": "markdown",
   "metadata": {},
   "source": [
    "针对于模型的表达能力偏弱的问题，可以通过重复堆叠多次变换来增加其表达能力"
   ]
  },
  {
   "cell_type": "markdown",
   "metadata": {},
   "source": [
    "**优化方法**"
   ]
  },
  {
   "cell_type": "markdown",
   "metadata": {},
   "source": [
    "对于仅一层的网络模型，如线性回归的模型，我们可以直接推导出𝜕ℒ𝜕𝑤和𝜕ℒ𝜕𝑏的偏导数表\n",
    "达式，然后直接计算每一步的梯度，根据梯度更新法则循环更新𝑤和𝑏参数即可。但是，当\n",
    "网络层数增加、数据特征长度增大以及添加复杂的非线性函数之后，模型的表达式将变得\n",
    "非常复杂，很难手动推导出模型和梯度的计算公式。而且一旦网络结构发生变动，网络的\n",
    "模型函数也随之发生改变，依赖手动计算梯度的方式显然不可行。"
   ]
  },
  {
   "cell_type": "markdown",
   "metadata": {},
   "source": [
    "这个时候就是深度学习框架发明的意义所在，借助于自动求导(Autograd)技术，深度学习框架在计算神经网络每层的输出以及损失函数的过程中，会构建神经网络的计算图模型，并自动完成任意参数𝜃的偏导数𝜕ℒ𝜕𝜃的计算，用户只需要搭建出网络结构，梯度将自动完成计算和更新，使用起来非常便捷高效。"
   ]
  },
  {
   "cell_type": "markdown",
   "metadata": {},
   "source": [
    "### 3.2手写数字初体验"
   ]
  },
  {
   "cell_type": "markdown",
   "metadata": {},
   "source": [
    "对于第一层模型来说，它接受的输入$𝒙 ∈ 𝑅^{784}$，输出$𝒉1 ∈ 𝑅^{256}$设计为长度为 256 的向量，我们不需要显式地编写$𝒉1 = ReLU(𝑾_1𝒙 + 𝒃_1)$的计算逻辑，在 TensorFlow 中通过一行代码即可实现："
   ]
  },
  {
   "cell_type": "markdown",
   "metadata": {},
   "source": [
    "    layers.Dense(256,activation='relu')"
   ]
  },
  {
   "cell_type": "markdown",
   "metadata": {},
   "source": [
    "使用 TensorFlow 的 Sequential 容器可以非常方便地搭建多层的网络。对于 3 层网络，我们\n",
    "可以通过快速完成 3 层网络的搭建。\n"
   ]
  },
  {
   "cell_type": "code",
   "execution_count": 13,
   "metadata": {},
   "outputs": [],
   "source": [
    "model=keras.Sequential()\n",
    "model.add(layers.Dense(256,activation='relu'))\n",
    "model.add(layers.Dense(128,activation='relu'))\n",
    "model.add(layers.Dense(10,activation='linear'))"
   ]
  },
  {
   "cell_type": "code",
   "execution_count": 14,
   "metadata": {},
   "outputs": [],
   "source": [
    "with tf.GradientTape() as tape:\n",
    "    \n",
    "    #拉平操作：[batch,28,28]->[batch,784]\n",
    "    x=tf.reshape(x_input,(-1,28*28))\n",
    "    \n",
    "    #得到模型输出output: [batch,784]->[batch,10]\n",
    "    out=model(x)\n",
    "    \n",
    "    #计算差的平方 [b,10]\n",
    "    loss = tf.square(out-y_output)\n",
    "    \n",
    "    #计算每个样本的平均误差\n",
    "    loss = tf.reduce_sum(loss) / x.shape[0] "
   ]
  },
  {
   "cell_type": "code",
   "execution_count": 15,
   "metadata": {},
   "outputs": [],
   "source": [
    "grads = tape.gradient(loss, model.trainable_variables) "
   ]
  },
  {
   "cell_type": "code",
   "execution_count": 19,
   "metadata": {},
   "outputs": [
    {
     "ename": "AttributeError",
     "evalue": "module 'tensorflow.keras.optimizers' has no attribute 'apply_gradients'",
     "output_type": "error",
     "traceback": [
      "\u001b[1;31m---------------------------------------------------------------------------\u001b[0m",
      "\u001b[1;31mAttributeError\u001b[0m                            Traceback (most recent call last)",
      "\u001b[1;32m<ipython-input-19-a760a80bcd50>\u001b[0m in \u001b[0;36m<module>\u001b[1;34m\u001b[0m\n\u001b[1;32m----> 1\u001b[1;33m \u001b[0moptimizers\u001b[0m\u001b[1;33m.\u001b[0m\u001b[0mapply_gradients\u001b[0m\u001b[1;33m(\u001b[0m\u001b[0mzip\u001b[0m\u001b[1;33m(\u001b[0m\u001b[0mgrads\u001b[0m\u001b[1;33m,\u001b[0m \u001b[0mmodel\u001b[0m\u001b[1;33m.\u001b[0m\u001b[0mtrainable_variables\u001b[0m\u001b[1;33m)\u001b[0m\u001b[1;33m)\u001b[0m\u001b[1;33m\u001b[0m\u001b[1;33m\u001b[0m\u001b[0m\n\u001b[0m",
      "\u001b[1;31mAttributeError\u001b[0m: module 'tensorflow.keras.optimizers' has no attribute 'apply_gradients'"
     ]
    }
   ],
   "source": [
    "optimizers.apply_gradients(zip(grads, model.trainable_variables))"
   ]
  },
  {
   "cell_type": "markdown",
   "metadata": {},
   "source": [
    "## 4.Tensorflow基础"
   ]
  },
  {
   "cell_type": "markdown",
   "metadata": {},
   "source": [
    "- Twansorflow是一个面向深度学习算法的科学计算库，内部数据保存在张量（Tensorflow）对象上，虽有的张量也都是基于张量进行。\n",
    "- 复杂的神经网络算法本质上就是各种张量相乘、相加等基本运算组合。\n",
    "- 熟练掌握TensorFlow张量的基础操作方法十分重要，只有掌握这些操作方法，才能随心所欲实现各种复杂的新奇模型，才能深刻理解各种模型算法的本质。"
   ]
  },
  {
   "cell_type": "markdown",
   "metadata": {},
   "source": [
    "### 4.1数据类型"
   ]
  },
  {
   "cell_type": "markdown",
   "metadata": {},
   "source": [
    "数字类型、字符串类型、布尔类型"
   ]
  },
  {
   "cell_type": "markdown",
   "metadata": {},
   "source": [
    "#### 4.1.1 数值类型"
   ]
  },
  {
   "cell_type": "markdown",
   "metadata": {},
   "source": [
    "按照维度划分：\n",
    "- 标量(Scalar):例如1，2，3维度(Dimension)为0\n",
    "- 向量(Vecror)：例如$[1,2]$,Dimension为1\n",
    "- 矩阵(Matrix)：n行m列矩阵，Dimension为2\n",
    "- 张量(Tensor)：Dimension>2，例如$shape=[2,32,32,3]$,该张量为4个维度，如果表示图片，每个维度分别代表图片数量，图片高度，图片宽度，图片通道数。"
   ]
  },
  {
   "cell_type": "markdown",
   "metadata": {},
   "source": [
    "创建方法："
   ]
  },
  {
   "cell_type": "markdown",
   "metadata": {},
   "source": [
    "标量"
   ]
  },
  {
   "cell_type": "markdown",
   "metadata": {},
   "source": [
    "如果要使用 TensorFlow 提供的功能函数，须通过 TensorFlow 规定的方式去创建张量，而不能使用 Python 语言的标准变量创建方式。"
   ]
  },
  {
   "cell_type": "code",
   "execution_count": 6,
   "metadata": {},
   "outputs": [],
   "source": [
    "import tensorflow as tf\n",
    "import tensorflow"
   ]
  },
  {
   "cell_type": "code",
   "execution_count": 7,
   "metadata": {},
   "outputs": [],
   "source": [
    "a=1.2"
   ]
  },
  {
   "cell_type": "code",
   "execution_count": 8,
   "metadata": {},
   "outputs": [],
   "source": [
    "aa=tf.constant(1.2)"
   ]
  },
  {
   "cell_type": "code",
   "execution_count": 9,
   "metadata": {},
   "outputs": [
    {
     "data": {
      "text/plain": [
       "True"
      ]
     },
     "execution_count": 9,
     "metadata": {},
     "output_type": "execute_result"
    }
   ],
   "source": [
    "type(a) \n",
    "type(aa) \n",
    "tf.is_tensor(aa)"
   ]
  },
  {
   "cell_type": "markdown",
   "metadata": {},
   "source": [
    "向量"
   ]
  },
  {
   "cell_type": "code",
   "execution_count": 10,
   "metadata": {},
   "outputs": [],
   "source": [
    "x=tf.constant([1.1,2.2])"
   ]
  },
  {
   "cell_type": "code",
   "execution_count": 11,
   "metadata": {},
   "outputs": [
    {
     "data": {
      "text/plain": [
       "<tf.Tensor: shape=(2,), dtype=float32, numpy=array([1.1, 2.2], dtype=float32)>"
      ]
     },
     "execution_count": 11,
     "metadata": {},
     "output_type": "execute_result"
    }
   ],
   "source": [
    "x"
   ]
  },
  {
   "cell_type": "code",
   "execution_count": 13,
   "metadata": {
    "scrolled": true
   },
   "outputs": [
    {
     "data": {
      "text/plain": [
       "array([1.1, 2.2], dtype=float32)"
      ]
     },
     "execution_count": 13,
     "metadata": {},
     "output_type": "execute_result"
    }
   ],
   "source": [
    "x.numpy()"
   ]
  },
  {
   "cell_type": "markdown",
   "metadata": {},
   "source": [
    "矩阵"
   ]
  },
  {
   "cell_type": "code",
   "execution_count": 15,
   "metadata": {},
   "outputs": [],
   "source": [
    "x=tf.constant([[1,1],[2,2]])"
   ]
  },
  {
   "cell_type": "code",
   "execution_count": 16,
   "metadata": {},
   "outputs": [
    {
     "data": {
      "text/plain": [
       "<tf.Tensor: shape=(2, 2), dtype=int32, numpy=\n",
       "array([[1, 1],\n",
       "       [2, 2]])>"
      ]
     },
     "execution_count": 16,
     "metadata": {},
     "output_type": "execute_result"
    }
   ],
   "source": [
    "x"
   ]
  },
  {
   "cell_type": "markdown",
   "metadata": {},
   "source": [
    "三维张量"
   ]
  },
  {
   "cell_type": "code",
   "execution_count": 22,
   "metadata": {},
   "outputs": [],
   "source": [
    "x=tf.constant([[[1,2],[2,4],[3,5]]])"
   ]
  },
  {
   "cell_type": "code",
   "execution_count": 23,
   "metadata": {},
   "outputs": [
    {
     "data": {
      "text/plain": [
       "<tf.Tensor: shape=(1, 3, 2), dtype=int32, numpy=\n",
       "array([[[1, 2],\n",
       "        [2, 4],\n",
       "        [3, 5]]])>"
      ]
     },
     "execution_count": 23,
     "metadata": {},
     "output_type": "execute_result"
    }
   ],
   "source": [
    "x"
   ]
  },
  {
   "cell_type": "code",
   "execution_count": 24,
   "metadata": {},
   "outputs": [],
   "source": [
    "x=tf.constant([[[1,2],[2,4],[3,5]],[[1,2],[2,4],[3,5]]]) "
   ]
  },
  {
   "cell_type": "code",
   "execution_count": 25,
   "metadata": {},
   "outputs": [
    {
     "data": {
      "text/plain": [
       "<tf.Tensor: shape=(2, 3, 2), dtype=int32, numpy=\n",
       "array([[[1, 2],\n",
       "        [2, 4],\n",
       "        [3, 5]],\n",
       "\n",
       "       [[1, 2],\n",
       "        [2, 4],\n",
       "        [3, 5]]])>"
      ]
     },
     "execution_count": 25,
     "metadata": {},
     "output_type": "execute_result"
    }
   ],
   "source": [
    "x"
   ]
  },
  {
   "cell_type": "markdown",
   "metadata": {},
   "source": [
    "#### 4.1.2 字符串类型"
   ]
  },
  {
   "cell_type": "markdown",
   "metadata": {},
   "source": [
    "TensorFlow 还支持字符串(String) 类型的数据，例如在\n",
    "表示图片数据时，可以先记录图片的路径字符串，再通过预处理函数根据路径读取图片张\n",
    "量。通过传入字符串对象即可创建字符串类型的张量"
   ]
  },
  {
   "cell_type": "code",
   "execution_count": 26,
   "metadata": {},
   "outputs": [],
   "source": [
    "a = tf.constant('Hello, Deep Learning.') "
   ]
  },
  {
   "cell_type": "code",
   "execution_count": 27,
   "metadata": {},
   "outputs": [
    {
     "data": {
      "text/plain": [
       "<tf.Tensor: shape=(), dtype=string, numpy=b'Hello, Deep Learning.'>"
      ]
     },
     "execution_count": 27,
     "metadata": {},
     "output_type": "execute_result"
    }
   ],
   "source": [
    "a"
   ]
  },
  {
   "cell_type": "markdown",
   "metadata": {},
   "source": [
    "在 tf.strings 模块中，提供了常见的字符串类型的工具函数，小写化、拼接等操作"
   ]
  },
  {
   "cell_type": "code",
   "execution_count": 28,
   "metadata": {},
   "outputs": [
    {
     "data": {
      "text/plain": [
       "<tf.Tensor: shape=(), dtype=string, numpy=b'hello, deep learning.'>"
      ]
     },
     "execution_count": 28,
     "metadata": {},
     "output_type": "execute_result"
    }
   ],
   "source": [
    "tf.strings.lower(a)"
   ]
  },
  {
   "cell_type": "markdown",
   "metadata": {},
   "source": [
    "#### 布尔类型"
   ]
  },
  {
   "cell_type": "code",
   "execution_count": 29,
   "metadata": {},
   "outputs": [],
   "source": [
    "a=tf.constant(True)"
   ]
  },
  {
   "cell_type": "code",
   "execution_count": 30,
   "metadata": {},
   "outputs": [
    {
     "data": {
      "text/plain": [
       "<tf.Tensor: shape=(), dtype=bool, numpy=True>"
      ]
     },
     "execution_count": 30,
     "metadata": {},
     "output_type": "execute_result"
    }
   ],
   "source": [
    "a"
   ]
  },
  {
   "cell_type": "markdown",
   "metadata": {},
   "source": [
    "### 4.2数值精度"
   ]
  },
  {
   "cell_type": "markdown",
   "metadata": {},
   "source": [
    "常用的精度类型有 tf.int16、tf.int32、tf.int64、tf.float16、tf.float32、tf.float64 等，其中 tf.float64 即为 tf.double。"
   ]
  },
  {
   "cell_type": "code",
   "execution_count": 33,
   "metadata": {},
   "outputs": [
    {
     "data": {
      "text/plain": [
       "<tf.Tensor: shape=(), dtype=int16, numpy=-29515>"
      ]
     },
     "execution_count": 33,
     "metadata": {},
     "output_type": "execute_result"
    }
   ],
   "source": [
    "tf.constant(12356789,dtype=tf.int16) #溢出"
   ]
  },
  {
   "cell_type": "code",
   "execution_count": 34,
   "metadata": {},
   "outputs": [
    {
     "data": {
      "text/plain": [
       "<tf.Tensor: shape=(), dtype=int32, numpy=12356789>"
      ]
     },
     "execution_count": 34,
     "metadata": {},
     "output_type": "execute_result"
    }
   ],
   "source": [
    "tf.constant(12356789,dtype=tf.int32) "
   ]
  },
  {
   "cell_type": "markdown",
   "metadata": {},
   "source": [
    "对于大部分深度学习算法，一般使用 tf.int32 和 tf.float32 可满足大部分场合的运算精\n",
    "度要求，部分对精度要求较高的算法，如强化学习某些算法，可以选择使用 tf.int64 和\n",
    "tf.float64 精度保存张量。"
   ]
  },
  {
   "cell_type": "markdown",
   "metadata": {},
   "source": [
    "通过访问张量的 dtype 成员属性可以判断张量的保存精度"
   ]
  },
  {
   "cell_type": "code",
   "execution_count": 35,
   "metadata": {},
   "outputs": [],
   "source": [
    "a=tf.constant(12356789,dtype=tf.int32) "
   ]
  },
  {
   "cell_type": "code",
   "execution_count": 36,
   "metadata": {},
   "outputs": [
    {
     "data": {
      "text/plain": [
       "tf.int32"
      ]
     },
     "execution_count": 36,
     "metadata": {},
     "output_type": "execute_result"
    }
   ],
   "source": [
    "a.dtype"
   ]
  },
  {
   "cell_type": "markdown",
   "metadata": {},
   "source": [
    "系统的每个模块使用的数据类型、数值精度可能各不相同，对于不符合要求的张量的类型和精度，需要通过tf.cast函数进行转换"
   ]
  },
  {
   "cell_type": "code",
   "execution_count": 39,
   "metadata": {},
   "outputs": [],
   "source": [
    "import numpy as np\n",
    "a=tf.constant(np.pi,dtype=tf.float16)"
   ]
  },
  {
   "cell_type": "code",
   "execution_count": 40,
   "metadata": {},
   "outputs": [
    {
     "data": {
      "text/plain": [
       "<tf.Tensor: shape=(), dtype=float64, numpy=3.140625>"
      ]
     },
     "execution_count": 40,
     "metadata": {},
     "output_type": "execute_result"
    }
   ],
   "source": [
    "tf.cast(a,tf.double)"
   ]
  },
  {
   "cell_type": "markdown",
   "metadata": {},
   "source": [
    "### 4.3待优化张量"
   ]
  },
  {
   "cell_type": "markdown",
   "metadata": {},
   "source": [
    "为了区分需要计算梯度信息的张量与不需要计算梯度信息的张量，TensorFlow 增加了\n",
    "一种专门的数据类型来支持梯度信息的记录：tf.Variable。"
   ]
  },
  {
   "cell_type": "markdown",
   "metadata": {},
   "source": [
    "tf.Variable 类型在普通的张量类型基础上添加了 name，trainable 等属性来支持计算图的构建。由于梯度运算会消耗大量的计算资源，而且会自动更新相关参数，对于不需要的优化的张量，如神经网络的输入𝑿，不需要通过 tf.Variable 封装；相反，对于需要计算梯度并优化的张量，如神经网络层的𝑾和𝒃，需要通过 tf.Variable 包裹以便 TensorFlow跟踪相关梯度信息。"
   ]
  },
  {
   "cell_type": "markdown",
   "metadata": {},
   "source": [
    "创建方法包括直接创建和转化创建"
   ]
  },
  {
   "cell_type": "code",
   "execution_count": 42,
   "metadata": {},
   "outputs": [],
   "source": [
    "a = tf.constant([-1, 0, 1, 2])\n",
    "aa = tf.Variable(a)"
   ]
  },
  {
   "cell_type": "code",
   "execution_count": 43,
   "metadata": {},
   "outputs": [],
   "source": [
    "a = tf.Variable([[1,2],[3,4]])"
   ]
  },
  {
   "cell_type": "markdown",
   "metadata": {},
   "source": [
    "### 4.4 创建张量"
   ]
  },
  {
   "cell_type": "markdown",
   "metadata": {},
   "source": [
    "创建方法:\n",
    "- Python列表转换\n",
    "- Numpy数组转换\n",
    "- 张量转换\n",
    "- 直接创建"
   ]
  },
  {
   "cell_type": "markdown",
   "metadata": {},
   "source": [
    "**数组转换**"
   ]
  },
  {
   "cell_type": "markdown",
   "metadata": {},
   "source": [
    "通过 tf.convert_to_tensor 函数可以创建新 Tensor，并将保存在 Python List 对象或者\n",
    "Numpy Array 对象中的数据导入到新 Tensor 中"
   ]
  },
  {
   "cell_type": "code",
   "execution_count": 45,
   "metadata": {},
   "outputs": [
    {
     "data": {
      "text/plain": [
       "<tf.Tensor: shape=(1,), dtype=float32, numpy=array([1.1], dtype=float32)>"
      ]
     },
     "execution_count": 45,
     "metadata": {},
     "output_type": "execute_result"
    }
   ],
   "source": [
    "tf.convert_to_tensor([1.1])"
   ]
  },
  {
   "cell_type": "markdown",
   "metadata": {},
   "source": [
    "需要注意的是：Numpy浮点数数组默认使用64位精度保存数据，转换Tensor类型时精度为tf.float64"
   ]
  },
  {
   "cell_type": "markdown",
   "metadata": {},
   "source": [
    "**直接创建**"
   ]
  },
  {
   "cell_type": "markdown",
   "metadata": {},
   "source": [
    "**创建0，1张量**"
   ]
  },
  {
   "cell_type": "code",
   "execution_count": 49,
   "metadata": {},
   "outputs": [
    {
     "data": {
      "text/plain": [
       "(<tf.Tensor: shape=(2, 2), dtype=float32, numpy=\n",
       " array([[0., 0.],\n",
       "        [0., 0.]], dtype=float32)>,\n",
       " <tf.Tensor: shape=(2, 2), dtype=float32, numpy=\n",
       " array([[1., 1.],\n",
       "        [1., 1.]], dtype=float32)>)"
      ]
     },
     "execution_count": 49,
     "metadata": {},
     "output_type": "execute_result"
    }
   ],
   "source": [
    "tf.zeros([2,2]),tf.ones([2,2])"
   ]
  },
  {
   "cell_type": "code",
   "execution_count": 50,
   "metadata": {},
   "outputs": [
    {
     "data": {
      "text/plain": [
       "<tf.Tensor: shape=(3, 2), dtype=float32, numpy=\n",
       "array([[1., 1.],\n",
       "       [1., 1.],\n",
       "       [1., 1.]], dtype=float32)>"
      ]
     },
     "execution_count": 50,
     "metadata": {},
     "output_type": "execute_result"
    }
   ],
   "source": [
    "a = tf.zeros([3,2])\n",
    "tf.ones_like(a) "
   ]
  },
  {
   "cell_type": "markdown",
   "metadata": {},
   "source": [
    "**将张量的数值全部初始化为−1**"
   ]
  },
  {
   "cell_type": "code",
   "execution_count": 52,
   "metadata": {},
   "outputs": [
    {
     "data": {
      "text/plain": [
       "<tf.Tensor: shape=(3, 2), dtype=int32, numpy=\n",
       "array([[-1, -1],\n",
       "       [-1, -1],\n",
       "       [-1, -1]])>"
      ]
     },
     "execution_count": 52,
     "metadata": {},
     "output_type": "execute_result"
    }
   ],
   "source": [
    "tf.fill([3,2], -1)"
   ]
  },
  {
   "cell_type": "markdown",
   "metadata": {},
   "source": [
    "**创建已知分布的张量**"
   ]
  },
  {
   "cell_type": "markdown",
   "metadata": {},
   "source": [
    "正态分布(Normal Distribution，或 Gaussian Distribution)和均匀分布(Uniform \n",
    "Distribution)是最常见的分布之一，创建采样自这 2 种分布的张量非常有用，比如在卷积神\n",
    "经网络中，卷积核张量𝑾初始化为正态分布有利于网络的训练；在对抗生成网络中，隐藏\n",
    "变量𝒛一般采样自均匀分布。"
   ]
  },
  {
   "cell_type": "markdown",
   "metadata": {},
   "source": [
    "tf.random.normal(shape, mean=0.0, stddev=1.0)"
   ]
  },
  {
   "cell_type": "markdown",
   "metadata": {},
   "source": [
    "tf.random.uniform(shape, minval=0, maxval=None, dtype=tf.float32)"
   ]
  },
  {
   "cell_type": "code",
   "execution_count": 55,
   "metadata": {},
   "outputs": [
    {
     "data": {
      "text/plain": [
       "<tf.Tensor: shape=(2, 2), dtype=float32, numpy=\n",
       "array([[3.7904115, 6.095255 ],\n",
       "       [1.6666274, 1.3980138]], dtype=float32)>"
      ]
     },
     "execution_count": 55,
     "metadata": {},
     "output_type": "execute_result"
    }
   ],
   "source": [
    "tf.random.normal([2,2])\n",
    "tf.random.normal([2,2], mean=1,stddev=2)"
   ]
  },
  {
   "cell_type": "code",
   "execution_count": 56,
   "metadata": {},
   "outputs": [
    {
     "data": {
      "text/plain": [
       "<tf.Tensor: shape=(2, 2), dtype=float32, numpy=\n",
       "array([[5.416875 , 7.614173 ],\n",
       "       [3.6015785, 4.6061587]], dtype=float32)>"
      ]
     },
     "execution_count": 56,
     "metadata": {},
     "output_type": "execute_result"
    }
   ],
   "source": [
    "tf.random.uniform([2,2]) \n",
    "tf.random.uniform([2,2],maxval=10) "
   ]
  },
  {
   "cell_type": "markdown",
   "metadata": {},
   "source": [
    "**创建序列**"
   ]
  },
  {
   "cell_type": "markdown",
   "metadata": {},
   "source": [
    "在循环计算或者对张量进行索引时，经常需要创建一段连续的整型序列，可以通过\n",
    "tf.range()函数实现"
   ]
  },
  {
   "cell_type": "code",
   "execution_count": 57,
   "metadata": {},
   "outputs": [
    {
     "data": {
      "text/plain": [
       "<tf.Tensor: shape=(5,), dtype=int32, numpy=array([1, 3, 5, 7, 9])>"
      ]
     },
     "execution_count": 57,
     "metadata": {},
     "output_type": "execute_result"
    }
   ],
   "source": [
    " tf.range(1,10,delta=2) "
   ]
  },
  {
   "cell_type": "markdown",
   "metadata": {},
   "source": [
    "### 4.4张量的典型应用"
   ]
  },
  {
   "cell_type": "markdown",
   "metadata": {},
   "source": [
    "**标量** "
   ]
  },
  {
   "cell_type": "markdown",
   "metadata": {},
   "source": [
    "标量的一些典型用途是误差值的表示、各种测量指标的表示，比如准确度(Accuracy，简称 acc)，精度(Precision)和召回率等"
   ]
  },
  {
   "cell_type": "markdown",
   "metadata": {},
   "source": [
    "**向量**"
   ]
  },
  {
   "cell_type": "markdown",
   "metadata": {},
   "source": [
    "向量是一种非常常见的数据载体，如在全连接层和卷积神经网络层中，偏置张量𝒃就\n",
    "使用向量来表示。如图 4.2 所示，每个全连接层的输出节点都添加了一个偏置值，把所有\n",
    "输出节点的偏置表示成向量形式：$𝒃 = [𝑏_1, 𝑏_2]^T$。"
   ]
  },
  {
   "cell_type": "markdown",
   "metadata": {},
   "source": [
    "**矩阵**"
   ]
  },
  {
   "cell_type": "markdown",
   "metadata": {},
   "source": [
    "全连接层的批量输入张量𝑿的形状为[𝑏, 𝑑in]，其中𝑏表示输入样本的个数，即 Batch Size，𝑑in表示输入特征的长度。例如特征长度为 4，一共包含 2 个样本的输入可以表示为矩阵："
   ]
  },
  {
   "cell_type": "markdown",
   "metadata": {},
   "source": [
    "**三维张量**"
   ]
  },
  {
   "cell_type": "markdown",
   "metadata": {},
   "source": [
    "三维的张量一个典型应用是表示序列信号，它的格式是："
   ]
  },
  {
   "cell_type": "markdown",
   "metadata": {},
   "source": [
    "$$𝑿 = [𝑏, sequence len, feature len]$$"
   ]
  },
  {
   "cell_type": "markdown",
   "metadata": {},
   "source": [
    "其中𝑏表示序列信号的数量，sequence len 表示序列信号在时间维度上的采样点数或步数，\n",
    "feature len 表示每个点的特征长度。"
   ]
  },
  {
   "cell_type": "markdown",
   "metadata": {},
   "source": [
    "考虑自然语言处理(Natural Language Processing，简称 NLP)中句子的表示，如评价句\n",
    "子的是否为正面情绪的情感分类任务网络，如图 4.3 所示。为了能够方便字符串被神经网\n",
    "络处理，一般将单词通过嵌入层(Embedding Layer)编码为固定长度的向量，比如“a”编码\n",
    "为某个长度 3 的向量，那么 2 个等长(单词数量为 5)的句子序列可以表示为 shape 为[2,5,3]\n",
    "的 3 维张量，其中 2 表示句子个数，5 表示单词数量，3 表示单词向量的长度。"
   ]
  },
  {
   "cell_type": "markdown",
   "metadata": {},
   "source": [
    "**四维张量**"
   ]
  },
  {
   "cell_type": "markdown",
   "metadata": {},
   "source": [
    "四维张量在卷积神经网络中应用非常广泛，它用于保存特征图(Feature maps)数据，格\n",
    "式一般定义为："
   ]
  },
  {
   "cell_type": "markdown",
   "metadata": {},
   "source": [
    "$$[b,h,w,c]$$"
   ]
  },
  {
   "cell_type": "markdown",
   "metadata": {},
   "source": [
    "其中𝑏表示输入样本的数量，ℎ/w分别表示特征图的高/宽，𝑐表示特征图的通道数，部分深\n",
    "度学习框架也会使用[𝑏, 𝑐, ℎ,w]格式的特征图张量，例如 PyTorch。图片数据是特征图的一\n",
    "种，对于含有 RGB 3 个通道的彩色图片，每张图片包含了ℎ行 列像素点，每个点需要 3\n",
    "个数值表示 RGB 通道的颜色强度，因此一张图片可以表示为[ℎ,w ,3]。"
   ]
  },
  {
   "cell_type": "markdown",
   "metadata": {},
   "source": [
    "### 4,5索引和切片"
   ]
  },
  {
   "cell_type": "markdown",
   "metadata": {},
   "source": [
    "**索引**"
   ]
  },
  {
   "cell_type": "markdown",
   "metadata": {},
   "source": [
    "在 TensorFlow 中，支持基本的[𝑖][𝑗]⋯标准索引方式，也支持通过逗号分隔索引号的索\n",
    "引方式。"
   ]
  },
  {
   "cell_type": "code",
   "execution_count": 59,
   "metadata": {},
   "outputs": [],
   "source": [
    "x = tf.random.normal([4,32,32,3])"
   ]
  },
  {
   "cell_type": "markdown",
   "metadata": {},
   "source": [
    "取第一张图片 "
   ]
  },
  {
   "cell_type": "code",
   "execution_count": 61,
   "metadata": {
    "collapsed": true
   },
   "outputs": [
    {
     "data": {
      "text/plain": [
       "<tf.Tensor: shape=(32, 32, 3), dtype=float32, numpy=\n",
       "array([[[-1.2951561 , -0.75427467,  0.10233725],\n",
       "        [ 1.0731182 , -0.47359908, -1.4579206 ],\n",
       "        [-0.61222863, -0.732075  ,  0.09000206],\n",
       "        ...,\n",
       "        [ 0.46759006,  0.25190836,  2.385851  ],\n",
       "        [ 0.43070102,  0.72968036, -2.2558856 ],\n",
       "        [ 2.1543117 ,  0.9269577 , -0.9762652 ]],\n",
       "\n",
       "       [[ 0.4375274 ,  0.9622416 ,  1.1325638 ],\n",
       "        [ 1.6399398 ,  0.23379178, -1.0995692 ],\n",
       "        [-0.4840288 , -1.0884638 , -0.19991185],\n",
       "        ...,\n",
       "        [ 0.0777377 , -1.9799217 , -0.98221534],\n",
       "        [-0.8061974 , -0.35349053,  0.2089882 ],\n",
       "        [ 0.24780402, -1.9313624 ,  1.9217234 ]],\n",
       "\n",
       "       [[-1.5731484 , -2.1338885 , -0.02349385],\n",
       "        [ 0.8096098 , -0.22241738, -1.8571382 ],\n",
       "        [ 0.44980046,  1.2248516 ,  0.41119444],\n",
       "        ...,\n",
       "        [-1.0452957 ,  2.0294344 , -0.10545886],\n",
       "        [ 1.3274658 ,  0.8748568 , -1.2106524 ],\n",
       "        [ 0.5928215 ,  0.42374656,  0.19598569]],\n",
       "\n",
       "       ...,\n",
       "\n",
       "       [[-0.8010447 ,  0.03017063,  0.73415667],\n",
       "        [-1.5063491 ,  1.6127838 , -0.77407277],\n",
       "        [-0.7577794 ,  0.14288694, -1.5525162 ],\n",
       "        ...,\n",
       "        [ 0.215206  ,  0.6513026 ,  0.18154125],\n",
       "        [ 0.8556552 ,  0.2556242 ,  1.6802379 ],\n",
       "        [ 1.3342565 , -0.9486057 ,  1.3423426 ]],\n",
       "\n",
       "       [[-1.2725248 , -1.1081612 , -0.694125  ],\n",
       "        [-0.14562556,  0.53559196, -1.399234  ],\n",
       "        [-2.0024803 ,  0.15438628, -1.4312731 ],\n",
       "        ...,\n",
       "        [-0.44220605, -0.55925816,  1.7892874 ],\n",
       "        [ 0.36908653,  0.97479784,  0.14714131],\n",
       "        [ 0.67043877, -0.8395422 ,  0.6477407 ]],\n",
       "\n",
       "       [[ 0.334032  , -1.3898339 , -1.7813421 ],\n",
       "        [ 0.6866157 ,  0.29851013, -0.5216097 ],\n",
       "        [-0.17389445,  1.0544395 , -1.8093    ],\n",
       "        ...,\n",
       "        [ 0.41733855,  0.68496794,  0.12523653],\n",
       "        [ 0.40663972, -0.7552142 , -0.7995724 ],\n",
       "        [-0.67640394,  0.37135437,  0.30110627]]], dtype=float32)>"
      ]
     },
     "execution_count": 61,
     "metadata": {},
     "output_type": "execute_result"
    }
   ],
   "source": [
    " x[0]"
   ]
  },
  {
   "cell_type": "markdown",
   "metadata": {},
   "source": [
    "取第一张图片的第2行"
   ]
  },
  {
   "cell_type": "code",
   "execution_count": 62,
   "metadata": {
    "collapsed": true
   },
   "outputs": [
    {
     "data": {
      "text/plain": [
       "<tf.Tensor: shape=(32, 3), dtype=float32, numpy=\n",
       "array([[ 0.4375274 ,  0.9622416 ,  1.1325638 ],\n",
       "       [ 1.6399398 ,  0.23379178, -1.0995692 ],\n",
       "       [-0.4840288 , -1.0884638 , -0.19991185],\n",
       "       [ 0.03329504,  1.0835338 , -0.5816478 ],\n",
       "       [-0.836651  , -1.5272981 ,  0.21167852],\n",
       "       [ 1.02669   ,  0.37011802, -1.4569228 ],\n",
       "       [-1.0182576 ,  0.97062844,  0.05417615],\n",
       "       [ 2.106745  ,  1.2490107 ,  0.15054351],\n",
       "       [ 0.51679957,  0.9830818 ,  0.95288306],\n",
       "       [-0.6274636 ,  1.7722256 , -0.14343871],\n",
       "       [ 0.5463229 , -0.5913954 ,  0.45075834],\n",
       "       [ 0.19097233,  0.5132534 ,  0.14765325],\n",
       "       [-1.1501914 ,  0.798838  ,  1.4537092 ],\n",
       "       [ 0.18668668,  1.0953013 ,  0.5512337 ],\n",
       "       [-0.7717183 ,  0.6882912 , -1.2213216 ],\n",
       "       [ 0.43297964,  0.27003962, -0.20035093],\n",
       "       [-1.5700996 ,  0.8885142 , -0.82676494],\n",
       "       [ 0.19028306, -0.663934  ,  1.0644886 ],\n",
       "       [-0.16125195,  0.94006896, -0.71855813],\n",
       "       [-1.180372  , -1.0851917 ,  0.3031458 ],\n",
       "       [ 0.3482565 ,  1.5423001 , -1.2924513 ],\n",
       "       [-1.3682908 , -0.5424156 , -0.797043  ],\n",
       "       [ 0.26666424, -0.88925034, -0.3444831 ],\n",
       "       [ 0.5321598 ,  0.55014914,  1.6514553 ],\n",
       "       [ 0.35867777,  0.5648235 , -0.13310145],\n",
       "       [-0.77491987, -0.10627397,  0.2345907 ],\n",
       "       [ 0.59817165, -0.6041424 ,  0.26703668],\n",
       "       [ 1.1344998 ,  0.40578687, -0.2869073 ],\n",
       "       [-1.833884  , -1.5999334 , -0.3609749 ],\n",
       "       [ 0.0777377 , -1.9799217 , -0.98221534],\n",
       "       [-0.8061974 , -0.35349053,  0.2089882 ],\n",
       "       [ 0.24780402, -1.9313624 ,  1.9217234 ]], dtype=float32)>"
      ]
     },
     "execution_count": 62,
     "metadata": {},
     "output_type": "execute_result"
    }
   ],
   "source": [
    "x[0][1]"
   ]
  },
  {
   "cell_type": "markdown",
   "metadata": {},
   "source": [
    "取第 1 张图片，第 2 行，第 3 列的数据"
   ]
  },
  {
   "cell_type": "code",
   "execution_count": 63,
   "metadata": {},
   "outputs": [
    {
     "data": {
      "text/plain": [
       "<tf.Tensor: shape=(3,), dtype=float32, numpy=array([-0.4840288 , -1.0884638 , -0.19991185], dtype=float32)>"
      ]
     },
     "execution_count": 63,
     "metadata": {},
     "output_type": "execute_result"
    }
   ],
   "source": [
    "x[0][1][2]"
   ]
  },
  {
   "cell_type": "markdown",
   "metadata": {},
   "source": [
    "取第 3 张图片，第 2 行，第 1 列的像素"
   ]
  },
  {
   "cell_type": "code",
   "execution_count": 64,
   "metadata": {},
   "outputs": [
    {
     "data": {
      "text/plain": [
       "<tf.Tensor: shape=(), dtype=float32, numpy=-0.7488025>"
      ]
     },
     "execution_count": 64,
     "metadata": {},
     "output_type": "execute_result"
    }
   ],
   "source": [
    "x[2][1][0][1]"
   ]
  },
  {
   "cell_type": "markdown",
   "metadata": {},
   "source": [
    "**切片**"
   ]
  },
  {
   "cell_type": "markdown",
   "metadata": {},
   "source": [
    "通过start: end: step切片方式可以方便地提取一段数据，其中 start 为开始读取位置的索\n",
    "引，end 为结束读取位置的索引(不包含 end 位)，step 为采样步长。"
   ]
  },
  {
   "cell_type": "code",
   "execution_count": 65,
   "metadata": {
    "collapsed": true
   },
   "outputs": [
    {
     "data": {
      "text/plain": [
       "<tf.Tensor: shape=(32, 32, 3), dtype=float32, numpy=\n",
       "array([[[-1.2951561 , -0.75427467,  0.10233725],\n",
       "        [ 1.0731182 , -0.47359908, -1.4579206 ],\n",
       "        [-0.61222863, -0.732075  ,  0.09000206],\n",
       "        ...,\n",
       "        [ 0.46759006,  0.25190836,  2.385851  ],\n",
       "        [ 0.43070102,  0.72968036, -2.2558856 ],\n",
       "        [ 2.1543117 ,  0.9269577 , -0.9762652 ]],\n",
       "\n",
       "       [[ 0.4375274 ,  0.9622416 ,  1.1325638 ],\n",
       "        [ 1.6399398 ,  0.23379178, -1.0995692 ],\n",
       "        [-0.4840288 , -1.0884638 , -0.19991185],\n",
       "        ...,\n",
       "        [ 0.0777377 , -1.9799217 , -0.98221534],\n",
       "        [-0.8061974 , -0.35349053,  0.2089882 ],\n",
       "        [ 0.24780402, -1.9313624 ,  1.9217234 ]],\n",
       "\n",
       "       [[-1.5731484 , -2.1338885 , -0.02349385],\n",
       "        [ 0.8096098 , -0.22241738, -1.8571382 ],\n",
       "        [ 0.44980046,  1.2248516 ,  0.41119444],\n",
       "        ...,\n",
       "        [-1.0452957 ,  2.0294344 , -0.10545886],\n",
       "        [ 1.3274658 ,  0.8748568 , -1.2106524 ],\n",
       "        [ 0.5928215 ,  0.42374656,  0.19598569]],\n",
       "\n",
       "       ...,\n",
       "\n",
       "       [[-0.8010447 ,  0.03017063,  0.73415667],\n",
       "        [-1.5063491 ,  1.6127838 , -0.77407277],\n",
       "        [-0.7577794 ,  0.14288694, -1.5525162 ],\n",
       "        ...,\n",
       "        [ 0.215206  ,  0.6513026 ,  0.18154125],\n",
       "        [ 0.8556552 ,  0.2556242 ,  1.6802379 ],\n",
       "        [ 1.3342565 , -0.9486057 ,  1.3423426 ]],\n",
       "\n",
       "       [[-1.2725248 , -1.1081612 , -0.694125  ],\n",
       "        [-0.14562556,  0.53559196, -1.399234  ],\n",
       "        [-2.0024803 ,  0.15438628, -1.4312731 ],\n",
       "        ...,\n",
       "        [-0.44220605, -0.55925816,  1.7892874 ],\n",
       "        [ 0.36908653,  0.97479784,  0.14714131],\n",
       "        [ 0.67043877, -0.8395422 ,  0.6477407 ]],\n",
       "\n",
       "       [[ 0.334032  , -1.3898339 , -1.7813421 ],\n",
       "        [ 0.6866157 ,  0.29851013, -0.5216097 ],\n",
       "        [-0.17389445,  1.0544395 , -1.8093    ],\n",
       "        ...,\n",
       "        [ 0.41733855,  0.68496794,  0.12523653],\n",
       "        [ 0.40663972, -0.7552142 , -0.7995724 ],\n",
       "        [-0.67640394,  0.37135437,  0.30110627]]], dtype=float32)>"
      ]
     },
     "execution_count": 65,
     "metadata": {},
     "output_type": "execute_result"
    }
   ],
   "source": [
    "x[0,::] # 读取第一张图片"
   ]
  },
  {
   "cell_type": "code",
   "execution_count": 66,
   "metadata": {
    "collapsed": true
   },
   "outputs": [
    {
     "data": {
      "text/plain": [
       "<tf.Tensor: shape=(4, 14, 14, 3), dtype=float32, numpy=\n",
       "array([[[[-1.29515612e+00, -7.54274666e-01,  1.02337249e-01],\n",
       "         [-6.12228632e-01, -7.32074976e-01,  9.00020599e-02],\n",
       "         [ 2.76931494e-01,  2.98498303e-01,  5.15167534e-01],\n",
       "         ...,\n",
       "         [ 1.65555924e-01,  4.55558330e-01, -1.53166592e+00],\n",
       "         [-9.97209728e-01, -1.45224547e+00, -2.36034751e+00],\n",
       "         [-1.46335348e-01,  1.06236827e+00, -1.86902380e+00]],\n",
       "\n",
       "        [[-1.57314837e+00, -2.13388848e+00, -2.34938525e-02],\n",
       "         [ 4.49800462e-01,  1.22485161e+00,  4.11194444e-01],\n",
       "         [ 5.66268384e-01, -1.41297472e+00, -1.73087686e-01],\n",
       "         ...,\n",
       "         [-1.05959129e+00,  1.65693307e+00,  3.62577170e-01],\n",
       "         [ 3.41119647e-01,  1.43944159e-01, -6.31486237e-01],\n",
       "         [-5.26239097e-01, -6.84210241e-01, -5.46696842e-01]],\n",
       "\n",
       "        [[-1.35588610e+00,  5.03758609e-01, -5.31917810e-01],\n",
       "         [ 5.21315187e-02,  8.52960408e-01, -3.06075752e-01],\n",
       "         [ 1.59334123e-01, -2.57766455e-01,  8.64678264e-01],\n",
       "         ...,\n",
       "         [ 9.57640350e-01,  1.89059734e-01,  2.54506707e-01],\n",
       "         [-1.68663704e+00, -3.29558432e-01, -7.61058450e-01],\n",
       "         [ 7.42282033e-01, -9.28831697e-01,  4.46354002e-01]],\n",
       "\n",
       "        ...,\n",
       "\n",
       "        [[-1.37896490e+00, -9.61973310e-01,  6.52263939e-01],\n",
       "         [-5.51660955e-01,  6.32399142e-01,  4.92034882e-01],\n",
       "         [ 6.10119522e-01,  6.60530806e-01, -1.88433039e+00],\n",
       "         ...,\n",
       "         [ 1.05450630e+00,  9.28397238e-01,  1.99055135e+00],\n",
       "         [-9.52201068e-01,  2.95963496e-01,  3.46950412e-01],\n",
       "         [-9.34562385e-01,  2.41277829e-01, -1.61616534e-01]],\n",
       "\n",
       "        [[-2.95269430e-01,  1.79515421e-01,  5.70411563e-01],\n",
       "         [ 1.03332624e-01,  1.58814291e-04, -1.32798851e-02],\n",
       "         [ 4.08669235e-03, -1.55879825e-01,  2.81931490e-01],\n",
       "         ...,\n",
       "         [ 1.58669031e+00,  3.81178588e-01,  3.81895751e-01],\n",
       "         [ 5.37521601e-01,  6.06383443e-01,  4.22665805e-01],\n",
       "         [-1.01555049e+00, -1.11181252e-01, -6.29011631e-01]],\n",
       "\n",
       "        [[-2.37145752e-01, -1.71601027e-02,  6.93256974e-01],\n",
       "         [-2.18126678e+00, -8.38329457e-03, -1.38497198e+00],\n",
       "         [-1.17442548e+00,  2.39432201e-01,  3.15696299e-01],\n",
       "         ...,\n",
       "         [ 7.49260783e-01, -3.24355066e-01, -1.10580790e+00],\n",
       "         [ 8.24422836e-01,  7.34958887e-01,  2.11039811e-01],\n",
       "         [ 1.04405224e+00,  5.19826055e-01, -6.13871396e-01]]],\n",
       "\n",
       "\n",
       "       [[[-4.02408391e-01, -1.90189674e-01,  1.38821989e-01],\n",
       "         [ 3.73812467e-01, -1.30000722e+00,  1.65399587e+00],\n",
       "         [ 1.63458854e-01,  7.17582405e-01,  1.62682533e+00],\n",
       "         ...,\n",
       "         [ 2.68258721e-01,  2.97114998e-02, -4.55199957e-01],\n",
       "         [ 1.45414947e-02, -7.56618679e-01,  2.04611635e+00],\n",
       "         [ 4.06608880e-01,  1.43851742e-01,  1.15656674e+00]],\n",
       "\n",
       "        [[ 5.83386123e-01,  3.64334166e-01,  5.14606059e-01],\n",
       "         [ 1.53514874e+00, -8.83238614e-01, -4.02010202e-01],\n",
       "         [-1.06926250e+00,  1.58000755e+00, -8.15851748e-01],\n",
       "         ...,\n",
       "         [-2.02048302e-01,  6.84219837e-01,  7.75513113e-01],\n",
       "         [ 1.62210298e+00, -1.11155891e+00,  1.31453896e+00],\n",
       "         [-6.40088439e-01,  2.69808054e-01,  6.13812730e-03]],\n",
       "\n",
       "        [[-9.95515108e-01, -6.71128452e-01,  6.75682724e-02],\n",
       "         [ 3.01387310e-01, -9.82877254e-01, -1.52140093e+00],\n",
       "         [ 2.22127628e+00, -9.36550081e-01,  1.98952734e-01],\n",
       "         ...,\n",
       "         [ 4.58581746e-02, -6.18075550e-01,  4.29981917e-01],\n",
       "         [ 1.08879161e+00,  1.96319491e-01,  2.96665102e-01],\n",
       "         [ 4.26881343e-01, -5.42432129e-01,  2.57586986e-01]],\n",
       "\n",
       "        ...,\n",
       "\n",
       "        [[-1.72588706e+00, -6.06142282e-01, -6.99166358e-01],\n",
       "         [ 6.56225026e-01,  3.14448893e-01,  1.21471310e+00],\n",
       "         [-2.21509770e-01, -3.33096206e-01,  3.56798381e-01],\n",
       "         ...,\n",
       "         [-1.51025963e+00,  2.01157236e+00, -7.33596265e-01],\n",
       "         [-8.93448889e-01,  1.17814076e+00,  5.90612113e-01],\n",
       "         [-2.63575792e-01,  1.12871206e+00,  1.28929269e+00]],\n",
       "\n",
       "        [[-1.35201883e+00,  2.11236000e+00,  1.78740453e-02],\n",
       "         [ 1.88240737e-01,  5.16547620e-01,  8.22519004e-01],\n",
       "         [ 3.46162677e-01,  6.27907991e-01,  4.65933233e-01],\n",
       "         ...,\n",
       "         [-3.99991065e-01,  1.70840621e+00,  1.27089596e+00],\n",
       "         [ 6.10652268e-01,  1.15265357e+00,  3.66803288e+00],\n",
       "         [-1.75859594e+00,  4.94882226e-01,  1.50929141e+00]],\n",
       "\n",
       "        [[-5.96684992e-01, -2.35706307e-02,  7.58081436e-01],\n",
       "         [-3.18578154e-01,  9.65994239e-01,  3.71580571e-01],\n",
       "         [-1.47684586e+00, -1.54003739e-01, -3.08418632e-01],\n",
       "         ...,\n",
       "         [-1.00388300e+00,  3.83403122e-01,  4.18232888e-01],\n",
       "         [ 1.26719475e+00, -5.14914513e-01, -3.62396151e-01],\n",
       "         [ 7.89332449e-01, -2.56362230e-01, -7.65764952e-01]]],\n",
       "\n",
       "\n",
       "       [[[ 6.27251923e-01,  1.57822585e+00, -2.42371961e-01],\n",
       "         [-2.98439771e-01,  3.64993095e-01, -1.85222185e+00],\n",
       "         [-8.58499289e-01, -5.47955811e-01,  2.02667093e+00],\n",
       "         ...,\n",
       "         [ 3.08607101e-01,  3.97269726e-01, -3.47910613e-01],\n",
       "         [-5.64785480e-01, -3.55887055e-01, -1.85895890e-01],\n",
       "         [-1.44303310e+00, -1.78587496e+00, -1.13245368e-01]],\n",
       "\n",
       "        [[ 1.04397976e+00,  5.95871329e-01, -5.06576180e-01],\n",
       "         [-7.92121947e-01, -7.49880850e-01,  5.54538965e-01],\n",
       "         [ 2.02035710e-01, -7.62057602e-01, -5.40782750e-01],\n",
       "         ...,\n",
       "         [ 1.70910025e+00, -8.83770466e-01, -1.12668288e+00],\n",
       "         [ 4.23565991e-02, -7.12805927e-01,  1.77375925e+00],\n",
       "         [-1.88999906e-01,  6.35805488e-01,  5.24599016e-01]],\n",
       "\n",
       "        [[ 6.23957291e-02,  6.02625430e-01, -4.03162897e-01],\n",
       "         [ 1.00738907e+00,  8.11843514e-01,  2.89924651e-01],\n",
       "         [-4.93180215e-01, -6.85074151e-01,  9.97176528e-01],\n",
       "         ...,\n",
       "         [ 2.28000641e+00,  5.84883094e-01, -7.22515583e-01],\n",
       "         [-2.55988777e-01,  4.10878658e-01,  7.80742168e-01],\n",
       "         [-7.72218704e-01,  1.18926060e+00,  9.17031288e-01]],\n",
       "\n",
       "        ...,\n",
       "\n",
       "        [[-7.46172071e-01,  8.35964158e-02, -8.53636503e-01],\n",
       "         [-4.25092614e-04,  2.54249597e+00,  1.83422267e+00],\n",
       "         [ 2.66622752e-01,  3.87479007e-01, -1.08185552e-01],\n",
       "         ...,\n",
       "         [-2.09759802e-01,  1.28416288e+00, -6.00455701e-01],\n",
       "         [-1.00049913e+00,  1.33005977e+00, -6.68743432e-01],\n",
       "         [ 1.84987172e-01, -3.09124291e-01,  9.52412307e-01]],\n",
       "\n",
       "        [[ 8.88954639e-01, -1.52880669e+00, -2.83440530e-01],\n",
       "         [-1.28199708e+00, -1.39054388e-01, -1.22616208e+00],\n",
       "         [ 1.88084934e-02,  3.19622755e-01,  1.66324079e+00],\n",
       "         ...,\n",
       "         [ 1.60467947e+00, -7.43866801e-01,  6.55167401e-02],\n",
       "         [ 1.20593333e+00, -6.80429280e-01, -8.71380627e-01],\n",
       "         [ 1.31321990e+00,  5.98037302e-01,  1.51370633e+00]],\n",
       "\n",
       "        [[-1.46106705e-01, -5.53369708e-02,  2.18292788e-01],\n",
       "         [ 2.93442048e-03, -1.31586745e-01,  1.50152192e-01],\n",
       "         [-6.79751635e-01,  1.89552140e+00,  1.33185446e+00],\n",
       "         ...,\n",
       "         [-4.73797649e-01, -3.26780714e-02,  1.13751665e-01],\n",
       "         [-7.77813077e-01,  2.82892019e-01, -1.63612223e+00],\n",
       "         [-9.65608060e-01, -1.06311478e-01, -1.45803452e+00]]],\n",
       "\n",
       "\n",
       "       [[[ 1.09005049e-01,  1.75411820e+00, -3.36032540e-01],\n",
       "         [ 1.52786148e+00, -5.18259227e-01, -2.64498256e-02],\n",
       "         [-4.32679296e-01,  4.19141650e-01, -2.86146283e-01],\n",
       "         ...,\n",
       "         [-1.36288416e+00,  6.34736121e-01,  1.47032583e+00],\n",
       "         [-6.15387559e-01, -1.81548253e-01,  1.45376980e+00],\n",
       "         [-1.19103932e+00, -1.30473852e+00, -1.56272721e+00]],\n",
       "\n",
       "        [[ 6.64466560e-01,  1.19584227e+00,  5.84429324e-01],\n",
       "         [-1.24928549e-01,  2.18300238e-01, -2.49422833e-01],\n",
       "         [ 1.36439514e+00, -8.96021605e-01, -9.35648918e-01],\n",
       "         ...,\n",
       "         [ 2.08929443e+00, -6.16268255e-03, -2.68229771e+00],\n",
       "         [-1.09601893e-01, -7.66315341e-01,  4.32890244e-02],\n",
       "         [ 1.25803351e+00,  7.62372687e-02,  3.56181711e-02]],\n",
       "\n",
       "        [[-1.05722809e+00, -3.66772771e-01,  3.71883273e-01],\n",
       "         [ 2.04999503e-02,  2.31681466e+00, -7.65342891e-01],\n",
       "         [-5.03677487e-01, -5.50255477e-01,  7.77008235e-01],\n",
       "         ...,\n",
       "         [-1.60905397e+00,  4.49894965e-01, -4.73323524e-01],\n",
       "         [ 1.07494438e+00, -6.18935704e-01, -4.20946516e-02],\n",
       "         [-1.23387977e-01, -1.60959169e-01, -7.79789984e-01]],\n",
       "\n",
       "        ...,\n",
       "\n",
       "        [[-1.23339868e+00,  5.04892588e-01, -1.04400337e+00],\n",
       "         [ 1.30806172e+00,  6.86731935e-01,  6.50999248e-01],\n",
       "         [-1.75631392e+00, -1.92546979e-01,  1.05352970e-02],\n",
       "         ...,\n",
       "         [-4.65091527e-01, -1.52644002e+00,  2.29238898e-01],\n",
       "         [-3.61950815e-01, -1.27551663e+00, -1.07051373e-01],\n",
       "         [ 8.65321338e-01,  7.37330317e-01, -1.29379451e+00]],\n",
       "\n",
       "        [[ 1.00141644e+00, -8.35258842e-01,  1.51355422e+00],\n",
       "         [ 1.11833608e+00,  4.04312342e-01, -9.06295478e-01],\n",
       "         [ 8.33388150e-01, -1.20618618e+00,  9.43429351e-01],\n",
       "         ...,\n",
       "         [ 4.76191282e-01,  3.29168975e-01,  1.17777288e+00],\n",
       "         [ 4.96718496e-01,  1.39978004e+00, -5.04786491e-01],\n",
       "         [ 6.83567643e-01, -1.58972168e+00,  1.51934993e+00]],\n",
       "\n",
       "        [[ 4.56333347e-02, -2.35674381e+00, -5.73115528e-01],\n",
       "         [-1.44512868e+00, -4.89620477e-01, -1.02549031e-01],\n",
       "         [-1.07520187e+00,  1.31298795e-01,  1.53495073e+00],\n",
       "         ...,\n",
       "         [ 2.06530070e+00, -8.66453528e-01, -5.67951381e-01],\n",
       "         [-1.00984430e+00,  7.13130951e-01, -6.02167606e-01],\n",
       "         [-1.48650980e+00, -7.81349301e-01, -1.70556828e-01]]]],\n",
       "      dtype=float32)>"
      ]
     },
     "execution_count": 66,
     "metadata": {},
     "output_type": "execute_result"
    }
   ],
   "source": [
    "x[:,0:28:2,0:28:2,:]"
   ]
  },
  {
   "cell_type": "markdown",
   "metadata": {},
   "source": [
    "### 4.6维度转换"
   ]
  },
  {
   "cell_type": "markdown",
   "metadata": {},
   "source": [
    "假设𝑿包含了 2 个样本，每个样本的特征长度为 4，𝑿的 shape 为[2,4]"
   ]
  },
  {
   "cell_type": "markdown",
   "metadata": {},
   "source": [
    "线性层的输出为 3 个节点，即W的 shape 定义为[4,3]，偏置b的shape定义为[3] "
   ]
  },
  {
   "cell_type": "markdown",
   "metadata": {},
   "source": [
    "偏置𝒃的 shape 定义为[3]。那么X@W的运算结果张量 shape 为[2,3]，需要叠加上 shape 为[3]的偏置𝒃。不同 shape 的 2 个张量怎么直接相加呢？\n"
   ]
  },
  {
   "cell_type": "markdown",
   "metadata": {},
   "source": [
    "为了实现这种运算方式，我们将偏置向量𝒃插入一个新的维度，并把它定义为 Batch 维度，然后在 Batch 维度将数据复制 1 份，得到变换后的𝐁′，新的 shape 为[2,3]。"
   ]
  },
  {
   "cell_type": "markdown",
   "metadata": {},
   "source": [
    "基本的维度变换操作函数包含了改变视图 reshape、插入新维度 expand_dims，删除维\n",
    "度 squeeze、交换维度 transpose、复制数据 tile 等函数。"
   ]
  },
  {
   "cell_type": "markdown",
   "metadata": {},
   "source": [
    "**视图**"
   ]
  },
  {
   "cell_type": "markdown",
   "metadata": {},
   "source": [
    "同一存储，从不同的角度观察数据，可以产生不同的视图，这就是存储与视图的关系。视图的产生是非常灵活的，但需要保证是合理。\n"
   ]
  },
  {
   "cell_type": "markdown",
   "metadata": {},
   "source": [
    "**增、删维度**"
   ]
  },
  {
   "cell_type": "markdown",
   "metadata": {},
   "source": [
    "增加一个长度为 1 的维度相当于给原有的数据添加一个新维度的概念，维度\n",
    "长度为 1，故数据并不需要改变，仅仅是改变数据的理解方式，因此它其实可以理解为改\n",
    "变视图的一种特殊方式。"
   ]
  },
  {
   "cell_type": "markdown",
   "metadata": {},
   "source": [
    "通过 tf.expand_dims(x, axis)可在指定的 axis 轴前可以插入一个新的维度："
   ]
  },
  {
   "cell_type": "code",
   "execution_count": 67,
   "metadata": {},
   "outputs": [],
   "source": [
    "x = tf.random.uniform([28,28],maxval=10,dtype=tf.int32)"
   ]
  },
  {
   "cell_type": "code",
   "execution_count": 68,
   "metadata": {},
   "outputs": [],
   "source": [
    "x = tf.expand_dims(x,axis=2) # axis=2 表示宽维度后面的一个维度"
   ]
  },
  {
   "cell_type": "markdown",
   "metadata": {},
   "source": [
    "删除维度 是增加维度的逆操作，与增加维度一样，删除维度只能删除长度为 1 的维\n",
    "度，也不会改变张量的存储。继续考虑增加维度后 shape 为[1,28,28,1]的例子，如果希望将\n",
    "图片数量维度删除，可以通过 tf.squeeze(x, axis)函数，axis 参数为待删除的维度的索引号，"
   ]
  },
  {
   "cell_type": "code",
   "execution_count": 69,
   "metadata": {
    "collapsed": true
   },
   "outputs": [
    {
     "ename": "InvalidArgumentError",
     "evalue": "Can not squeeze dim[0], expected a dimension of 1, got 28 [Op:Squeeze]",
     "output_type": "error",
     "traceback": [
      "\u001b[1;31m---------------------------------------------------------------------------\u001b[0m",
      "\u001b[1;31mInvalidArgumentError\u001b[0m                      Traceback (most recent call last)",
      "\u001b[1;32m<ipython-input-69-7727510b1f2c>\u001b[0m in \u001b[0;36m<module>\u001b[1;34m\u001b[0m\n\u001b[1;32m----> 1\u001b[1;33m \u001b[0mx\u001b[0m \u001b[1;33m=\u001b[0m \u001b[0mtf\u001b[0m\u001b[1;33m.\u001b[0m\u001b[0msqueeze\u001b[0m\u001b[1;33m(\u001b[0m\u001b[0mx\u001b[0m\u001b[1;33m,\u001b[0m \u001b[0maxis\u001b[0m\u001b[1;33m=\u001b[0m\u001b[1;36m0\u001b[0m\u001b[1;33m)\u001b[0m \u001b[1;31m# 删除图片数量维度\u001b[0m\u001b[1;33m\u001b[0m\u001b[1;33m\u001b[0m\u001b[0m\n\u001b[0m",
      "\u001b[1;32m~\\anaconda3\\lib\\site-packages\\tensorflow\\python\\util\\dispatch.py\u001b[0m in \u001b[0;36mwrapper\u001b[1;34m(*args, **kwargs)\u001b[0m\n\u001b[0;32m    199\u001b[0m     \u001b[1;34m\"\"\"Call target, and fall back on dispatchers if there is a TypeError.\"\"\"\u001b[0m\u001b[1;33m\u001b[0m\u001b[1;33m\u001b[0m\u001b[0m\n\u001b[0;32m    200\u001b[0m     \u001b[1;32mtry\u001b[0m\u001b[1;33m:\u001b[0m\u001b[1;33m\u001b[0m\u001b[1;33m\u001b[0m\u001b[0m\n\u001b[1;32m--> 201\u001b[1;33m       \u001b[1;32mreturn\u001b[0m \u001b[0mtarget\u001b[0m\u001b[1;33m(\u001b[0m\u001b[1;33m*\u001b[0m\u001b[0margs\u001b[0m\u001b[1;33m,\u001b[0m \u001b[1;33m**\u001b[0m\u001b[0mkwargs\u001b[0m\u001b[1;33m)\u001b[0m\u001b[1;33m\u001b[0m\u001b[1;33m\u001b[0m\u001b[0m\n\u001b[0m\u001b[0;32m    202\u001b[0m     \u001b[1;32mexcept\u001b[0m \u001b[1;33m(\u001b[0m\u001b[0mTypeError\u001b[0m\u001b[1;33m,\u001b[0m \u001b[0mValueError\u001b[0m\u001b[1;33m)\u001b[0m\u001b[1;33m:\u001b[0m\u001b[1;33m\u001b[0m\u001b[1;33m\u001b[0m\u001b[0m\n\u001b[0;32m    203\u001b[0m       \u001b[1;31m# Note: convert_to_eager_tensor currently raises a ValueError, not a\u001b[0m\u001b[1;33m\u001b[0m\u001b[1;33m\u001b[0m\u001b[1;33m\u001b[0m\u001b[0m\n",
      "\u001b[1;32m~\\anaconda3\\lib\\site-packages\\tensorflow\\python\\ops\\array_ops.py\u001b[0m in \u001b[0;36msqueeze_v2\u001b[1;34m(input, axis, name)\u001b[0m\n\u001b[0;32m   4429\u001b[0m   \"\"\"\n\u001b[0;32m   4430\u001b[0m   \u001b[1;31m# pylint: disable=redefined-builtin\u001b[0m\u001b[1;33m\u001b[0m\u001b[1;33m\u001b[0m\u001b[1;33m\u001b[0m\u001b[0m\n\u001b[1;32m-> 4431\u001b[1;33m   \u001b[1;32mreturn\u001b[0m \u001b[0msqueeze\u001b[0m\u001b[1;33m(\u001b[0m\u001b[0minput\u001b[0m\u001b[1;33m,\u001b[0m \u001b[0maxis\u001b[0m\u001b[1;33m,\u001b[0m \u001b[0mname\u001b[0m\u001b[1;33m)\u001b[0m\u001b[1;33m\u001b[0m\u001b[1;33m\u001b[0m\u001b[0m\n\u001b[0m\u001b[0;32m   4432\u001b[0m \u001b[1;33m\u001b[0m\u001b[0m\n\u001b[0;32m   4433\u001b[0m \u001b[1;33m\u001b[0m\u001b[0m\n",
      "\u001b[1;32m~\\anaconda3\\lib\\site-packages\\tensorflow\\python\\util\\dispatch.py\u001b[0m in \u001b[0;36mwrapper\u001b[1;34m(*args, **kwargs)\u001b[0m\n\u001b[0;32m    199\u001b[0m     \u001b[1;34m\"\"\"Call target, and fall back on dispatchers if there is a TypeError.\"\"\"\u001b[0m\u001b[1;33m\u001b[0m\u001b[1;33m\u001b[0m\u001b[0m\n\u001b[0;32m    200\u001b[0m     \u001b[1;32mtry\u001b[0m\u001b[1;33m:\u001b[0m\u001b[1;33m\u001b[0m\u001b[1;33m\u001b[0m\u001b[0m\n\u001b[1;32m--> 201\u001b[1;33m       \u001b[1;32mreturn\u001b[0m \u001b[0mtarget\u001b[0m\u001b[1;33m(\u001b[0m\u001b[1;33m*\u001b[0m\u001b[0margs\u001b[0m\u001b[1;33m,\u001b[0m \u001b[1;33m**\u001b[0m\u001b[0mkwargs\u001b[0m\u001b[1;33m)\u001b[0m\u001b[1;33m\u001b[0m\u001b[1;33m\u001b[0m\u001b[0m\n\u001b[0m\u001b[0;32m    202\u001b[0m     \u001b[1;32mexcept\u001b[0m \u001b[1;33m(\u001b[0m\u001b[0mTypeError\u001b[0m\u001b[1;33m,\u001b[0m \u001b[0mValueError\u001b[0m\u001b[1;33m)\u001b[0m\u001b[1;33m:\u001b[0m\u001b[1;33m\u001b[0m\u001b[1;33m\u001b[0m\u001b[0m\n\u001b[0;32m    203\u001b[0m       \u001b[1;31m# Note: convert_to_eager_tensor currently raises a ValueError, not a\u001b[0m\u001b[1;33m\u001b[0m\u001b[1;33m\u001b[0m\u001b[1;33m\u001b[0m\u001b[0m\n",
      "\u001b[1;32m~\\anaconda3\\lib\\site-packages\\tensorflow\\python\\util\\deprecation.py\u001b[0m in \u001b[0;36mnew_func\u001b[1;34m(*args, **kwargs)\u001b[0m\n\u001b[0;32m    536\u001b[0m                 \u001b[1;34m'in a future version'\u001b[0m \u001b[1;32mif\u001b[0m \u001b[0mdate\u001b[0m \u001b[1;32mis\u001b[0m \u001b[1;32mNone\u001b[0m \u001b[1;32melse\u001b[0m \u001b[1;33m(\u001b[0m\u001b[1;34m'after %s'\u001b[0m \u001b[1;33m%\u001b[0m \u001b[0mdate\u001b[0m\u001b[1;33m)\u001b[0m\u001b[1;33m,\u001b[0m\u001b[1;33m\u001b[0m\u001b[1;33m\u001b[0m\u001b[0m\n\u001b[0;32m    537\u001b[0m                 instructions)\n\u001b[1;32m--> 538\u001b[1;33m       \u001b[1;32mreturn\u001b[0m \u001b[0mfunc\u001b[0m\u001b[1;33m(\u001b[0m\u001b[1;33m*\u001b[0m\u001b[0margs\u001b[0m\u001b[1;33m,\u001b[0m \u001b[1;33m**\u001b[0m\u001b[0mkwargs\u001b[0m\u001b[1;33m)\u001b[0m\u001b[1;33m\u001b[0m\u001b[1;33m\u001b[0m\u001b[0m\n\u001b[0m\u001b[0;32m    539\u001b[0m \u001b[1;33m\u001b[0m\u001b[0m\n\u001b[0;32m    540\u001b[0m     doc = _add_deprecated_arg_notice_to_docstring(\n",
      "\u001b[1;32m~\\anaconda3\\lib\\site-packages\\tensorflow\\python\\ops\\array_ops.py\u001b[0m in \u001b[0;36msqueeze\u001b[1;34m(input, axis, name, squeeze_dims)\u001b[0m\n\u001b[0;32m   4377\u001b[0m   \u001b[1;32mif\u001b[0m \u001b[0mnp\u001b[0m\u001b[1;33m.\u001b[0m\u001b[0misscalar\u001b[0m\u001b[1;33m(\u001b[0m\u001b[0maxis\u001b[0m\u001b[1;33m)\u001b[0m\u001b[1;33m:\u001b[0m\u001b[1;33m\u001b[0m\u001b[1;33m\u001b[0m\u001b[0m\n\u001b[0;32m   4378\u001b[0m     \u001b[0maxis\u001b[0m \u001b[1;33m=\u001b[0m \u001b[1;33m[\u001b[0m\u001b[0maxis\u001b[0m\u001b[1;33m]\u001b[0m\u001b[1;33m\u001b[0m\u001b[1;33m\u001b[0m\u001b[0m\n\u001b[1;32m-> 4379\u001b[1;33m   \u001b[1;32mreturn\u001b[0m \u001b[0mgen_array_ops\u001b[0m\u001b[1;33m.\u001b[0m\u001b[0msqueeze\u001b[0m\u001b[1;33m(\u001b[0m\u001b[0minput\u001b[0m\u001b[1;33m,\u001b[0m \u001b[0maxis\u001b[0m\u001b[1;33m,\u001b[0m \u001b[0mname\u001b[0m\u001b[1;33m)\u001b[0m\u001b[1;33m\u001b[0m\u001b[1;33m\u001b[0m\u001b[0m\n\u001b[0m\u001b[0;32m   4380\u001b[0m \u001b[1;33m\u001b[0m\u001b[0m\n\u001b[0;32m   4381\u001b[0m \u001b[1;33m\u001b[0m\u001b[0m\n",
      "\u001b[1;32m~\\anaconda3\\lib\\site-packages\\tensorflow\\python\\ops\\gen_array_ops.py\u001b[0m in \u001b[0;36msqueeze\u001b[1;34m(input, axis, name)\u001b[0m\n\u001b[0;32m  10153\u001b[0m       \u001b[1;32mreturn\u001b[0m \u001b[0m_result\u001b[0m\u001b[1;33m\u001b[0m\u001b[1;33m\u001b[0m\u001b[0m\n\u001b[0;32m  10154\u001b[0m     \u001b[1;32mexcept\u001b[0m \u001b[0m_core\u001b[0m\u001b[1;33m.\u001b[0m\u001b[0m_NotOkStatusException\u001b[0m \u001b[1;32mas\u001b[0m \u001b[0me\u001b[0m\u001b[1;33m:\u001b[0m\u001b[1;33m\u001b[0m\u001b[1;33m\u001b[0m\u001b[0m\n\u001b[1;32m> 10155\u001b[1;33m       \u001b[0m_ops\u001b[0m\u001b[1;33m.\u001b[0m\u001b[0mraise_from_not_ok_status\u001b[0m\u001b[1;33m(\u001b[0m\u001b[0me\u001b[0m\u001b[1;33m,\u001b[0m \u001b[0mname\u001b[0m\u001b[1;33m)\u001b[0m\u001b[1;33m\u001b[0m\u001b[1;33m\u001b[0m\u001b[0m\n\u001b[0m\u001b[0;32m  10156\u001b[0m     \u001b[1;32mexcept\u001b[0m \u001b[0m_core\u001b[0m\u001b[1;33m.\u001b[0m\u001b[0m_FallbackException\u001b[0m\u001b[1;33m:\u001b[0m\u001b[1;33m\u001b[0m\u001b[1;33m\u001b[0m\u001b[0m\n\u001b[0;32m  10157\u001b[0m       \u001b[1;32mpass\u001b[0m\u001b[1;33m\u001b[0m\u001b[1;33m\u001b[0m\u001b[0m\n",
      "\u001b[1;32m~\\anaconda3\\lib\\site-packages\\tensorflow\\python\\framework\\ops.py\u001b[0m in \u001b[0;36mraise_from_not_ok_status\u001b[1;34m(e, name)\u001b[0m\n\u001b[0;32m   6860\u001b[0m   \u001b[0mmessage\u001b[0m \u001b[1;33m=\u001b[0m \u001b[0me\u001b[0m\u001b[1;33m.\u001b[0m\u001b[0mmessage\u001b[0m \u001b[1;33m+\u001b[0m \u001b[1;33m(\u001b[0m\u001b[1;34m\" name: \"\u001b[0m \u001b[1;33m+\u001b[0m \u001b[0mname\u001b[0m \u001b[1;32mif\u001b[0m \u001b[0mname\u001b[0m \u001b[1;32mis\u001b[0m \u001b[1;32mnot\u001b[0m \u001b[1;32mNone\u001b[0m \u001b[1;32melse\u001b[0m \u001b[1;34m\"\"\u001b[0m\u001b[1;33m)\u001b[0m\u001b[1;33m\u001b[0m\u001b[1;33m\u001b[0m\u001b[0m\n\u001b[0;32m   6861\u001b[0m   \u001b[1;31m# pylint: disable=protected-access\u001b[0m\u001b[1;33m\u001b[0m\u001b[1;33m\u001b[0m\u001b[1;33m\u001b[0m\u001b[0m\n\u001b[1;32m-> 6862\u001b[1;33m   \u001b[0msix\u001b[0m\u001b[1;33m.\u001b[0m\u001b[0mraise_from\u001b[0m\u001b[1;33m(\u001b[0m\u001b[0mcore\u001b[0m\u001b[1;33m.\u001b[0m\u001b[0m_status_to_exception\u001b[0m\u001b[1;33m(\u001b[0m\u001b[0me\u001b[0m\u001b[1;33m.\u001b[0m\u001b[0mcode\u001b[0m\u001b[1;33m,\u001b[0m \u001b[0mmessage\u001b[0m\u001b[1;33m)\u001b[0m\u001b[1;33m,\u001b[0m \u001b[1;32mNone\u001b[0m\u001b[1;33m)\u001b[0m\u001b[1;33m\u001b[0m\u001b[1;33m\u001b[0m\u001b[0m\n\u001b[0m\u001b[0;32m   6863\u001b[0m   \u001b[1;31m# pylint: enable=protected-access\u001b[0m\u001b[1;33m\u001b[0m\u001b[1;33m\u001b[0m\u001b[1;33m\u001b[0m\u001b[0m\n\u001b[0;32m   6864\u001b[0m \u001b[1;33m\u001b[0m\u001b[0m\n",
      "\u001b[1;32m~\\anaconda3\\lib\\site-packages\\six.py\u001b[0m in \u001b[0;36mraise_from\u001b[1;34m(value, from_value)\u001b[0m\n",
      "\u001b[1;31mInvalidArgumentError\u001b[0m: Can not squeeze dim[0], expected a dimension of 1, got 28 [Op:Squeeze]"
     ]
    }
   ],
   "source": [
    " x = tf.squeeze(x, axis=0) # 删除图片数量维度"
   ]
  },
  {
   "cell_type": "markdown",
   "metadata": {},
   "source": [
    "**交换维度**"
   ]
  },
  {
   "cell_type": "markdown",
   "metadata": {},
   "source": [
    "有时需要直接调整的存储顺序，即交换维度(Transpose)。通过交换维度操作，改变了张量的存储顺序，同时也改变了张量的视图。\n"
   ]
  },
  {
   "cell_type": "code",
   "execution_count": 70,
   "metadata": {},
   "outputs": [],
   "source": [
    "x = tf.random.normal([2,32,32,3])"
   ]
  },
  {
   "cell_type": "code",
   "execution_count": 71,
   "metadata": {
    "collapsed": true
   },
   "outputs": [
    {
     "data": {
      "text/plain": [
       "<tf.Tensor: shape=(2, 3, 32, 32), dtype=float32, numpy=\n",
       "array([[[[ 1.8996664 , -0.48924908,  1.1624699 , ...,  1.9390957 ,\n",
       "          -0.21266782,  1.118679  ],\n",
       "         [ 0.79153043,  0.16641654,  0.8718006 , ..., -1.416597  ,\n",
       "          -0.31739166,  0.2406438 ],\n",
       "         [ 0.7549885 , -1.1179688 , -0.29067042, ...,  0.16385746,\n",
       "          -0.26347643,  1.0105977 ],\n",
       "         ...,\n",
       "         [ 1.0106648 , -0.27914104, -0.29882583, ...,  1.8455212 ,\n",
       "          -0.20629753, -0.27385098],\n",
       "         [-1.4056123 ,  0.14949945,  0.8692227 , ...,  0.7275199 ,\n",
       "           1.2359047 , -1.2128973 ],\n",
       "         [-2.3205352 ,  1.7207949 ,  2.196087  , ..., -0.01502047,\n",
       "          -0.1721857 , -0.37863868]],\n",
       "\n",
       "        [[-0.34356967,  1.2548296 , -0.26108524, ...,  0.2059671 ,\n",
       "          -0.6081827 ,  1.3515838 ],\n",
       "         [ 1.2018825 , -1.5045751 , -0.48117822, ..., -0.7458555 ,\n",
       "          -0.84766287,  0.76116467],\n",
       "         [-1.3804684 , -1.2985669 , -0.7233331 , ...,  0.8036674 ,\n",
       "          -0.04637055, -0.7464394 ],\n",
       "         ...,\n",
       "         [ 0.30164668,  1.0566132 , -0.04812884, ...,  1.4414443 ,\n",
       "          -0.33372417,  0.9980617 ],\n",
       "         [ 0.5676224 ,  0.7327841 ,  2.2913678 , ..., -0.10411851,\n",
       "           0.02543381,  1.4181095 ],\n",
       "         [ 1.4310969 ,  1.4807009 , -0.26135466, ...,  1.8851683 ,\n",
       "          -0.55349946, -0.15142636]],\n",
       "\n",
       "        [[-0.60979635,  0.769308  ,  1.1036031 , ..., -0.5843749 ,\n",
       "          -0.8500577 , -0.96078134],\n",
       "         [-0.552022  , -0.30986518,  1.1343218 , ...,  0.02582031,\n",
       "          -0.3753718 , -0.4939102 ],\n",
       "         [ 1.714817  ,  0.06129661, -0.17809588, ..., -0.7436619 ,\n",
       "           0.9833914 , -1.2643784 ],\n",
       "         ...,\n",
       "         [ 1.8013636 , -0.42354184, -0.66540515, ...,  0.79550064,\n",
       "           0.5077077 , -2.3039722 ],\n",
       "         [-0.87837094, -0.5013721 ,  0.77487296, ...,  0.35706183,\n",
       "          -0.04105436, -1.3199095 ],\n",
       "         [ 3.5150585 , -2.1424768 , -0.40223417, ...,  1.4263173 ,\n",
       "           0.25189176,  1.1021622 ]]],\n",
       "\n",
       "\n",
       "       [[[ 0.37775236,  2.0912044 , -0.0205432 , ..., -0.02407165,\n",
       "           0.15495934, -0.6159631 ],\n",
       "         [-0.28901204, -0.81271505,  0.6180731 , ..., -0.34399366,\n",
       "          -0.04661671,  0.24115711],\n",
       "         [ 0.78614557,  1.3917376 ,  0.07888424, ...,  0.81045574,\n",
       "          -1.1067314 , -0.2424072 ],\n",
       "         ...,\n",
       "         [-1.0681305 , -0.27478555, -1.1756201 , ...,  0.65066314,\n",
       "           0.71257424, -1.4923908 ],\n",
       "         [-1.0089061 , -0.8375266 ,  0.58209795, ..., -0.57573533,\n",
       "          -0.1770251 , -0.88237125],\n",
       "         [ 0.67638916, -2.5163848 , -1.2402787 , ...,  0.9863254 ,\n",
       "          -0.8120413 , -0.41015068]],\n",
       "\n",
       "        [[-1.375751  , -0.06480275, -0.53562135, ...,  0.4764005 ,\n",
       "          -0.5853823 ,  0.43127513],\n",
       "         [-1.365959  , -0.6372579 ,  0.5827835 , ..., -1.7093699 ,\n",
       "          -0.05503654, -0.92369187],\n",
       "         [ 0.3881921 ,  0.17101002, -0.8609318 , ...,  0.6409527 ,\n",
       "          -0.45894462, -0.3654937 ],\n",
       "         ...,\n",
       "         [ 1.7621515 , -2.206341  , -0.57177824, ...,  0.16409862,\n",
       "           1.0205256 , -0.23366147],\n",
       "         [ 0.341958  ,  1.5837098 ,  0.49024004, ...,  0.26627633,\n",
       "          -0.96994394, -1.4867684 ],\n",
       "         [ 2.1311173 ,  0.13440831,  0.98793894, ...,  0.10937516,\n",
       "          -0.5200202 , -1.342949  ]],\n",
       "\n",
       "        [[-1.4360816 ,  1.2806847 , -1.9938742 , ...,  0.08983755,\n",
       "          -0.04076378, -0.3901818 ],\n",
       "         [-0.2434553 , -0.82576954, -0.40464118, ...,  0.8022084 ,\n",
       "           1.7857422 ,  0.72653633],\n",
       "         [ 0.4120906 ,  0.92000955,  0.49959937, ..., -0.37675533,\n",
       "           0.25655016, -0.86727154],\n",
       "         ...,\n",
       "         [ 0.5963448 ,  0.5831153 ,  0.8655785 , ...,  1.8766667 ,\n",
       "           0.6554711 , -0.418787  ],\n",
       "         [ 0.18807484,  1.3568242 , -1.919469  , ...,  1.2940602 ,\n",
       "           0.60696316,  0.6419747 ],\n",
       "         [-0.76853067, -0.42793727, -0.7943176 , ..., -0.49451464,\n",
       "          -0.72390205, -1.0179435 ]]]], dtype=float32)>"
      ]
     },
     "execution_count": 71,
     "metadata": {},
     "output_type": "execute_result"
    }
   ],
   "source": [
    "tf.transpose(x,perm=[0,3,1,2]) # 交换维度 "
   ]
  },
  {
   "cell_type": "markdown",
   "metadata": {},
   "source": [
    "**增加维度**"
   ]
  },
  {
   "cell_type": "code",
   "execution_count": 73,
   "metadata": {},
   "outputs": [],
   "source": [
    "x = tf.range(4)\n",
    "x=tf.reshape(x,[2,2])"
   ]
  },
  {
   "cell_type": "code",
   "execution_count": 74,
   "metadata": {},
   "outputs": [],
   "source": [
    " x = tf.tile(x,multiples=[1,2]) # 列维度复制一份 "
   ]
  },
  {
   "cell_type": "code",
   "execution_count": 75,
   "metadata": {},
   "outputs": [],
   "source": [
    "x = tf.tile(x,multiples=[2,1]) # 行维度复制一份"
   ]
  },
  {
   "cell_type": "markdown",
   "metadata": {},
   "source": [
    "### 4.7Broadcasting"
   ]
  },
  {
   "cell_type": "markdown",
   "metadata": {},
   "source": [
    "Broadcasting 称为广播机制(或自动扩展机制)，它是一种轻量级的张量复制手段，在逻\n",
    "辑上扩展张量数据的形状，但是只会在需要时才会执行实际存储复制操作。对于大部分场\n",
    "景，Broadcasting 机制都能通过优化手段避免实际复制数据而完成逻辑运算，从而相对于\n",
    "tf.tile 函数,减少了大量计算的代价。"
   ]
  },
  {
   "cell_type": "markdown",
   "metadata": {},
   "source": [
    "tf.tile 会创建一个新的张量，执行复制 IO 操作，并保存复制后的\n",
    "张量数据，而 Broadcasting 并不会立即复制数据，它会在逻辑上改变张量的形状，使得视\n",
    "图上变成了复制后的形状。Broadcasting 会通过深度学习框架的优化手段避免实际复制数据\n",
    "而完成逻辑运算，至于怎么实现的用户不必关心，对于用户来说，Broadcasting 和 tf.tile 复\n",
    "制的最终效果是一样的，操作对用户透明，但是 Broadcasting 机制节省了大量计算资源，\n",
    "建议在运算过程中尽可能地利用 Broadcasting 机制提高计算效率。\n"
   ]
  },
  {
   "cell_type": "markdown",
   "metadata": {},
   "source": [
    "for exampe:"
   ]
  },
  {
   "cell_type": "code",
   "execution_count": 82,
   "metadata": {},
   "outputs": [
    {
     "data": {
      "text/plain": [
       "<tf.Tensor: shape=(2, 4), dtype=float32, numpy=\n",
       "array([[-0.18258896,  0.5626915 ,  0.35358894, -0.8304874 ],\n",
       "       [-1.0757873 ,  0.46328384,  1.3937892 , -1.616741  ]],\n",
       "      dtype=float32)>"
      ]
     },
     "execution_count": 82,
     "metadata": {},
     "output_type": "execute_result"
    }
   ],
   "source": [
    "x = tf.random.normal([2,4]) \n",
    "x"
   ]
  },
  {
   "cell_type": "code",
   "execution_count": 83,
   "metadata": {},
   "outputs": [
    {
     "data": {
      "text/plain": [
       "<tf.Tensor: shape=(4, 3), dtype=float32, numpy=\n",
       "array([[ 0.16295251, -1.0552638 ,  0.8757895 ],\n",
       "       [ 0.9778233 ,  0.3799422 ,  0.7142063 ],\n",
       "       [-2.174831  ,  0.5895095 ,  0.00311511],\n",
       "       [-0.79689956,  0.32305008,  0.60507953]], dtype=float32)>"
      ]
     },
     "execution_count": 83,
     "metadata": {},
     "output_type": "execute_result"
    }
   ],
   "source": [
    "w = tf.random.normal([4,3])\n",
    "w"
   ]
  },
  {
   "cell_type": "code",
   "execution_count": 84,
   "metadata": {},
   "outputs": [
    {
     "data": {
      "text/plain": [
       "<tf.Tensor: shape=(3,), dtype=float32, numpy=array([ 1.1308786 , -0.39868146, -0.89508504], dtype=float32)>"
      ]
     },
     "execution_count": 84,
     "metadata": {},
     "output_type": "execute_result"
    }
   ],
   "source": [
    "b = tf.random.normal([3])\n",
    "b"
   ]
  },
  {
   "cell_type": "code",
   "execution_count": 85,
   "metadata": {},
   "outputs": [
    {
     "data": {
      "text/plain": [
       "<tf.Tensor: shape=(2, 3), dtype=float32, numpy=\n",
       "array([[ 0.4130653 ,  0.34654152, -0.25951877],\n",
       "       [-1.4655538 ,  1.6110563 , -1.5857104 ]], dtype=float32)>"
      ]
     },
     "execution_count": 85,
     "metadata": {},
     "output_type": "execute_result"
    }
   ],
   "source": [
    "x@w "
   ]
  },
  {
   "cell_type": "code",
   "execution_count": 81,
   "metadata": {},
   "outputs": [],
   "source": [
    "y = x@w+b # 不同 shape 的张量直接相加 "
   ]
  },
  {
   "cell_type": "markdown",
   "metadata": {},
   "source": [
    "上述加法并没有发生逻辑错误，那么它是怎么实现的呢？这是因为它自动调用 Broadcasting\n",
    "函数 tf.broadcast_to(x, new_shape)，将两者 shape 扩张为相同的[2,3]，即上式可以等效为：\n"
   ]
  },
  {
   "cell_type": "code",
   "execution_count": 86,
   "metadata": {},
   "outputs": [],
   "source": [
    "y = x@w + tf.broadcast_to(b,[2,3]) # 手动扩展，并相加 "
   ]
  },
  {
   "cell_type": "markdown",
   "metadata": {},
   "source": [
    "Broadcasting 机制的核心思想是普适性，即同一份数据能普遍适合于其他位置。在验证\n",
    "普适性之前，需要先将张量 shape 靠右对齐，然后进行普适性判断：对于长度为 1 的维\n",
    "度，默认这个数据普遍适合于当前维度的其他位置；对于不存在的维度，则在增加新维度\n",
    "后默认当前数据也是普适于新维度的，从而可以扩展为更多维度数、任意长度的张量形\n",
    "状。"
   ]
  },
  {
   "cell_type": "markdown",
   "metadata": {},
   "source": [
    "### 4.8数学运算"
   ]
  },
  {
   "cell_type": "markdown",
   "metadata": {},
   "source": [
    "加、减、乘、除是最基本的数学运算，分别通过 tf.add, tf.subtract, tf.multiply, tf.divide\n",
    "函数实现，TensorFlow 已经重载了+、 − 、 ∗ 、/运算符，一般推荐直接使用运算符来完成\n",
    "加、减、乘、除运算。"
   ]
  },
  {
   "cell_type": "markdown",
   "metadata": {},
   "source": [
    "神经网络中间包含了大量的矩阵相乘运算，前面我们已经介绍了通过@运算符可以方便的实现矩阵相乘，还可以通过 tf.matmul(a, b)函数实现。需要注意的是，TensorFlow 中的\n",
    "矩阵相乘可以使用批量方式，也就是张量𝑨和𝑩的维度数可以大于 2。当张量𝑨和𝑩维度数大\n",
    "于 2 时，TensorFlow 会选择𝑨和𝑩的最后两个维度进行矩阵相乘，前面所有的维度都视作\n",
    "Batch 维度。"
   ]
  },
  {
   "cell_type": "code",
   "execution_count": 87,
   "metadata": {
    "collapsed": true
   },
   "outputs": [
    {
     "data": {
      "text/plain": [
       "<tf.Tensor: shape=(4, 3, 28, 2), dtype=float32, numpy=\n",
       "array([[[[ 8.73629665e+00, -9.09929943e+00],\n",
       "         [-2.11964846e-02,  5.59263992e+00],\n",
       "         [-5.90523195e+00, -4.94502401e+00],\n",
       "         [ 3.84126902e+00, -5.76550484e+00],\n",
       "         [-2.36699390e+00,  1.50437820e+00],\n",
       "         [ 8.06472778e+00,  1.00651407e+01],\n",
       "         [-5.75785112e+00, -2.99274707e+00],\n",
       "         [-4.19669867e-01, -6.50738955e+00],\n",
       "         [ 3.10180962e-01,  1.10841303e+01],\n",
       "         [ 1.03532209e+01,  7.46614456e-01],\n",
       "         [-3.24788260e+00,  5.11159277e+00],\n",
       "         [ 4.62035131e+00,  1.08309698e+00],\n",
       "         [-3.18176746e-01, -6.89177513e-01],\n",
       "         [ 2.86870837e+00,  3.27362657e-01],\n",
       "         [ 1.79585016e+00, -1.68332541e+00],\n",
       "         [ 9.18950462e+00,  7.16322601e-01],\n",
       "         [ 7.93633652e+00, -4.80275440e+00],\n",
       "         [ 1.29583263e+00,  1.41223818e-01],\n",
       "         [ 3.30102515e+00, -3.39949179e+00],\n",
       "         [-3.36612225e+00,  2.03255117e-01],\n",
       "         [ 1.19525278e+00, -4.76482570e-01],\n",
       "         [-6.35562706e+00,  5.64551163e+00],\n",
       "         [ 1.49916077e+01,  6.90878153e+00],\n",
       "         [-7.88217020e+00, -3.10230136e-01],\n",
       "         [-2.97024131e+00, -6.83114052e+00],\n",
       "         [ 3.44805062e-01,  7.68097258e+00],\n",
       "         [ 2.91253495e+00, -1.59617271e+01],\n",
       "         [-2.98074627e+00,  1.08273566e+00]],\n",
       "\n",
       "        [[-1.05967474e+01, -4.74070168e+00],\n",
       "         [-1.46401119e+00,  5.78249311e+00],\n",
       "         [ 6.64040184e+00,  1.51640005e+01],\n",
       "         [-1.51123838e+01, -7.18532753e+00],\n",
       "         [-5.10037184e+00,  1.59565735e+00],\n",
       "         [-1.46846306e+00, -3.07077813e+00],\n",
       "         [-8.62956524e+00,  4.74239922e+00],\n",
       "         [-1.17607899e+01,  8.28603840e+00],\n",
       "         [ 6.14294529e+00, -3.33882642e+00],\n",
       "         [ 6.39483643e+00, -5.06802440e-01],\n",
       "         [-1.35722828e+01, -4.30804110e+00],\n",
       "         [-2.45986843e+00,  2.11387944e+00],\n",
       "         [-1.20396733e-01, -4.92694569e+00],\n",
       "         [ 7.11906481e+00,  5.72484779e+00],\n",
       "         [ 1.15696182e+01,  8.08345795e+00],\n",
       "         [ 1.02532196e+00, -8.75663757e-03],\n",
       "         [ 9.97833431e-01, -9.24899101e+00],\n",
       "         [ 2.98075700e+00,  1.43404646e+01],\n",
       "         [ 2.51602077e+00,  2.91513729e+00],\n",
       "         [ 5.54032326e+00,  1.30285406e+00],\n",
       "         [-1.03753624e+01, -9.29879546e-02],\n",
       "         [-7.95614958e+00, -1.06110783e+01],\n",
       "         [-5.06568575e+00, -8.58033466e+00],\n",
       "         [ 5.87219667e+00,  6.14685202e+00],\n",
       "         [-1.15912795e+00, -1.64601879e+01],\n",
       "         [-1.82841444e+00, -4.28398418e+00],\n",
       "         [ 9.29206371e+00, -4.92228222e+00],\n",
       "         [ 7.94537067e+00, -7.34520245e+00]],\n",
       "\n",
       "        [[ 3.55932379e+00, -2.61625528e+00],\n",
       "         [-4.42893267e-01,  7.71133804e+00],\n",
       "         [-8.41693401e+00,  3.54861331e+00],\n",
       "         [ 5.36709428e-01,  5.73161697e+00],\n",
       "         [ 6.23378897e+00,  1.22505105e+00],\n",
       "         [ 7.45313311e+00, -7.04237509e+00],\n",
       "         [-3.35963488e+00,  4.41964102e+00],\n",
       "         [ 5.21241713e+00,  1.44161153e+00],\n",
       "         [ 2.58426476e+00, -5.63346720e+00],\n",
       "         [-1.16240158e+01, -2.81808615e+00],\n",
       "         [-6.98394203e+00,  1.97344244e+00],\n",
       "         [ 7.41218758e+00, -2.33777463e-02],\n",
       "         [ 4.77089834e+00, -3.30625200e+00],\n",
       "         [ 3.56038022e+00, -3.32417750e+00],\n",
       "         [ 4.60970831e+00,  8.42287242e-01],\n",
       "         [ 5.80715942e+00,  6.75597095e+00],\n",
       "         [ 9.29400635e+00,  8.92032206e-01],\n",
       "         [-3.28960443e+00,  8.08272266e+00],\n",
       "         [ 1.81545222e+00, -4.66777515e+00],\n",
       "         [-2.18025732e+00, -1.00160730e+00],\n",
       "         [ 4.80285835e+00,  6.72769427e-01],\n",
       "         [-5.64338493e+00,  5.36338043e+00],\n",
       "         [-3.94641423e+00, -6.42684078e+00],\n",
       "         [-5.17985392e+00, -1.05535984e+00],\n",
       "         [-7.53355742e+00, -4.63171482e+00],\n",
       "         [ 7.85997200e+00,  9.06733513e+00],\n",
       "         [ 4.12829971e+00, -1.74904168e+00],\n",
       "         [ 3.58610094e-01, -3.09522414e+00]]],\n",
       "\n",
       "\n",
       "       [[[-4.50644350e+00,  1.85989535e+00],\n",
       "         [-8.25875998e-01, -4.50915432e+00],\n",
       "         [-6.72315407e+00,  3.48962116e+00],\n",
       "         [ 1.31623340e+00, -9.91622806e-01],\n",
       "         [ 4.06779289e+00,  1.70692468e+00],\n",
       "         [ 1.07818451e+01,  5.78969049e+00],\n",
       "         [-6.74943972e+00,  1.32192125e+01],\n",
       "         [ 3.16666770e+00, -7.17946243e+00],\n",
       "         [-5.52178812e+00,  9.38874722e+00],\n",
       "         [-1.79447711e-01,  1.56650639e+00],\n",
       "         [ 1.21038799e+01,  1.18296089e+01],\n",
       "         [-6.29967451e-03,  4.23759794e+00],\n",
       "         [-8.67609787e+00,  1.04814577e+01],\n",
       "         [-6.25907278e+00,  3.86609644e-01],\n",
       "         [-7.35133219e+00, -4.04605913e+00],\n",
       "         [ 6.77098560e+00, -5.76865482e+00],\n",
       "         [-2.90147614e+00,  2.65160060e+00],\n",
       "         [ 8.70266914e+00,  1.34081960e+00],\n",
       "         [-1.19294891e+01, -6.11327410e+00],\n",
       "         [-8.75572872e+00,  5.74856281e+00],\n",
       "         [-1.69107380e+01,  2.07494044e+00],\n",
       "         [-1.53183281e+00,  1.25581760e+01],\n",
       "         [-1.03632336e+01,  4.14077854e+00],\n",
       "         [ 6.29194021e+00, -1.23546469e+00],\n",
       "         [-6.47865438e+00,  5.51882982e+00],\n",
       "         [ 1.16275942e+00,  3.20951843e+00],\n",
       "         [ 5.50951242e+00,  3.09084654e+00],\n",
       "         [-5.42750788e+00,  6.41072559e+00]],\n",
       "\n",
       "        [[ 3.00147891e-01,  3.01530051e+00],\n",
       "         [-1.04864073e+00, -2.26698661e+00],\n",
       "         [-3.55218005e+00, -6.90370798e+00],\n",
       "         [-9.86547470e-02, -2.52352285e+00],\n",
       "         [ 2.15094638e+00, -1.53385115e+00],\n",
       "         [-3.24303532e+00, -7.22291040e+00],\n",
       "         [ 4.83014822e-01, -6.87143612e+00],\n",
       "         [-3.43987703e+00,  8.21347904e+00],\n",
       "         [ 9.97196734e-01,  1.36836243e+00],\n",
       "         [ 6.01125896e-01,  3.73299599e+00],\n",
       "         [-1.33761525e+00, -4.38468027e+00],\n",
       "         [ 4.37109613e+00, -1.11133375e+01],\n",
       "         [-2.45675874e+00, -8.52748013e+00],\n",
       "         [-4.27982092e+00, -4.14124012e-01],\n",
       "         [-1.62892628e+00, -4.31016064e+00],\n",
       "         [-8.84597397e+00, -2.43444729e+00],\n",
       "         [-3.24723244e-01,  1.60922647e+00],\n",
       "         [-2.52576256e+00,  3.04265857e+00],\n",
       "         [ 6.02398825e+00, -3.54426479e+00],\n",
       "         [ 3.67957830e+00,  1.80196714e+00],\n",
       "         [-4.96049595e+00, -7.27377653e+00],\n",
       "         [-1.16093254e+00,  1.98395264e+00],\n",
       "         [ 7.46891499e-02,  5.18556166e+00],\n",
       "         [-3.56834245e+00, -1.83643365e+00],\n",
       "         [ 1.16735995e+00,  7.26991796e+00],\n",
       "         [ 2.75968122e+00,  6.57485962e+00],\n",
       "         [ 1.93735802e+00, -1.95883727e+00],\n",
       "         [ 8.60138321e+00,  6.37967730e+00]],\n",
       "\n",
       "        [[ 2.93566489e+00,  2.95727229e+00],\n",
       "         [-4.16263866e+00, -3.62874389e+00],\n",
       "         [-1.71001863e+00, -2.56610227e+00],\n",
       "         [ 4.63985252e+00,  6.22266626e+00],\n",
       "         [ 1.72484505e+00,  9.02294040e-01],\n",
       "         [-6.57506990e+00, -1.47349370e+00],\n",
       "         [ 7.02174950e+00, -4.85178232e-01],\n",
       "         [-1.31400013e+00, -8.21506214e+00],\n",
       "         [ 3.75592279e+00, -1.25288081e+00],\n",
       "         [ 1.32107854e+00, -4.56805992e+00],\n",
       "         [-6.11343384e+00, -6.70779848e+00],\n",
       "         [ 2.48268986e+00, -1.50556993e+00],\n",
       "         [-2.76494026e-01,  3.05016875e+00],\n",
       "         [-2.20672560e+00,  4.69716597e+00],\n",
       "         [ 1.04406328e+01,  7.72725058e+00],\n",
       "         [ 1.45187464e+01,  7.21178341e+00],\n",
       "         [-1.48963833e+00, -5.35112953e+00],\n",
       "         [ 3.29507661e+00, -8.11182261e-02],\n",
       "         [ 4.59035754e-01, -3.67246914e+00],\n",
       "         [-6.63006258e+00,  1.09108973e+01],\n",
       "         [-1.55483484e-01, -1.03378701e+00],\n",
       "         [ 1.79708958e+00, -8.30572486e-01],\n",
       "         [ 1.76813996e+00,  1.22397928e+01],\n",
       "         [-9.86950684e+00,  1.38327634e+00],\n",
       "         [-8.44818354e-01, -8.47210217e+00],\n",
       "         [-2.39382482e+00,  3.69035530e+00],\n",
       "         [-6.67507648e+00, -4.52095699e+00],\n",
       "         [ 3.59551001e+00, -4.58418965e-01]]],\n",
       "\n",
       "\n",
       "       [[[-2.89831901e+00, -6.77120781e+00],\n",
       "         [ 5.88257980e+00,  2.40513396e+00],\n",
       "         [-3.62534142e+00,  3.06510115e+00],\n",
       "         [-1.72135270e+00, -7.45803165e+00],\n",
       "         [ 3.90433240e+00,  9.69244576e+00],\n",
       "         [-3.30415177e+00,  4.08468914e+00],\n",
       "         [-7.90565300e+00, -1.72127318e+00],\n",
       "         [-1.58371639e+00,  1.21404171e+00],\n",
       "         [ 1.67387676e+00, -3.87583351e+00],\n",
       "         [ 6.21768236e-01, -4.24822569e+00],\n",
       "         [-1.18866694e+00, -2.56904721e-01],\n",
       "         [ 8.68679619e+00, -4.17929602e+00],\n",
       "         [-1.39526927e+00, -6.28866196e+00],\n",
       "         [ 4.55620813e+00, -2.92339754e+00],\n",
       "         [-6.99256420e-01, -1.26548672e+01],\n",
       "         [ 8.02143288e+00,  4.62102318e+00],\n",
       "         [ 3.53412414e+00, -1.08078647e+00],\n",
       "         [-5.58047342e+00, -7.03625107e+00],\n",
       "         [-4.98706484e+00, -5.29619026e+00],\n",
       "         [ 6.07120419e+00, -1.20320072e+01],\n",
       "         [ 5.27235508e+00, -8.51479816e+00],\n",
       "         [ 2.99012423e-01,  6.11409235e+00],\n",
       "         [ 3.04848266e+00,  1.31220951e+01],\n",
       "         [ 7.38750935e-01, -5.15988493e+00],\n",
       "         [-4.47230196e+00,  1.24462709e+01],\n",
       "         [ 6.49572659e+00,  2.62998939e+00],\n",
       "         [ 9.39516258e+00, -6.73778009e+00],\n",
       "         [ 2.11860538e+00,  6.13522196e+00]],\n",
       "\n",
       "        [[ 2.27336168e+00, -3.63871765e+00],\n",
       "         [-4.88823223e+00,  1.20644350e+01],\n",
       "         [-1.02132869e+00,  7.84163427e+00],\n",
       "         [-1.79462147e+01,  3.39137506e+00],\n",
       "         [-2.01273131e+00,  9.12810683e-01],\n",
       "         [-7.35775232e+00,  1.16691208e+01],\n",
       "         [ 4.22707987e+00, -3.49656582e+00],\n",
       "         [ 6.25069284e+00, -6.32722330e+00],\n",
       "         [ 1.02226079e+00,  3.01357269e-01],\n",
       "         [-5.08209515e+00,  4.16369057e+00],\n",
       "         [ 3.48452032e-01,  2.10926390e+00],\n",
       "         [-1.54864788e-03, -8.76578522e+00],\n",
       "         [ 1.26292400e+01, -8.16161823e+00],\n",
       "         [ 5.08757925e+00,  5.55310726e-01],\n",
       "         [-5.72764206e+00,  3.73628116e+00],\n",
       "         [ 2.39629459e+00,  2.61311984e+00],\n",
       "         [ 1.56375468e+00, -2.74730062e+00],\n",
       "         [-1.31802254e+01,  6.04323721e+00],\n",
       "         [ 2.84694314e+00, -2.15803289e+00],\n",
       "         [ 9.93677044e+00,  2.93607831e+00],\n",
       "         [-4.28206682e+00, -6.59668446e-02],\n",
       "         [-8.80806446e+00,  7.69307899e+00],\n",
       "         [-1.20654488e+00,  1.49724035e+01],\n",
       "         [-1.76426518e+00, -5.00769711e+00],\n",
       "         [ 3.13085866e+00, -5.70468140e+00],\n",
       "         [-6.78894043e+00, -2.57140040e+00],\n",
       "         [ 8.89130211e+00, -1.00953064e+01],\n",
       "         [-5.40752792e+00,  2.52808738e+00]],\n",
       "\n",
       "        [[ 2.54357398e-01,  3.48068619e+00],\n",
       "         [ 1.51306880e+00,  2.72579765e+00],\n",
       "         [ 9.40291786e+00, -4.76974535e+00],\n",
       "         [-6.48432255e-01,  5.40766478e-01],\n",
       "         [-7.85077906e+00,  9.19722557e-01],\n",
       "         [ 5.12826967e+00, -1.67430592e+00],\n",
       "         [ 3.65987325e+00,  8.59453022e-01],\n",
       "         [ 1.85238469e+00,  2.42792279e-01],\n",
       "         [-1.25958204e-01,  3.96294093e+00],\n",
       "         [-4.83588409e+00, -1.60068083e+00],\n",
       "         [ 4.34899378e+00, -5.33347988e+00],\n",
       "         [ 1.78635204e+00, -1.01552954e+01],\n",
       "         [-1.35766983e+00,  9.95938301e-01],\n",
       "         [-4.09465253e-01, -1.90338421e+00],\n",
       "         [ 4.12279224e+00, -1.01122227e+01],\n",
       "         [-5.51917410e+00, -6.16795778e+00],\n",
       "         [ 3.10029602e+00,  3.31443882e+00],\n",
       "         [ 5.67547941e+00, -9.21096325e+00],\n",
       "         [-5.68614006e-02, -3.74051619e+00],\n",
       "         [-1.11579418e-01, -9.26421928e+00],\n",
       "         [ 5.17398548e+00, -2.89403534e+00],\n",
       "         [-3.46481037e+00,  2.87227869e+00],\n",
       "         [-8.40332317e+00,  1.81528926e+00],\n",
       "         [ 1.03852482e+01, -2.19367552e+00],\n",
       "         [ 7.75871754e-01,  1.10977526e+01],\n",
       "         [-4.41238499e+00, -4.79331112e+00],\n",
       "         [ 5.24397469e+00, -5.10986447e-02],\n",
       "         [-1.23407240e+01, -8.13896060e-01]]],\n",
       "\n",
       "\n",
       "       [[[ 1.14874592e+01,  3.42857790e+00],\n",
       "         [-6.11207485e+00, -8.24665785e-01],\n",
       "         [ 4.88100171e-01,  4.10680676e+00],\n",
       "         [-4.26008940e+00,  5.92541099e-01],\n",
       "         [-7.19595146e+00, -3.50966167e+00],\n",
       "         [-1.64375436e+00,  4.87289572e+00],\n",
       "         [ 4.48041248e+00, -3.20298052e+00],\n",
       "         [ 3.91341615e+00, -2.26041198e+00],\n",
       "         [-3.52185297e+00,  1.11501288e+00],\n",
       "         [ 1.24218349e+01, -6.28087902e+00],\n",
       "         [-1.54964533e+01,  2.00517058e+00],\n",
       "         [-2.48911643e+00,  6.04178238e+00],\n",
       "         [ 7.02335739e+00, -2.77996159e+00],\n",
       "         [ 2.39232683e+00, -3.17524314e+00],\n",
       "         [-1.75352931e+00,  6.26323223e+00],\n",
       "         [-1.07950573e+01,  1.01382256e+01],\n",
       "         [ 2.87053823e+00,  4.22187090e+00],\n",
       "         [ 1.14477434e+01, -1.12720194e+01],\n",
       "         [ 2.97655449e+01, -7.11886168e+00],\n",
       "         [-3.22485733e+00, -1.53542447e+00],\n",
       "         [-4.05131531e+00,  8.78328419e+00],\n",
       "         [-1.32974215e+01,  1.58124475e+01],\n",
       "         [ 1.12007799e+01,  1.27693911e+01],\n",
       "         [-1.09414511e+01,  3.90983915e+00],\n",
       "         [-4.55172110e+00, -1.54851651e+00],\n",
       "         [ 5.42110872e+00, -3.05378437e+00],\n",
       "         [-2.59505129e+00, -3.26231670e+00],\n",
       "         [ 2.61055708e+00, -1.16745825e+01]],\n",
       "\n",
       "        [[-4.41310072e+00, -4.53390062e-01],\n",
       "         [ 4.27214241e+00,  5.23754358e-02],\n",
       "         [ 9.86150503e-01,  1.30531526e+00],\n",
       "         [-9.92700100e+00, -1.37863188e+01],\n",
       "         [-5.47547436e+00, -1.61280231e+01],\n",
       "         [ 1.38371401e+01, -1.00661516e-01],\n",
       "         [ 9.26712799e+00, -8.67591143e-01],\n",
       "         [-4.04166317e+00,  3.42542720e+00],\n",
       "         [-7.71296072e+00,  7.61564589e+00],\n",
       "         [ 1.04063549e+01,  7.71226597e+00],\n",
       "         [-9.24847126e+00,  3.86530137e+00],\n",
       "         [ 5.04980898e+00,  2.04377234e-01],\n",
       "         [-1.10701551e+01, -3.27679586e+00],\n",
       "         [-1.08611965e+01, -9.84257400e-01],\n",
       "         [ 1.93417168e+00, -1.16675854e+00],\n",
       "         [-4.21862602e+00,  1.78155303e-01],\n",
       "         [-6.95312881e+00, -2.15385199e+00],\n",
       "         [ 3.66136432e+00,  8.71938467e-01],\n",
       "         [ 1.97066283e+00,  6.51457834e+00],\n",
       "         [-5.22446537e+00,  3.87145138e+00],\n",
       "         [ 2.43715477e+00, -6.63997889e+00],\n",
       "         [ 8.14269924e+00,  1.07282281e+00],\n",
       "         [ 9.24354196e-01,  2.56061435e-01],\n",
       "         [ 7.25264215e+00,  9.33213234e-01],\n",
       "         [-2.80603933e+00, -1.16455364e+00],\n",
       "         [-1.02340174e+01, -5.29695034e-01],\n",
       "         [ 1.56414766e+01, -4.67363977e+00],\n",
       "         [-1.45439634e+01,  3.77444482e+00]],\n",
       "\n",
       "        [[-4.73480415e+00, -1.91516542e+00],\n",
       "         [ 1.05578098e+01, -6.78200543e-01],\n",
       "         [-3.10877204e-01, -7.13813591e+00],\n",
       "         [ 1.02211857e+01, -1.52401257e+00],\n",
       "         [ 3.79147220e+00,  8.98563004e+00],\n",
       "         [ 1.05053778e+01, -6.21924734e+00],\n",
       "         [-6.96559846e-01,  1.58753002e+00],\n",
       "         [ 1.18739605e+00, -9.44168854e+00],\n",
       "         [ 1.19082804e+01, -1.88341844e+00],\n",
       "         [ 2.30079722e+00,  4.63840055e+00],\n",
       "         [-4.72167850e-01,  8.35967445e+00],\n",
       "         [-2.52925825e+00, -7.79140711e+00],\n",
       "         [ 8.39725208e+00, -2.26366711e+00],\n",
       "         [-1.14292145e+00, -1.74097586e+00],\n",
       "         [ 1.34199018e+01, -3.48918605e+00],\n",
       "         [ 6.96440101e-01, -5.74089670e+00],\n",
       "         [-8.38475323e+00,  5.79816103e+00],\n",
       "         [-6.36373234e+00,  4.47395992e+00],\n",
       "         [ 1.45537424e+00,  9.16456461e-01],\n",
       "         [ 1.68873489e+00, -4.74184799e+00],\n",
       "         [-6.14273787e+00, -2.50746310e-01],\n",
       "         [-5.11789322e-03, -1.02432270e+01],\n",
       "         [-4.65207863e+00,  4.00799942e+00],\n",
       "         [-8.19137383e+00, -3.45206594e+00],\n",
       "         [-4.39543724e+00,  2.01687121e+00],\n",
       "         [ 2.66956806e-01,  3.53553557e+00],\n",
       "         [-5.06835747e+00,  3.88979244e+00],\n",
       "         [-1.69015527e+00, -1.42707038e+00]]]], dtype=float32)>"
      ]
     },
     "execution_count": 87,
     "metadata": {},
     "output_type": "execute_result"
    }
   ],
   "source": [
    "a = tf.random.normal([4,3,28,32])\n",
    "b = tf.random.normal([4,3,32,2])\n",
    "a@b "
   ]
  },
  {
   "cell_type": "markdown",
   "metadata": {},
   "source": [
    "### 4.9前向传播实战"
   ]
  },
  {
   "cell_type": "markdown",
   "metadata": {},
   "source": [
    "到现在为止，我们已经介绍了如何创建张量、对张量进行索引切片、维度变换和常见\n",
    "的数学运算等操作。最后我们将利用已经学到的知识去完成三层神经网络的实现"
   ]
  },
  {
   "cell_type": "markdown",
   "metadata": {},
   "source": [
    "$$out=ReLU{ReLU{ReLU[X@W_1+B_1]@W_2+B_2}@W_3+B_3}$$"
   ]
  },
  {
   "cell_type": "markdown",
   "metadata": {},
   "source": [
    "应用实例：我们采用的数据集是 MNIST 手写数字图片集，输入节点数为 784，第一层的输出节点数是256，第二层的输出节点数是 128，第三层的输出节点是 10，也就是当前样本属于 10 类别\n",
    "的概率。"
   ]
  },
  {
   "cell_type": "markdown",
   "metadata": {},
   "source": [
    "- 每层的张量都需要被优化，所以使用Variable类型\n",
    "- 使用截断的正态分布初始化权值张量 \n",
    "- 使用全零初始化偏置向量"
   ]
  },
  {
   "cell_type": "code",
   "execution_count": 114,
   "metadata": {},
   "outputs": [
    {
     "data": {
      "text/plain": [
       "TensorShape([784, 256])"
      ]
     },
     "execution_count": 114,
     "metadata": {},
     "output_type": "execute_result"
    }
   ],
   "source": [
    "w1=tf.Variable(tf.random.truncated_normal([784,256],stddev=0.1)) \n",
    "b1=tf.Variable(tf.zeros([256])) \n",
    "w1.shape "
   ]
  },
  {
   "cell_type": "code",
   "execution_count": 115,
   "metadata": {},
   "outputs": [],
   "source": [
    "w2=tf.Variable(tf.random.truncated_normal([256,128],stddev=0.1)) \n",
    "b2=tf.Variable(tf.zeros([128])) "
   ]
  },
  {
   "cell_type": "code",
   "execution_count": 116,
   "metadata": {},
   "outputs": [],
   "source": [
    "w3 = tf.Variable(tf.random.truncated_normal([128, 10], stddev=0.1))\n",
    "b3 = tf.Variable(tf.zeros([10]))"
   ]
  },
  {
   "cell_type": "code",
   "execution_count": 117,
   "metadata": {
    "scrolled": true
   },
   "outputs": [
    {
     "name": "stdout",
     "output_type": "stream",
     "text": [
      "(60000, 28, 28)\n",
      "(60000, 10)\n"
     ]
    }
   ],
   "source": [
    "import os\n",
    "import tensorflow as tf\n",
    "from tensorflow import keras \n",
    "from tensorflow.keras import layers,optimizers,datasets\n",
    "\n",
    "(x,y),(x_val,y_val)=datasets.mnist.load_data()  \n",
    "x_input=2*tf.convert_to_tensor(x,dtype=tf.float32)/255-1\n",
    "y_output=tf.one_hot(y,depth=10)\n",
    "print(x_input.shape)\n",
    "print(y_output.shape) "
   ]
  },
  {
   "cell_type": "code",
   "execution_count": 129,
   "metadata": {
    "collapsed": true
   },
   "outputs": [
    {
     "ename": "InvalidArgumentError",
     "evalue": "Cannot update variable with shape [128] using a Tensor with shape [10], shapes must be equal. [Op:AssignSubVariableOp]",
     "output_type": "error",
     "traceback": [
      "\u001b[1;31m---------------------------------------------------------------------------\u001b[0m",
      "\u001b[1;31mInvalidArgumentError\u001b[0m                      Traceback (most recent call last)",
      "\u001b[1;32m<ipython-input-129-975103035a33>\u001b[0m in \u001b[0;36m<module>\u001b[1;34m\u001b[0m\n\u001b[0;32m     25\u001b[0m \u001b[0mb2\u001b[0m\u001b[1;33m.\u001b[0m\u001b[0massign_sub\u001b[0m\u001b[1;33m(\u001b[0m\u001b[0mlr\u001b[0m \u001b[1;33m*\u001b[0m \u001b[0mgrads\u001b[0m\u001b[1;33m[\u001b[0m\u001b[1;36m3\u001b[0m\u001b[1;33m]\u001b[0m\u001b[1;33m)\u001b[0m\u001b[1;33m\u001b[0m\u001b[1;33m\u001b[0m\u001b[0m\n\u001b[0;32m     26\u001b[0m \u001b[0mw3\u001b[0m\u001b[1;33m.\u001b[0m\u001b[0massign_sub\u001b[0m\u001b[1;33m(\u001b[0m\u001b[0mlr\u001b[0m \u001b[1;33m*\u001b[0m \u001b[0mgrads\u001b[0m\u001b[1;33m[\u001b[0m\u001b[1;36m4\u001b[0m\u001b[1;33m]\u001b[0m\u001b[1;33m)\u001b[0m\u001b[1;33m\u001b[0m\u001b[1;33m\u001b[0m\u001b[0m\n\u001b[1;32m---> 27\u001b[1;33m \u001b[0mb2\u001b[0m\u001b[1;33m.\u001b[0m\u001b[0massign_sub\u001b[0m\u001b[1;33m(\u001b[0m\u001b[0mlr\u001b[0m \u001b[1;33m*\u001b[0m \u001b[0mgrads\u001b[0m\u001b[1;33m[\u001b[0m\u001b[1;36m5\u001b[0m\u001b[1;33m]\u001b[0m\u001b[1;33m)\u001b[0m\u001b[1;33m\u001b[0m\u001b[1;33m\u001b[0m\u001b[0m\n\u001b[0m",
      "\u001b[1;32m~\\anaconda3\\lib\\site-packages\\tensorflow\\python\\ops\\resource_variable_ops.py\u001b[0m in \u001b[0;36massign_sub\u001b[1;34m(self, delta, use_locking, name, read_value)\u001b[0m\n\u001b[0;32m    817\u001b[0m     \u001b[1;31m# don't need it.\u001b[0m\u001b[1;33m\u001b[0m\u001b[1;33m\u001b[0m\u001b[1;33m\u001b[0m\u001b[0m\n\u001b[0;32m    818\u001b[0m     \u001b[1;32mwith\u001b[0m \u001b[0m_handle_graph\u001b[0m\u001b[1;33m(\u001b[0m\u001b[0mself\u001b[0m\u001b[1;33m.\u001b[0m\u001b[0mhandle\u001b[0m\u001b[1;33m)\u001b[0m\u001b[1;33m,\u001b[0m \u001b[0mself\u001b[0m\u001b[1;33m.\u001b[0m\u001b[0m_assign_dependencies\u001b[0m\u001b[1;33m(\u001b[0m\u001b[1;33m)\u001b[0m\u001b[1;33m:\u001b[0m\u001b[1;33m\u001b[0m\u001b[1;33m\u001b[0m\u001b[0m\n\u001b[1;32m--> 819\u001b[1;33m       assign_sub_op = gen_resource_variable_ops.assign_sub_variable_op(\n\u001b[0m\u001b[0;32m    820\u001b[0m           \u001b[0mself\u001b[0m\u001b[1;33m.\u001b[0m\u001b[0mhandle\u001b[0m\u001b[1;33m,\u001b[0m\u001b[1;33m\u001b[0m\u001b[1;33m\u001b[0m\u001b[0m\n\u001b[0;32m    821\u001b[0m           \u001b[0mops\u001b[0m\u001b[1;33m.\u001b[0m\u001b[0mconvert_to_tensor\u001b[0m\u001b[1;33m(\u001b[0m\u001b[0mdelta\u001b[0m\u001b[1;33m,\u001b[0m \u001b[0mdtype\u001b[0m\u001b[1;33m=\u001b[0m\u001b[0mself\u001b[0m\u001b[1;33m.\u001b[0m\u001b[0mdtype\u001b[0m\u001b[1;33m)\u001b[0m\u001b[1;33m,\u001b[0m\u001b[1;33m\u001b[0m\u001b[1;33m\u001b[0m\u001b[0m\n",
      "\u001b[1;32m~\\anaconda3\\lib\\site-packages\\tensorflow\\python\\ops\\gen_resource_variable_ops.py\u001b[0m in \u001b[0;36massign_sub_variable_op\u001b[1;34m(resource, value, name)\u001b[0m\n\u001b[0;32m     93\u001b[0m       \u001b[1;32mreturn\u001b[0m \u001b[0m_result\u001b[0m\u001b[1;33m\u001b[0m\u001b[1;33m\u001b[0m\u001b[0m\n\u001b[0;32m     94\u001b[0m     \u001b[1;32mexcept\u001b[0m \u001b[0m_core\u001b[0m\u001b[1;33m.\u001b[0m\u001b[0m_NotOkStatusException\u001b[0m \u001b[1;32mas\u001b[0m \u001b[0me\u001b[0m\u001b[1;33m:\u001b[0m\u001b[1;33m\u001b[0m\u001b[1;33m\u001b[0m\u001b[0m\n\u001b[1;32m---> 95\u001b[1;33m       \u001b[0m_ops\u001b[0m\u001b[1;33m.\u001b[0m\u001b[0mraise_from_not_ok_status\u001b[0m\u001b[1;33m(\u001b[0m\u001b[0me\u001b[0m\u001b[1;33m,\u001b[0m \u001b[0mname\u001b[0m\u001b[1;33m)\u001b[0m\u001b[1;33m\u001b[0m\u001b[1;33m\u001b[0m\u001b[0m\n\u001b[0m\u001b[0;32m     96\u001b[0m     \u001b[1;32mexcept\u001b[0m \u001b[0m_core\u001b[0m\u001b[1;33m.\u001b[0m\u001b[0m_FallbackException\u001b[0m\u001b[1;33m:\u001b[0m\u001b[1;33m\u001b[0m\u001b[1;33m\u001b[0m\u001b[0m\n\u001b[0;32m     97\u001b[0m       \u001b[1;32mpass\u001b[0m\u001b[1;33m\u001b[0m\u001b[1;33m\u001b[0m\u001b[0m\n",
      "\u001b[1;32m~\\anaconda3\\lib\\site-packages\\tensorflow\\python\\framework\\ops.py\u001b[0m in \u001b[0;36mraise_from_not_ok_status\u001b[1;34m(e, name)\u001b[0m\n\u001b[0;32m   6860\u001b[0m   \u001b[0mmessage\u001b[0m \u001b[1;33m=\u001b[0m \u001b[0me\u001b[0m\u001b[1;33m.\u001b[0m\u001b[0mmessage\u001b[0m \u001b[1;33m+\u001b[0m \u001b[1;33m(\u001b[0m\u001b[1;34m\" name: \"\u001b[0m \u001b[1;33m+\u001b[0m \u001b[0mname\u001b[0m \u001b[1;32mif\u001b[0m \u001b[0mname\u001b[0m \u001b[1;32mis\u001b[0m \u001b[1;32mnot\u001b[0m \u001b[1;32mNone\u001b[0m \u001b[1;32melse\u001b[0m \u001b[1;34m\"\"\u001b[0m\u001b[1;33m)\u001b[0m\u001b[1;33m\u001b[0m\u001b[1;33m\u001b[0m\u001b[0m\n\u001b[0;32m   6861\u001b[0m   \u001b[1;31m# pylint: disable=protected-access\u001b[0m\u001b[1;33m\u001b[0m\u001b[1;33m\u001b[0m\u001b[1;33m\u001b[0m\u001b[0m\n\u001b[1;32m-> 6862\u001b[1;33m   \u001b[0msix\u001b[0m\u001b[1;33m.\u001b[0m\u001b[0mraise_from\u001b[0m\u001b[1;33m(\u001b[0m\u001b[0mcore\u001b[0m\u001b[1;33m.\u001b[0m\u001b[0m_status_to_exception\u001b[0m\u001b[1;33m(\u001b[0m\u001b[0me\u001b[0m\u001b[1;33m.\u001b[0m\u001b[0mcode\u001b[0m\u001b[1;33m,\u001b[0m \u001b[0mmessage\u001b[0m\u001b[1;33m)\u001b[0m\u001b[1;33m,\u001b[0m \u001b[1;32mNone\u001b[0m\u001b[1;33m)\u001b[0m\u001b[1;33m\u001b[0m\u001b[1;33m\u001b[0m\u001b[0m\n\u001b[0m\u001b[0;32m   6863\u001b[0m   \u001b[1;31m# pylint: enable=protected-access\u001b[0m\u001b[1;33m\u001b[0m\u001b[1;33m\u001b[0m\u001b[1;33m\u001b[0m\u001b[0m\n\u001b[0;32m   6864\u001b[0m \u001b[1;33m\u001b[0m\u001b[0m\n",
      "\u001b[1;32m~\\anaconda3\\lib\\site-packages\\six.py\u001b[0m in \u001b[0;36mraise_from\u001b[1;34m(value, from_value)\u001b[0m\n",
      "\u001b[1;31mInvalidArgumentError\u001b[0m: Cannot update variable with shape [128] using a Tensor with shape [10], shapes must be equal. [Op:AssignSubVariableOp]"
     ]
    }
   ],
   "source": [
    "with tf.GradientTape() as tape:\n",
    "    \n",
    "    #拉平操作：[batch,28,28]->[batch,784]\n",
    "    x=tf.reshape(x_input,(-1,28*28))\n",
    "    \n",
    "    h1=x@w1+b1 \n",
    "    h1=tf.nn.relu(h1)\n",
    "    \n",
    "    h2 = h1@w2 + b2\n",
    "    h2 = tf.nn.relu(h2) \n",
    "    \n",
    "    out = h2@w3 + b3 \n",
    "    #计算差的平方 [b,10]\n",
    "    loss = tf.square(out-y_output)\n",
    "    \n",
    "    #计算每个样本的平均误差\n",
    "    loss = tf.reduce_sum(loss) / x.shape[0] \n",
    "    \n",
    "grads = tape.gradient(loss, [w1, b1, w2, b2, w3, b3]) "
   ]
  },
  {
   "cell_type": "markdown",
   "metadata": {},
   "source": [
    "## 5.Tensorflow进阶"
   ]
  },
  {
   "cell_type": "markdown",
   "metadata": {},
   "source": [
    "### 5.1合并与分割"
   ]
  },
  {
   "cell_type": "markdown",
   "metadata": {},
   "source": [
    "合并是指将多个张量在某个维度上合并为一个张量"
   ]
  },
  {
   "cell_type": "markdown",
   "metadata": {},
   "source": [
    "张量的合并可以使用拼接(Concatenate)和堆叠(Stack)操作实现，拼接操作并不会产生新\n",
    "的维度，仅在现有的维度上合并，而堆叠会创建新维度。选择使用拼接还是堆叠操作来合\n",
    "并张量，取决于具体的场景是否需要创建新维度。\n"
   ]
  },
  {
   "cell_type": "markdown",
   "metadata": {},
   "source": [
    "拼接 在 TensorFlow 中，可以通过 tf.concat(tensors, axis)函数拼接张量，其中参数\n",
    "tensors 保存了所有需要合并的张量 List，axis 参数指定需要合并的维度索引。"
   ]
  },
  {
   "cell_type": "code",
   "execution_count": 9,
   "metadata": {},
   "outputs": [],
   "source": [
    "import tensorflow as tf\n",
    "a=tf.random.normal([4,35,8])\n",
    "b=tf.random.normal([6,35,8]) "
   ]
  },
  {
   "cell_type": "code",
   "execution_count": 10,
   "metadata": {
    "collapsed": true
   },
   "outputs": [
    {
     "data": {
      "text/plain": [
       "<tf.Tensor: shape=(10, 35, 8), dtype=float32, numpy=\n",
       "array([[[ 0.7158488 , -0.3952266 , -0.15586926, ...,  0.86526227,\n",
       "          0.55208635,  1.5558023 ],\n",
       "        [ 0.21203026,  0.26138726, -0.6598853 , ...,  0.8370678 ,\n",
       "         -0.57974696,  1.8448461 ],\n",
       "        [ 0.27981326, -1.7929034 ,  1.0782037 , ...,  0.83822656,\n",
       "          0.9834966 , -0.27249527],\n",
       "        ...,\n",
       "        [-0.58849543, -0.50508654,  0.43374443, ..., -0.14993373,\n",
       "          1.1691592 , -0.57945174],\n",
       "        [ 0.96847117,  0.7759639 ,  0.6842817 , ...,  1.5488338 ,\n",
       "          1.667094  ,  1.4004555 ],\n",
       "        [ 0.68637747,  1.0120919 ,  0.7518455 , ..., -2.4680076 ,\n",
       "          2.1808236 ,  1.3322052 ]],\n",
       "\n",
       "       [[-0.09036513, -0.15406682,  1.3561478 , ..., -1.7246963 ,\n",
       "          0.8467387 , -0.4365317 ],\n",
       "        [-1.3601688 , -0.04298849, -1.297217  , ...,  0.5191434 ,\n",
       "         -1.1210018 , -0.980707  ],\n",
       "        [-0.10494412,  1.4643242 , -0.50841725, ..., -0.50015354,\n",
       "          0.07027772, -0.86971825],\n",
       "        ...,\n",
       "        [-0.47206494, -1.2011769 , -0.00606712, ...,  1.1656606 ,\n",
       "         -1.2722338 ,  0.23848745],\n",
       "        [ 1.2749281 ,  0.3625144 , -2.1567535 , ..., -0.20529701,\n",
       "          0.03359883,  1.0509795 ],\n",
       "        [ 1.001145  ,  0.61557007,  2.0707748 , ..., -1.447744  ,\n",
       "          0.9941294 , -0.1638856 ]],\n",
       "\n",
       "       [[ 0.08934926,  0.03835488, -1.3418651 , ..., -0.7421155 ,\n",
       "          0.46376097,  0.24242643],\n",
       "        [-1.2677324 ,  1.7933376 , -0.39066592, ...,  1.2534654 ,\n",
       "          0.27668783,  0.8305081 ],\n",
       "        [-1.0982267 , -1.0384319 ,  1.6185812 , ..., -0.3140235 ,\n",
       "         -0.9909605 , -0.01373391],\n",
       "        ...,\n",
       "        [ 0.3350933 ,  1.0736036 ,  1.5073676 , ..., -0.7349854 ,\n",
       "         -0.5507555 , -1.734199  ],\n",
       "        [-0.39161554,  1.3476069 , -0.7553998 , ...,  0.38498563,\n",
       "         -1.0794835 ,  0.48539874],\n",
       "        [-0.389271  , -0.05631118,  0.43117017, ..., -2.2164705 ,\n",
       "          0.07572427, -1.6962949 ]],\n",
       "\n",
       "       ...,\n",
       "\n",
       "       [[ 2.2363472 , -0.31387532,  1.1910028 , ..., -1.5813589 ,\n",
       "         -0.02665098, -0.3483025 ],\n",
       "        [ 0.5899968 , -0.00791783,  1.516954  , ..., -0.4472533 ,\n",
       "          1.3085393 , -1.6143827 ],\n",
       "        [ 0.6285766 , -1.109678  , -0.01615982, ...,  2.7623367 ,\n",
       "          0.21290503,  1.488091  ],\n",
       "        ...,\n",
       "        [ 1.856441  , -0.02296386, -1.6203064 , ...,  0.23210666,\n",
       "         -1.2840185 ,  0.94435287],\n",
       "        [-1.4945035 ,  0.1021846 ,  0.53957075, ...,  0.06924552,\n",
       "         -0.757314  , -1.0003868 ],\n",
       "        [-1.9948099 , -1.0101987 ,  0.83900493, ...,  0.5729184 ,\n",
       "         -1.0160562 ,  2.0378273 ]],\n",
       "\n",
       "       [[-0.8361005 , -1.3477788 ,  0.02176891, ...,  0.10049608,\n",
       "         -1.9055672 , -0.89758694],\n",
       "        [-0.06141414,  2.1597652 ,  1.5731139 , ..., -0.18443502,\n",
       "          0.03739014,  1.8485367 ],\n",
       "        [-1.0779477 ,  0.49272412,  0.2910548 , ..., -1.4704167 ,\n",
       "          1.0393676 ,  0.44568074],\n",
       "        ...,\n",
       "        [-0.3468009 ,  0.8512996 , -0.95560706, ..., -1.3181083 ,\n",
       "         -1.1388379 ,  0.11353537],\n",
       "        [-0.79215807,  0.20383787, -0.27982062, ...,  0.3483655 ,\n",
       "          0.9794114 ,  0.23411828],\n",
       "        [-0.9856751 ,  0.68745154,  0.54238224, ..., -0.85056496,\n",
       "         -0.01465089,  0.9558546 ]],\n",
       "\n",
       "       [[-0.32423934, -0.4237553 , -0.9085086 , ...,  0.68183494,\n",
       "         -0.2333815 , -2.0512037 ],\n",
       "        [ 1.7210648 , -1.0606263 , -0.57936466, ...,  0.2678783 ,\n",
       "          1.2513721 , -0.6407017 ],\n",
       "        [-0.5789865 , -1.149717  , -1.0415889 , ..., -0.9129355 ,\n",
       "         -0.4735907 , -0.2741185 ],\n",
       "        ...,\n",
       "        [ 0.8816792 ,  0.00469144,  1.7571077 , ...,  0.44906682,\n",
       "         -0.71289253, -0.12842664],\n",
       "        [ 0.69891524,  0.88215613, -0.55696636, ...,  1.3365269 ,\n",
       "          0.45200276, -0.5364759 ],\n",
       "        [ 0.51913786,  1.3630409 ,  0.24472253, ...,  0.9425297 ,\n",
       "         -0.72559   , -0.68935233]]], dtype=float32)>"
      ]
     },
     "execution_count": 10,
     "metadata": {},
     "output_type": "execute_result"
    }
   ],
   "source": [
    "tf.concat([a,b],axis=0)"
   ]
  },
  {
   "cell_type": "code",
   "execution_count": 11,
   "metadata": {
    "collapsed": true
   },
   "outputs": [
    {
     "data": {
      "text/plain": [
       "<tf.Tensor: shape=(10, 35, 8), dtype=float32, numpy=\n",
       "array([[[ 0.27723086,  2.5429318 , -0.11850547, ...,  1.1906147 ,\n",
       "          1.5322773 ,  0.05371697],\n",
       "        [-0.19039407,  0.6573422 ,  1.4016532 , ...,  0.20393561,\n",
       "         -0.68611646, -0.362024  ],\n",
       "        [ 0.8064692 , -0.4936723 ,  0.8882343 , ...,  1.8616399 ,\n",
       "          0.09506999, -0.5077744 ],\n",
       "        ...,\n",
       "        [-1.0114899 , -0.5433238 , -0.11863293, ...,  0.06826048,\n",
       "         -0.00554983,  0.6989884 ],\n",
       "        [ 0.74947673,  0.70047677, -0.4259483 , ..., -1.1503546 ,\n",
       "         -0.6753359 ,  0.64375985],\n",
       "        [-1.280471  , -0.02989862, -0.28657582, ...,  2.2078097 ,\n",
       "          1.3381644 , -0.38287842]],\n",
       "\n",
       "       [[-0.6837389 ,  0.56087315,  1.3866327 , ..., -2.69459   ,\n",
       "         -0.2591172 , -1.9530499 ],\n",
       "        [-1.2904867 ,  0.6192115 , -0.8736316 , ...,  1.7355278 ,\n",
       "          1.1493533 , -0.6515397 ],\n",
       "        [-1.0704702 ,  0.1375195 , -0.52144086, ...,  0.34597102,\n",
       "         -1.0822355 ,  1.2140582 ],\n",
       "        ...,\n",
       "        [-1.2570086 ,  0.92288005,  0.4810287 , ...,  0.42524022,\n",
       "         -1.1382699 ,  0.7060908 ],\n",
       "        [ 0.54948604, -1.8643571 , -0.6628077 , ..., -1.0785913 ,\n",
       "          1.1320509 ,  2.278083  ],\n",
       "        [-0.91018575, -0.48195878, -0.1712715 , ...,  2.0838468 ,\n",
       "          1.3604187 ,  0.68721324]],\n",
       "\n",
       "       [[-0.22580257, -1.4105462 , -0.23387262, ...,  0.990854  ,\n",
       "          0.34202057, -0.19834387],\n",
       "        [-0.3459247 , -0.46187615, -0.86851823, ..., -0.45618194,\n",
       "         -0.06119592,  1.8170004 ],\n",
       "        [-0.26914585,  0.3968716 , -1.3021095 , ...,  1.4985355 ,\n",
       "         -0.9971539 ,  1.0237281 ],\n",
       "        ...,\n",
       "        [-1.3770363 ,  0.589001  ,  0.4664397 , ...,  0.934006  ,\n",
       "          0.45812276, -0.24468827],\n",
       "        [-0.07959715, -0.874777  ,  1.489639  , ...,  0.90535796,\n",
       "         -0.7856541 , -0.61388063],\n",
       "        [-0.9736038 ,  0.37515575, -0.89143413, ...,  1.0768859 ,\n",
       "          1.1134671 ,  0.740605  ]],\n",
       "\n",
       "       ...,\n",
       "\n",
       "       [[ 1.1463134 , -0.01164655,  1.273349  , ...,  0.9769359 ,\n",
       "         -0.94577277, -1.8955781 ],\n",
       "        [-0.02855718, -2.3449512 , -0.00383575, ..., -0.3607973 ,\n",
       "         -0.2215277 ,  0.82733876],\n",
       "        [ 0.8938963 , -0.5576266 ,  0.53915125, ...,  1.6000577 ,\n",
       "          0.3629866 ,  1.1931664 ],\n",
       "        ...,\n",
       "        [ 1.471033  ,  2.3060198 , -0.21570493, ..., -1.0904248 ,\n",
       "         -1.4764259 ,  0.59321654],\n",
       "        [ 0.8057823 ,  1.49411   , -0.6371789 , ...,  0.94363874,\n",
       "          0.47617218,  0.19296376],\n",
       "        [-1.0145103 ,  1.0091006 ,  0.9410465 , ..., -1.6642742 ,\n",
       "         -0.9269394 , -0.4894326 ]],\n",
       "\n",
       "       [[-0.05230108, -0.6056948 ,  0.7429616 , ...,  0.21467943,\n",
       "          0.55463004, -1.1122001 ],\n",
       "        [-0.18646722,  2.1649191 ,  0.00558418, ..., -0.39667428,\n",
       "         -0.09667448,  0.0959319 ],\n",
       "        [ 0.43986878, -1.2425385 , -2.6809778 , ...,  0.24090323,\n",
       "         -1.3050531 ,  0.44956565],\n",
       "        ...,\n",
       "        [-3.2011406 ,  0.07828908,  0.5392397 , ..., -1.0505934 ,\n",
       "         -0.4253208 ,  1.5204189 ],\n",
       "        [ 0.43034765,  0.23319913,  0.23475865, ..., -1.4452258 ,\n",
       "         -0.5215951 ,  0.5283972 ],\n",
       "        [-1.008198  , -0.05149561, -1.0617515 , ...,  0.21560735,\n",
       "         -2.679904  , -0.8415302 ]],\n",
       "\n",
       "       [[-1.934021  ,  0.27193812, -1.1218868 , ..., -0.13885428,\n",
       "          0.06476969, -0.7071789 ],\n",
       "        [-0.78792846, -0.812963  , -0.86587006, ..., -1.172769  ,\n",
       "         -0.34765473,  1.8965408 ],\n",
       "        [ 0.04385426,  1.9113544 ,  0.67066133, ..., -0.04538684,\n",
       "         -0.16713405, -0.7406916 ],\n",
       "        ...,\n",
       "        [ 1.2173623 , -1.6304877 , -0.73374796, ...,  1.0400318 ,\n",
       "         -1.0913088 , -0.47980583],\n",
       "        [ 1.2609179 , -1.6366922 ,  0.19443356, ..., -0.9591058 ,\n",
       "         -1.2925521 , -1.0006368 ],\n",
       "        [-0.15991355, -0.568694  ,  0.726562  , ..., -0.41501758,\n",
       "          0.02103909, -0.43664166]]], dtype=float32)>"
      ]
     },
     "execution_count": 11,
     "metadata": {},
     "output_type": "execute_result"
    }
   ],
   "source": [
    "a = tf.random.normal([10,35,4])\n",
    "b = tf.random.normal([10,35,4])\n",
    "tf.concat([a,b],axis=2) # 在科目维度上拼接"
   ]
  },
  {
   "cell_type": "markdown",
   "metadata": {},
   "source": [
    "堆叠 如果在合并数据\n",
    "时，希望创建一个新的维度，则需要使用 tf.stack 操作"
   ]
  },
  {
   "cell_type": "code",
   "execution_count": 12,
   "metadata": {},
   "outputs": [],
   "source": [
    "a = tf.random.normal([35,8])\n",
    "b = tf.random.normal([35,8])"
   ]
  },
  {
   "cell_type": "code",
   "execution_count": 13,
   "metadata": {
    "collapsed": true
   },
   "outputs": [
    {
     "data": {
      "text/plain": [
       "<tf.Tensor: shape=(2, 35, 8), dtype=float32, numpy=\n",
       "array([[[-8.72533098e-02, -1.41400909e+00, -1.41267192e+00,\n",
       "         -1.87976432e+00, -4.29402709e-01,  1.72997034e+00,\n",
       "         -3.97607893e-01, -2.79617906e-01],\n",
       "        [-5.92576504e-01, -9.55432117e-01, -6.77093387e-01,\n",
       "         -4.78819191e-01, -1.61635125e+00,  1.49328470e+00,\n",
       "          1.51084697e+00, -1.80829719e-01],\n",
       "        [ 9.84385908e-02, -1.30163002e+00, -1.88413477e+00,\n",
       "          2.00953650e+00, -4.35968429e-01,  4.37990338e-01,\n",
       "          7.18036115e-01, -1.79624930e-01],\n",
       "        [ 2.58162051e-01,  4.32937413e-01, -9.18045759e-01,\n",
       "         -2.55378294e+00, -1.24213435e-01, -2.10629895e-01,\n",
       "         -9.27689075e-01,  4.84535336e-01],\n",
       "        [ 9.58375707e-02, -9.93004978e-01, -4.74609107e-01,\n",
       "          1.13739383e+00,  3.38069886e-01,  3.78420591e-01,\n",
       "          1.25762630e+00,  2.65160054e-01],\n",
       "        [-1.57619858e+00, -5.68806767e-01, -1.07710183e+00,\n",
       "         -1.47161829e+00,  3.42980117e-01, -1.00930059e+00,\n",
       "          1.69366789e+00, -9.85790908e-01],\n",
       "        [ 2.81323306e-02,  1.77583709e-01, -1.21032178e+00,\n",
       "         -3.71726632e-01,  4.66299951e-01, -1.16877425e+00,\n",
       "          1.00100696e+00, -1.15887165e+00],\n",
       "        [-1.96050751e+00, -1.83151782e+00, -1.68960914e-02,\n",
       "         -1.21192229e+00, -2.47820950e+00, -1.61119854e+00,\n",
       "         -1.11064196e+00, -5.73552787e-01],\n",
       "        [ 8.88617575e-01,  2.29113236e-01, -8.48366916e-01,\n",
       "         -9.00093913e-01,  3.57264906e-01,  1.31795242e-01,\n",
       "         -2.49543756e-01, -1.08733809e+00],\n",
       "        [ 7.55810201e-01, -5.46063721e-01, -2.11399508e+00,\n",
       "          2.97817469e-01,  6.16416670e-02,  3.52028906e-01,\n",
       "          1.41192436e-01, -1.52678025e+00],\n",
       "        [ 5.33500075e-01, -8.58224928e-01, -4.16408591e-02,\n",
       "          6.13577962e-01,  1.24837732e+00,  1.03612578e+00,\n",
       "          5.55191576e-01,  3.21471095e-02],\n",
       "        [-5.71447194e-01, -1.50595903e-01, -3.11470449e-01,\n",
       "         -1.08424890e+00,  6.96135223e-01,  5.00566065e-01,\n",
       "          9.73140419e-01, -2.04764652e+00],\n",
       "        [-8.44811797e-01, -3.59198242e-01, -1.19605921e-01,\n",
       "          9.70391184e-03, -1.82327300e-01, -8.23789537e-01,\n",
       "         -6.79583490e-01, -1.13304102e+00],\n",
       "        [-9.04506519e-02, -9.93957818e-01,  5.39853513e-01,\n",
       "         -1.79365528e+00,  7.44373381e-01, -1.36730003e+00,\n",
       "         -1.37419391e+00, -1.15214992e+00],\n",
       "        [-2.57704467e-01, -6.66497469e-01,  8.15446556e-01,\n",
       "         -1.18960845e+00, -6.45514667e-01,  9.29920435e-01,\n",
       "          1.73282409e+00, -8.09460700e-01],\n",
       "        [ 1.20604324e+00,  2.11876464e+00, -5.06809413e-01,\n",
       "          8.45122412e-02,  2.94346303e-01,  8.58376265e-01,\n",
       "         -1.74770355e-01,  9.11420226e-01],\n",
       "        [-1.09786880e+00, -3.46723318e-01, -8.61526072e-01,\n",
       "          1.39781487e+00, -8.78461063e-01, -3.95123661e-01,\n",
       "         -2.07852316e+00, -1.49784312e-01],\n",
       "        [-1.07707894e+00, -5.78794718e-01,  3.01048577e-01,\n",
       "          3.40450823e-01, -6.20894432e-01,  4.58147585e-01,\n",
       "         -1.34837925e+00, -9.27181959e-01],\n",
       "        [ 1.89785391e-01, -2.24796370e-01, -6.62578583e-01,\n",
       "          2.43993998e+00,  6.18097126e-01, -1.41948688e+00,\n",
       "         -1.71927214e+00,  1.05841219e+00],\n",
       "        [ 6.66846395e-01,  9.26548600e-01, -4.89655882e-01,\n",
       "          6.03790760e-01, -1.58470154e-01,  1.31202137e+00,\n",
       "         -1.29419458e+00, -5.11697948e-01],\n",
       "        [ 1.04062140e+00, -3.06860477e-01, -4.41986859e-01,\n",
       "         -3.74028087e-01, -8.60133171e-01,  6.77103579e-01,\n",
       "         -1.88430929e+00, -5.74960947e-01],\n",
       "        [ 1.39825296e+00,  1.34390736e+00,  1.16261590e+00,\n",
       "          2.07327858e-01,  5.24002433e-01, -7.12540805e-01,\n",
       "          2.16956377e-01,  6.55782998e-01],\n",
       "        [ 2.91119576e-01, -1.15373385e+00, -1.90667450e-01,\n",
       "          6.62949085e-01, -2.08753329e-02,  4.84712049e-02,\n",
       "          6.72945142e-01,  1.75789937e-01],\n",
       "        [-3.30118448e-01,  6.86511040e-01,  2.92729408e-01,\n",
       "         -8.16565335e-01,  1.34550261e+00,  1.24689794e+00,\n",
       "         -6.43317997e-01, -3.59836482e-02],\n",
       "        [-1.89833450e+00,  7.38442391e-02,  6.08368099e-01,\n",
       "         -6.48032844e-01, -5.64295709e-01,  4.33748901e-01,\n",
       "          9.52382386e-01,  6.92265928e-01],\n",
       "        [ 6.01400912e-01, -1.27542093e-01,  5.11086285e-01,\n",
       "         -2.96353906e-01,  3.52537781e-01, -3.25936347e-01,\n",
       "          1.09210169e+00, -7.92667568e-01],\n",
       "        [ 1.56808361e-01,  3.99964750e-01,  6.46499097e-01,\n",
       "          2.25494862e+00,  5.71986102e-02,  1.38163686e+00,\n",
       "         -1.61452818e+00, -6.94396436e-01],\n",
       "        [-1.78720713e+00,  2.30847120e-01, -8.66875410e-01,\n",
       "          1.15475178e+00,  8.11340213e-01,  8.66501451e-01,\n",
       "         -4.76873815e-01,  9.53750908e-01],\n",
       "        [-1.13211262e+00, -2.06661820e-01, -1.38616598e+00,\n",
       "          2.02708304e-01, -6.84195459e-01, -1.66222721e-01,\n",
       "         -5.04309297e-01, -9.76729393e-01],\n",
       "        [-2.45841861e-01,  3.45057577e-01, -1.36976823e-01,\n",
       "         -9.48806286e-01,  1.80647820e-01,  2.64580905e-01,\n",
       "         -1.31748748e+00, -3.09510261e-01],\n",
       "        [-1.24636209e+00, -1.84401661e-01,  2.27808714e-01,\n",
       "          2.95197010e-01,  1.48689842e+00, -2.09704161e+00,\n",
       "         -9.33525443e-01,  1.30002236e+00],\n",
       "        [-4.93252009e-01, -1.55350125e+00,  1.11753309e+00,\n",
       "          8.60762477e-01, -6.74430549e-01, -1.85639024e+00,\n",
       "         -5.08049667e-01,  1.41790473e+00],\n",
       "        [ 1.44170964e+00,  3.48474011e-02, -1.30857885e+00,\n",
       "          4.80012447e-01, -3.28887701e-01, -1.31313503e+00,\n",
       "         -2.79569954e-01,  1.07261169e+00],\n",
       "        [-8.75126481e-01, -7.80207515e-01,  1.11575723e+00,\n",
       "          6.63033247e-01,  6.49188459e-01,  5.99936604e-01,\n",
       "          7.49741673e-01, -1.34414268e+00],\n",
       "        [ 9.74529862e-01,  6.69797733e-02, -1.74446806e-01,\n",
       "         -1.66977227e+00, -6.31786436e-02,  6.04374222e-02,\n",
       "          1.79661942e+00,  3.11774969e-01]],\n",
       "\n",
       "       [[ 2.01429799e-01, -3.31676960e-01,  2.44925785e+00,\n",
       "          2.23046467e-01, -6.61087096e-01, -3.65118265e-01,\n",
       "          1.85328877e+00, -5.98101974e-01],\n",
       "        [-1.95600438e+00, -2.14835525e+00, -2.32861396e-02,\n",
       "          8.19706976e-01, -5.45461297e-01, -7.76663363e-01,\n",
       "          1.48511171e+00, -3.10425639e-01],\n",
       "        [-5.63483298e-01, -3.08752954e-01, -1.59924030e+00,\n",
       "         -4.81384732e-02, -1.95387626e+00,  1.18474886e-01,\n",
       "          4.70990121e-01, -3.29364151e-01],\n",
       "        [-5.43259263e-01,  2.17903233e+00, -4.49580580e-01,\n",
       "         -1.61046946e+00,  8.11978430e-02, -5.45951605e-01,\n",
       "         -1.38369811e+00, -1.73367441e-01],\n",
       "        [ 1.18013549e+00,  3.10124546e-01,  3.77821416e-01,\n",
       "         -2.06589237e-01,  6.20248020e-01,  5.81043959e-01,\n",
       "         -3.42018068e-01, -1.95344076e-01],\n",
       "        [-7.58351445e-01, -1.37089026e+00,  1.61441863e+00,\n",
       "          1.68644898e-02,  9.67651010e-02,  6.95059061e-01,\n",
       "         -3.83894652e-01, -1.04787099e+00],\n",
       "        [-4.54716355e-01,  8.23771298e-01, -1.94892764e-01,\n",
       "         -5.78353345e-01, -1.23459399e+00, -6.43351495e-01,\n",
       "          1.14855623e+00, -1.24314535e+00],\n",
       "        [ 4.50414985e-01, -1.32213295e+00,  1.48289621e-01,\n",
       "          5.59194326e-01,  6.72301173e-01, -1.53788161e+00,\n",
       "         -9.20193911e-01,  1.74123496e-01],\n",
       "        [-2.99374998e-01, -3.28044772e-01,  1.89948606e+00,\n",
       "          3.06860387e-01,  1.13841616e-01, -4.07920450e-01,\n",
       "         -2.78337985e-01, -1.20267570e+00],\n",
       "        [ 4.72478658e-01, -2.43609428e-01,  1.37535572e+00,\n",
       "         -1.23916924e-01, -1.65514767e+00, -1.31100118e+00,\n",
       "          2.50663972e+00, -1.91874397e+00],\n",
       "        [ 8.80085945e-01, -5.64126492e-01, -1.20760322e+00,\n",
       "          1.27649140e+00, -1.74380630e-01,  1.07463133e+00,\n",
       "         -6.14415944e-01,  8.99267077e-01],\n",
       "        [-2.91526049e-01, -1.21900189e+00, -7.95438051e-01,\n",
       "          3.16195816e-01,  6.72394693e-01, -9.24925089e-01,\n",
       "          4.10678834e-01, -1.36074328e+00],\n",
       "        [-9.12079811e-01, -1.26161885e+00, -3.67779523e-01,\n",
       "          6.85497403e-01, -5.87274432e-02,  8.83348048e-01,\n",
       "          5.38330257e-01,  1.08716822e+00],\n",
       "        [-6.96406126e-01, -6.07830405e-01,  1.22354269e+00,\n",
       "         -2.20346630e-01, -8.08286369e-01,  7.83128321e-01,\n",
       "         -7.44850457e-01,  8.07780504e-01],\n",
       "        [-1.97919440e+00,  8.01757693e-01,  2.08799815e+00,\n",
       "          3.49290483e-02, -6.87460661e-01, -2.06333876e-01,\n",
       "          1.01495355e-01, -1.18242800e+00],\n",
       "        [-1.05312169e+00,  1.05578816e+00,  6.65386915e-01,\n",
       "          5.75415552e-01,  9.30013061e-01,  1.27903104e+00,\n",
       "         -4.31620896e-01,  8.80791321e-02],\n",
       "        [-1.89712897e-01, -3.91249150e-01, -7.34144211e-01,\n",
       "          2.25819394e-01, -1.08508909e+00, -3.05333287e-01,\n",
       "         -1.44304800e+00, -2.00408149e+00],\n",
       "        [-9.87099648e-01, -6.34393454e-01, -1.43068701e-01,\n",
       "         -1.33328652e+00,  1.43102789e+00,  9.47915792e-01,\n",
       "         -6.88238680e-01,  1.24337047e-01],\n",
       "        [ 1.44176662e-03,  2.38609463e-01, -4.00052190e-01,\n",
       "         -6.73546016e-01,  4.51297432e-01,  7.23222136e-01,\n",
       "          5.74820042e-01,  6.74841940e-01],\n",
       "        [-5.13891280e-01, -9.87308741e-01,  4.09835994e-01,\n",
       "         -5.47004193e-02, -9.44946587e-01,  7.45340407e-01,\n",
       "         -3.74241054e-01,  9.07475531e-01],\n",
       "        [-5.45117371e-02, -9.47785139e-01,  1.98168087e+00,\n",
       "          1.28519142e+00, -2.13836145e+00, -2.16226006e+00,\n",
       "         -1.34801507e+00, -4.11680818e-01],\n",
       "        [ 6.03071153e-01,  1.23799193e+00, -1.66441178e+00,\n",
       "          5.64434648e-01, -9.09172118e-01, -8.48828495e-01,\n",
       "         -2.88082719e-01, -1.87784255e-01],\n",
       "        [ 2.48851448e-01,  6.38307691e-01, -2.63722479e-01,\n",
       "          1.29953825e+00,  1.01661038e+00,  1.63353610e+00,\n",
       "         -3.30976486e-01, -7.98023045e-01],\n",
       "        [-8.06543976e-03, -4.72964257e-01, -2.59647042e-01,\n",
       "          1.81292307e+00,  1.04966559e-01,  4.77449559e-02,\n",
       "          2.91035116e-01, -6.23195386e-03],\n",
       "        [ 8.99828613e-01,  2.02457547e+00, -5.61836004e-01,\n",
       "         -2.47612540e-02,  1.66470766e+00,  5.58546543e-01,\n",
       "         -6.00379825e-01,  8.37396383e-01],\n",
       "        [-7.20145404e-02, -1.62653580e-01,  1.68737054e+00,\n",
       "         -1.30142319e+00,  1.72779560e+00,  7.32430100e-01,\n",
       "          9.98579323e-01, -5.25314212e-01],\n",
       "        [ 7.48351932e-01, -1.35690916e+00,  7.77288139e-01,\n",
       "          1.15621090e+00, -1.50688815e+00,  3.12045187e-01,\n",
       "         -8.38280022e-01,  4.93387789e-01],\n",
       "        [ 1.12680936e+00,  5.80404662e-02, -1.17864883e+00,\n",
       "          7.46215522e-01,  1.09552419e+00, -3.02008331e-01,\n",
       "          1.63424397e+00, -3.54246378e-01],\n",
       "        [ 1.62382215e-01, -1.29339755e+00, -8.38138580e-01,\n",
       "         -4.26731527e-01,  2.05597234e+00, -6.69961512e-01,\n",
       "         -8.18693876e-01, -8.19343090e-01],\n",
       "        [-1.68328732e-03, -1.61436653e+00,  6.01701081e-01,\n",
       "         -6.07553244e-01, -1.02722168e+00, -1.71958879e-01,\n",
       "          5.49885631e-01, -1.04046750e+00],\n",
       "        [ 2.48156264e-01, -1.10270619e+00,  7.02674747e-01,\n",
       "         -2.37675920e-01, -3.13795656e-01,  3.96369219e-01,\n",
       "          6.15539134e-01, -1.53667319e+00],\n",
       "        [-7.39792943e-01,  7.63225928e-03, -4.72822376e-02,\n",
       "          3.94148856e-01, -1.25312698e+00, -1.15802860e+00,\n",
       "         -1.00789320e+00, -1.96571624e+00],\n",
       "        [-1.10237740e-01, -1.36720216e+00, -7.73329973e-01,\n",
       "          1.48713875e+00, -1.51088059e+00, -3.75537366e-01,\n",
       "         -5.38453281e-01, -3.81771088e-01],\n",
       "        [-8.31199229e-01, -5.77429473e-01,  5.30474305e-01,\n",
       "          1.54413295e+00, -9.66267824e-01, -4.04125452e-01,\n",
       "         -5.37583888e-01, -1.10929978e+00],\n",
       "        [ 6.63921535e-01,  7.60940313e-01, -6.48515880e-01,\n",
       "          1.29862106e+00, -4.47008401e-01, -7.39363730e-01,\n",
       "         -1.02212524e+00, -5.04023671e-01]]], dtype=float32)>"
      ]
     },
     "execution_count": 13,
     "metadata": {},
     "output_type": "execute_result"
    }
   ],
   "source": [
    "tf.stack([a,b],axis=0)"
   ]
  },
  {
   "cell_type": "markdown",
   "metadata": {},
   "source": [
    "合并操作的逆过程就是分割，将一个张量分拆为多个张量。\n",
    "通过 tf.split(x, num_or_size_splits, axis)可以完成张量的分割操作"
   ]
  },
  {
   "cell_type": "code",
   "execution_count": 14,
   "metadata": {},
   "outputs": [],
   "source": [
    "x = tf.random.normal([10,35,8])"
   ]
  },
  {
   "cell_type": "code",
   "execution_count": 15,
   "metadata": {},
   "outputs": [],
   "source": [
    "result = tf.split(x, num_or_size_splits=10, axis=0)"
   ]
  },
  {
   "cell_type": "code",
   "execution_count": 16,
   "metadata": {
    "collapsed": true
   },
   "outputs": [
    {
     "data": {
      "text/plain": [
       "<tf.Tensor: shape=(1, 35, 8), dtype=float32, numpy=\n",
       "array([[[ 0.01618014, -0.24154757,  0.12584479,  1.199365  ,\n",
       "          0.8283523 ,  0.42349184, -0.07760797, -0.26840848],\n",
       "        [ 0.17791045, -0.05376501, -0.30769986, -0.7838129 ,\n",
       "         -0.8041359 ,  0.7497456 ,  0.7956659 ,  0.23947652],\n",
       "        [ 0.03093628,  1.2503935 , -1.0268047 ,  1.6061829 ,\n",
       "         -0.27291846, -0.32132328, -1.4429054 ,  0.17516494],\n",
       "        [-0.5541871 ,  0.64802945,  0.29353118,  2.2587602 ,\n",
       "          0.99898964, -0.9004459 ,  1.3124024 ,  0.3771626 ],\n",
       "        [-0.18627432,  0.70079684,  0.685684  ,  1.4352973 ,\n",
       "          0.01416346,  0.02584387,  0.52128035, -0.10515153],\n",
       "        [ 0.1786109 ,  0.6208644 , -0.1457196 ,  1.3603269 ,\n",
       "         -1.101389  , -1.3958375 , -0.5031234 ,  0.11827077],\n",
       "        [-0.20299543,  0.8010747 ,  1.4331123 , -2.027374  ,\n",
       "          0.71074533, -1.0819042 ,  0.9563505 ,  0.34258047],\n",
       "        [ 0.33210462,  0.81936824,  0.9225547 ,  1.6113955 ,\n",
       "         -1.3280497 ,  0.2213801 , -0.49293688,  0.0618818 ],\n",
       "        [-1.2919352 , -0.5273231 ,  2.0375993 , -0.63696915,\n",
       "          0.98220086,  0.9217115 ,  1.7813284 , -0.6759364 ],\n",
       "        [ 0.28207347,  1.0894566 , -0.09764238, -0.64569116,\n",
       "         -0.7133919 ,  1.6748457 , -0.5804674 , -0.09599117],\n",
       "        [-1.1773202 , -1.3323344 ,  1.4743873 , -0.46065745,\n",
       "         -0.38477424,  0.49770558, -1.0583999 ,  0.8904048 ],\n",
       "        [ 0.07563455,  0.14476788, -0.33414158, -0.347549  ,\n",
       "          1.0566075 ,  1.5012871 , -0.17653388, -0.37784806],\n",
       "        [-1.3756127 , -0.83841825,  1.9560103 , -1.2661471 ,\n",
       "         -0.5051347 , -1.2125176 ,  0.6820531 ,  0.945301  ],\n",
       "        [ 0.56463945,  0.21824768,  0.39941338,  0.5190971 ,\n",
       "          0.78273034, -0.3562093 ,  0.21907984,  0.06647453],\n",
       "        [ 1.9244069 , -1.6880659 ,  0.25877994, -0.69581515,\n",
       "          1.3251616 ,  1.2074809 ,  1.1434796 ,  0.28721687],\n",
       "        [-2.1499708 ,  0.7637844 ,  1.7632374 , -0.7435624 ,\n",
       "          1.0794182 ,  1.3716862 , -0.6410909 ,  1.6272558 ],\n",
       "        [-0.23439533,  1.7444897 ,  0.24863407, -0.4693084 ,\n",
       "          0.27383563, -0.41103578, -1.5962024 ,  0.855389  ],\n",
       "        [-0.24392277,  0.191836  ,  0.19474556, -0.16955718,\n",
       "          0.8587154 ,  0.01503612, -0.5011581 , -1.3692911 ],\n",
       "        [ 0.07423933, -0.5687835 ,  0.51970345, -0.01767987,\n",
       "         -0.81378317, -0.45381477,  0.8627802 ,  0.01179323],\n",
       "        [ 0.84076846, -0.48836914, -0.49294877,  0.7217972 ,\n",
       "          0.45069152, -1.2346547 , -1.3262682 ,  1.6845824 ],\n",
       "        [-0.42564872, -0.46479774, -0.01143236, -0.58749056,\n",
       "          0.11945581, -0.22930075, -1.3148187 , -0.0341196 ],\n",
       "        [-1.2749013 , -0.0766213 , -2.1038465 , -0.22236545,\n",
       "         -0.5764394 ,  0.1916363 , -0.98759615, -0.34655687],\n",
       "        [-1.1150113 ,  1.4988527 ,  1.0559915 , -0.71814173,\n",
       "         -0.22362266,  0.24273199,  0.3735465 , -0.52474225],\n",
       "        [-0.6173975 , -0.600738  , -2.208132  ,  1.5843885 ,\n",
       "         -0.14321353,  2.142798  , -0.7084695 , -0.85647714],\n",
       "        [ 0.8672654 , -0.94071   ,  0.2163922 , -1.4062996 ,\n",
       "         -0.47655126,  0.01603811,  0.8013501 ,  1.0207936 ],\n",
       "        [ 0.07712439, -0.16775876,  1.4722104 , -0.38649848,\n",
       "         -0.02957762,  0.9384861 ,  0.45924282, -0.568422  ],\n",
       "        [-0.31463793,  0.65205306,  2.1787102 , -1.01695   ,\n",
       "          0.6754817 ,  0.48881713,  0.5986662 , -0.4919861 ],\n",
       "        [ 0.20059292, -0.82779795, -0.4291387 , -0.6729686 ,\n",
       "          0.06593016, -0.2324139 , -1.5893258 , -1.2324573 ],\n",
       "        [ 1.6985508 ,  0.47683772,  0.5418534 , -0.4596346 ,\n",
       "         -1.298826  ,  1.4871408 , -0.6053513 , -1.6999524 ],\n",
       "        [ 1.5854832 , -0.386655  , -0.96590614,  0.66298383,\n",
       "         -2.4499278 , -1.8487337 ,  0.46696594,  0.17870328],\n",
       "        [-0.8413363 ,  0.26366878, -1.025614  ,  1.6586912 ,\n",
       "         -0.13646989, -0.45879576,  0.9506483 ,  1.1476197 ],\n",
       "        [ 1.3174143 , -1.1622219 , -0.8494852 ,  0.112135  ,\n",
       "          0.41682103, -0.15409335, -0.23454677, -0.19935818],\n",
       "        [-0.5352355 , -0.9498083 , -0.45578623, -0.49600518,\n",
       "         -0.1134403 ,  0.75089633, -0.7760784 , -0.1516655 ],\n",
       "        [ 0.77980375,  0.15721396,  1.5699608 , -0.62178403,\n",
       "         -1.0999421 ,  0.1026926 , -0.3419749 , -0.28843185],\n",
       "        [-0.23447983, -0.39613333, -0.72200614, -0.07903461,\n",
       "          2.0287478 , -1.5145873 ,  0.7453732 , -2.1308644 ]]],\n",
       "      dtype=float32)>"
      ]
     },
     "execution_count": 16,
     "metadata": {},
     "output_type": "execute_result"
    }
   ],
   "source": [
    "result[0] "
   ]
  },
  {
   "cell_type": "markdown",
   "metadata": {},
   "source": [
    "### 5.2数据统计"
   ]
  },
  {
   "cell_type": "markdown",
   "metadata": {},
   "source": [
    "**向量范数**"
   ]
  },
  {
   "cell_type": "markdown",
   "metadata": {},
   "source": [
    "- L1范数：定义为向量𝒙的所有元素绝对值之和\n",
    "- L2范数：定义为向量𝒙的所有元素的平方和，再开根号"
   ]
  },
  {
   "cell_type": "markdown",
   "metadata": {},
   "source": [
    "在 TensorFlow 中，可以通过 tf.norm(x, ord)求解张量的 L1、L2、∞等范数，其中参数\n",
    "ord 指定为 1、2 时计算 L1、L2 范数，指定为 np.inf 时计算∞ −范数，"
   ]
  },
  {
   "cell_type": "markdown",
   "metadata": {},
   "source": [
    "**最值、均值、和**"
   ]
  },
  {
   "cell_type": "markdown",
   "metadata": {},
   "source": [
    "通过 tf.reduce_max、tf.reduce_min、tf.reduce_mean、tf.reduce_sum 函数可以求解张量\n",
    "在某个维度上的最大、最小、均值、和，也可以求全局最大、最小、均值、和信息。"
   ]
  },
  {
   "cell_type": "markdown",
   "metadata": {},
   "source": [
    "**张量比较**"
   ]
  },
  {
   "cell_type": "markdown",
   "metadata": {},
   "source": [
    "为了计算分类任务的准确率等指标，一般需要将预测结果和真实标签比较，统计比较\n",
    "结果中正确的数量来计算准确率。考虑 100 个样本的预测结果，通过 tf.argmax 获取预测类\n",
    "别"
   ]
  },
  {
   "cell_type": "markdown",
   "metadata": {},
   "source": [
    "### 5.3填充与复制"
   ]
  },
  {
   "cell_type": "markdown",
   "metadata": {},
   "source": [
    "对于图片数据的高和宽、序列信号的长度，维度长度可能各不相同。为了方便网络的\n",
    "并行计算，需要将不同长度的数据扩张为相同长度，之前我们介绍了通过复制的方式可以\n",
    "增加数据的长度，但是重复复制数据会破坏原有的数据结构，并不适合于此处。通常的做\n",
    "法是，在需要补充长度的数据开始或结束处填充足够数量的特定数值，这些特定数值一般\n",
    "代表了无效意义，例如 0，使得填充后的长度满足系统要求。那么这种操作就叫作填充\n",
    "(Padding)。\n"
   ]
  },
  {
   "cell_type": "code",
   "execution_count": 17,
   "metadata": {
    "collapsed": true
   },
   "outputs": [
    {
     "data": {
      "text/plain": [
       "<tf.Tensor: shape=(4, 32, 32, 1), dtype=float32, numpy=\n",
       "array([[[[ 0.        ],\n",
       "         [ 0.        ],\n",
       "         [ 0.        ],\n",
       "         ...,\n",
       "         [ 0.        ],\n",
       "         [ 0.        ],\n",
       "         [ 0.        ]],\n",
       "\n",
       "        [[ 0.        ],\n",
       "         [ 0.        ],\n",
       "         [ 0.        ],\n",
       "         ...,\n",
       "         [ 0.        ],\n",
       "         [ 0.        ],\n",
       "         [ 0.        ]],\n",
       "\n",
       "        [[ 0.        ],\n",
       "         [ 0.        ],\n",
       "         [-1.5513204 ],\n",
       "         ...,\n",
       "         [ 0.6036937 ],\n",
       "         [ 0.        ],\n",
       "         [ 0.        ]],\n",
       "\n",
       "        ...,\n",
       "\n",
       "        [[ 0.        ],\n",
       "         [ 0.        ],\n",
       "         [ 1.6032201 ],\n",
       "         ...,\n",
       "         [ 0.1817832 ],\n",
       "         [ 0.        ],\n",
       "         [ 0.        ]],\n",
       "\n",
       "        [[ 0.        ],\n",
       "         [ 0.        ],\n",
       "         [ 0.        ],\n",
       "         ...,\n",
       "         [ 0.        ],\n",
       "         [ 0.        ],\n",
       "         [ 0.        ]],\n",
       "\n",
       "        [[ 0.        ],\n",
       "         [ 0.        ],\n",
       "         [ 0.        ],\n",
       "         ...,\n",
       "         [ 0.        ],\n",
       "         [ 0.        ],\n",
       "         [ 0.        ]]],\n",
       "\n",
       "\n",
       "       [[[ 0.        ],\n",
       "         [ 0.        ],\n",
       "         [ 0.        ],\n",
       "         ...,\n",
       "         [ 0.        ],\n",
       "         [ 0.        ],\n",
       "         [ 0.        ]],\n",
       "\n",
       "        [[ 0.        ],\n",
       "         [ 0.        ],\n",
       "         [ 0.        ],\n",
       "         ...,\n",
       "         [ 0.        ],\n",
       "         [ 0.        ],\n",
       "         [ 0.        ]],\n",
       "\n",
       "        [[ 0.        ],\n",
       "         [ 0.        ],\n",
       "         [ 1.2183312 ],\n",
       "         ...,\n",
       "         [ 0.6502728 ],\n",
       "         [ 0.        ],\n",
       "         [ 0.        ]],\n",
       "\n",
       "        ...,\n",
       "\n",
       "        [[ 0.        ],\n",
       "         [ 0.        ],\n",
       "         [-0.71178085],\n",
       "         ...,\n",
       "         [ 0.6118667 ],\n",
       "         [ 0.        ],\n",
       "         [ 0.        ]],\n",
       "\n",
       "        [[ 0.        ],\n",
       "         [ 0.        ],\n",
       "         [ 0.        ],\n",
       "         ...,\n",
       "         [ 0.        ],\n",
       "         [ 0.        ],\n",
       "         [ 0.        ]],\n",
       "\n",
       "        [[ 0.        ],\n",
       "         [ 0.        ],\n",
       "         [ 0.        ],\n",
       "         ...,\n",
       "         [ 0.        ],\n",
       "         [ 0.        ],\n",
       "         [ 0.        ]]],\n",
       "\n",
       "\n",
       "       [[[ 0.        ],\n",
       "         [ 0.        ],\n",
       "         [ 0.        ],\n",
       "         ...,\n",
       "         [ 0.        ],\n",
       "         [ 0.        ],\n",
       "         [ 0.        ]],\n",
       "\n",
       "        [[ 0.        ],\n",
       "         [ 0.        ],\n",
       "         [ 0.        ],\n",
       "         ...,\n",
       "         [ 0.        ],\n",
       "         [ 0.        ],\n",
       "         [ 0.        ]],\n",
       "\n",
       "        [[ 0.        ],\n",
       "         [ 0.        ],\n",
       "         [ 0.37341055],\n",
       "         ...,\n",
       "         [-0.04645358],\n",
       "         [ 0.        ],\n",
       "         [ 0.        ]],\n",
       "\n",
       "        ...,\n",
       "\n",
       "        [[ 0.        ],\n",
       "         [ 0.        ],\n",
       "         [ 1.2755377 ],\n",
       "         ...,\n",
       "         [ 1.4211931 ],\n",
       "         [ 0.        ],\n",
       "         [ 0.        ]],\n",
       "\n",
       "        [[ 0.        ],\n",
       "         [ 0.        ],\n",
       "         [ 0.        ],\n",
       "         ...,\n",
       "         [ 0.        ],\n",
       "         [ 0.        ],\n",
       "         [ 0.        ]],\n",
       "\n",
       "        [[ 0.        ],\n",
       "         [ 0.        ],\n",
       "         [ 0.        ],\n",
       "         ...,\n",
       "         [ 0.        ],\n",
       "         [ 0.        ],\n",
       "         [ 0.        ]]],\n",
       "\n",
       "\n",
       "       [[[ 0.        ],\n",
       "         [ 0.        ],\n",
       "         [ 0.        ],\n",
       "         ...,\n",
       "         [ 0.        ],\n",
       "         [ 0.        ],\n",
       "         [ 0.        ]],\n",
       "\n",
       "        [[ 0.        ],\n",
       "         [ 0.        ],\n",
       "         [ 0.        ],\n",
       "         ...,\n",
       "         [ 0.        ],\n",
       "         [ 0.        ],\n",
       "         [ 0.        ]],\n",
       "\n",
       "        [[ 0.        ],\n",
       "         [ 0.        ],\n",
       "         [ 0.6076004 ],\n",
       "         ...,\n",
       "         [ 0.9628251 ],\n",
       "         [ 0.        ],\n",
       "         [ 0.        ]],\n",
       "\n",
       "        ...,\n",
       "\n",
       "        [[ 0.        ],\n",
       "         [ 0.        ],\n",
       "         [ 1.8364286 ],\n",
       "         ...,\n",
       "         [ 1.3337162 ],\n",
       "         [ 0.        ],\n",
       "         [ 0.        ]],\n",
       "\n",
       "        [[ 0.        ],\n",
       "         [ 0.        ],\n",
       "         [ 0.        ],\n",
       "         ...,\n",
       "         [ 0.        ],\n",
       "         [ 0.        ],\n",
       "         [ 0.        ]],\n",
       "\n",
       "        [[ 0.        ],\n",
       "         [ 0.        ],\n",
       "         [ 0.        ],\n",
       "         ...,\n",
       "         [ 0.        ],\n",
       "         [ 0.        ],\n",
       "         [ 0.        ]]]], dtype=float32)>"
      ]
     },
     "execution_count": 17,
     "metadata": {},
     "output_type": "execute_result"
    }
   ],
   "source": [
    "x = tf.random.normal([4,28,28,1])\n",
    "tf.pad(x,[[0,0],[2,2],[2,2],[0,0]]) "
   ]
  },
  {
   "cell_type": "markdown",
   "metadata": {},
   "source": [
    "### 5.4高级操作"
   ]
  },
  {
   "cell_type": "markdown",
   "metadata": {},
   "source": [
    "- tf.gather 可以实现根据索引号收集数据的目的。"
   ]
  },
  {
   "cell_type": "markdown",
   "metadata": {},
   "source": [
    "- tf.gather_nd 函数，可以通过指定每次采样点的多维坐标来实现采样多个点的目\n",
    "的。"
   ]
  },
  {
   "cell_type": "markdown",
   "metadata": {},
   "source": [
    "- 过 tf.boolean_mask(x, mask, axis)可以在 axis 轴上根据\n",
    "mask 方案进行采样"
   ]
  },
  {
   "cell_type": "markdown",
   "metadata": {},
   "source": [
    "- 过 tf.where(cond, a, b)操作可以根据 cond 条件的真假从参数𝑨或𝑩中读取数据"
   ]
  },
  {
   "cell_type": "markdown",
   "metadata": {},
   "source": [
    "-  tf.scatter_nd(indices, updates, shape)函数可以高效地刷新张量的部分数据，但是这\n",
    "个函数只能在全 0 的白板张量上面执行刷新操作，因此可能需要结合其它操作来实现现有\n",
    "张量的数据刷新功能。"
   ]
  },
  {
   "cell_type": "markdown",
   "metadata": {},
   "source": [
    "- tf.meshgrid 函数可以方便地生成二维网格的采样点坐标，方便可视化等应用场\n",
    "合"
   ]
  },
  {
   "cell_type": "markdown",
   "metadata": {},
   "source": [
    "### 5.5 经典数据集加载"
   ]
  },
  {
   "cell_type": "markdown",
   "metadata": {},
   "source": [
    "正式介绍对于常用的经典数据集，如何利用 TensorFlow 提供的工具便捷地\n",
    "加载数据集"
   ]
  },
  {
   "cell_type": "markdown",
   "metadata": {},
   "source": [
    "在 TensorFlow 中，keras.datasets 模块提供了常用经典数据集的自动下载、管理、加载\n",
    "与转换功能，并且提供了 tf.data.Dataset 数据集对象，方便实现多线程(Multi-threading)、预\n",
    "处理(Preprocessing)、随机打散(Shuffle)和批训练(Training on Batch)等常用数据集的功能。"
   ]
  },
  {
   "cell_type": "markdown",
   "metadata": {},
   "source": [
    "- Boston Housing，波士顿房价趋势数据集，用于回归模型训练与测试。\n",
    "-  CIFAR10/100，真实图片数据集，用于图片分类任务。\n",
    "- MNIST/Fashion_MNIST，手写数字图片数据集，用于图片分类任务。\n",
    "- IMDB，情感分类任务数据集，用于文本分类任务。"
   ]
  },
  {
   "cell_type": "markdown",
   "metadata": {},
   "source": [
    "这些数据集在机器学习或深度学习的研究和学习中使用的非常频繁。对于新提出的算法，\n",
    "一般优先在经典的数据集上面测试，再尝试迁移到更大规模、更复杂的数据集上。"
   ]
  },
  {
   "cell_type": "markdown",
   "metadata": {},
   "source": [
    "通过 datasets.xxx.load_data()函数即可实现经典数据集的自动加载，其中 xxx 代表具体\n",
    "的数据集名称，如“CIFAR10”、“MNIST”。TensorFlow 会默认将数据缓存在用户目录下\n",
    "的.keras/datasets 文件夹，如图 5.6 所示，用户不需要关心数据集是如何保存的。如果当前\n",
    "数据集不在缓存中，则会自动从网络下载、解压和加载数据集；如果已经在缓存中，则自\n",
    "动完成加载。"
   ]
  },
  {
   "cell_type": "code",
   "execution_count": 18,
   "metadata": {},
   "outputs": [],
   "source": [
    "import tensorflow as tf\n",
    "from tensorflow.keras import datasets"
   ]
  },
  {
   "cell_type": "code",
   "execution_count": 19,
   "metadata": {},
   "outputs": [],
   "source": [
    "(x,y),(x_test,y_test)=datasets.mnist.load_data()"
   ]
  },
  {
   "cell_type": "code",
   "execution_count": 20,
   "metadata": {},
   "outputs": [
    {
     "data": {
      "text/plain": [
       "(60000, 28, 28)"
      ]
     },
     "execution_count": 20,
     "metadata": {},
     "output_type": "execute_result"
    }
   ],
   "source": [
    "x.shape"
   ]
  },
  {
   "cell_type": "code",
   "execution_count": 21,
   "metadata": {},
   "outputs": [
    {
     "data": {
      "text/plain": [
       "(60000,)"
      ]
     },
     "execution_count": 21,
     "metadata": {},
     "output_type": "execute_result"
    }
   ],
   "source": [
    "y.shape"
   ]
  },
  {
   "cell_type": "markdown",
   "metadata": {},
   "source": [
    "通过 load_data()函数会返回相应格式的数据，对于图片数据集 MNIST、CIFAR10 等，会返\n",
    "回 2 个 tuple，第一个 tuple 保存了用于训练的数据 x 和 y 训练集对象；第 2 个 tuple 则保存\n",
    "了用于测试的数据 x_test 和 y_test 测试集对象，所有的数据都用 Numpy 数组容器保存。"
   ]
  },
  {
   "cell_type": "markdown",
   "metadata": {},
   "source": [
    "数据加载进入内存后，需要转换成 Dataset 对象，才能利用 TensorFlow 提供的各种便\n",
    "捷功能。通过 Dataset.from_tensor_slices 可以将训练部分的数据图片 x 和标签 y 都转换成\n",
    "Dataset 对象："
   ]
  },
  {
   "cell_type": "code",
   "execution_count": 23,
   "metadata": {},
   "outputs": [],
   "source": [
    "train_db = tf.data.Dataset.from_tensor_slices((x, y)) "
   ]
  },
  {
   "cell_type": "code",
   "execution_count": 28,
   "metadata": {},
   "outputs": [
    {
     "data": {
      "text/plain": [
       "<TensorSliceDataset shapes: ((28, 28), ()), types: (tf.uint8, tf.uint8)>"
      ]
     },
     "execution_count": 28,
     "metadata": {},
     "output_type": "execute_result"
    }
   ],
   "source": [
    "train_db"
   ]
  },
  {
   "cell_type": "markdown",
   "metadata": {},
   "source": [
    "将数据转换成 Dataset 对象后，一般需要再添加一系列的数据集标准处理步骤，如随机打\n",
    "散、预处理、按批装载等。"
   ]
  },
  {
   "cell_type": "markdown",
   "metadata": {},
   "source": [
    "**随机打散**"
   ]
  },
  {
   "cell_type": "markdown",
   "metadata": {},
   "source": [
    "通过 Dataset.shuffle(buffer_size)工具可以设置 Dataset 对象随机打散数据之间的顺序，\n",
    "防止每次训练时数据按固定顺序产生，从而使得模型尝试“记忆”住标签信息"
   ]
  },
  {
   "cell_type": "code",
   "execution_count": 29,
   "metadata": {},
   "outputs": [],
   "source": [
    "train_db = train_db.shuffle(10000) # 随机打散样本，不会打乱样本与标签映射关系"
   ]
  },
  {
   "cell_type": "markdown",
   "metadata": {},
   "source": [
    "**批训练**"
   ]
  },
  {
   "cell_type": "markdown",
   "metadata": {},
   "source": [
    "为了利用显卡的并行计算能力，一般在网络的计算过程中会同时计算多个样本，我们\n",
    "把这种训练方式叫做批训练，其中一个批中样本的数量叫做 Batch Size。为了一次能够从\n",
    "Dataset 中产生 Batch Size 数量的样本，需要设置 Dataset 为批训练方式"
   ]
  },
  {
   "cell_type": "code",
   "execution_count": 30,
   "metadata": {},
   "outputs": [],
   "source": [
    "train_db = train_db.batch(128) # 设置批训练，batch size 为 128"
   ]
  },
  {
   "cell_type": "markdown",
   "metadata": {},
   "source": [
    "其中 128 为 Batch Size 参数，即一次并行计算 128 个样本的数据。Batch Size 一般根据用户\n",
    "的 GPU 显存资源来设置，当显存不足时，可以适量减少 Batch Size 来减少算法的显存使用\n",
    "量。"
   ]
  },
  {
   "cell_type": "markdown",
   "metadata": {},
   "source": [
    "**预处理**"
   ]
  },
  {
   "cell_type": "markdown",
   "metadata": {},
   "source": [
    "从 keras.datasets 中加载的数据集的格式大部分情况都不能直接满足模型的输入要求，\n",
    "因此需要根据用户的逻辑自行实现预处理步骤。Dataset 对象通过提供 map(func)工具函\n",
    "数，可以非常方便地调用用户自定义的预处理逻辑，它实现在 func 函数里。例如，下方代\n",
    "码调用名为 preprocess 的函数完成每个样本的预处理"
   ]
  },
  {
   "cell_type": "code",
   "execution_count": 32,
   "metadata": {},
   "outputs": [],
   "source": [
    "def preprocess(x, y): # 自定义的预处理函数\n",
    "# 调用此函数时会自动传入 x,y 对象，shape 为[b, 28, 28], [b]\n",
    " # 标准化到 0~1\n",
    " x = tf.cast(x, dtype=tf.float32) / 255.\n",
    " x = tf.reshape(x, [-1, 28*28]) # 打平\n",
    " y = tf.cast(y, dtype=tf.int32) # 转成整型张量\n",
    " y = tf.one_hot(y, depth=10) # one-hot 编码\n",
    " # 返回的 x,y 将替换传入的 x,y 参数，从而实现数据的预处理功能\n",
    " return x,y"
   ]
  },
  {
   "cell_type": "markdown",
   "metadata": {},
   "source": [
    "**循环训练**"
   ]
  },
  {
   "cell_type": "markdown",
   "metadata": {},
   "source": [
    "对于 Dataset 对象，在使用时可以通过循环训练方式进行迭代，每次返回的 x 和 y 对象即为批量样本和标签。当对 train_db 的所有样本完成一次迭代后，for 循环终止退出。这样完成一个 Batch 的数据训练，叫做一个 Step；通过多个 step 来完成整个训练集的一次迭代，叫做一个 Epoch。在实际训练时，通常需要对数据集迭代多个 Epoch 才能取得较好地训练效果"
   ]
  },
  {
   "cell_type": "markdown",
   "metadata": {},
   "source": [
    "## 6.神经网络"
   ]
  },
  {
   "cell_type": "markdown",
   "metadata": {},
   "source": [
    "机器学习的最终目的是找到一组良好的参数𝜃，使得𝜃表示的数学模型能够很好地从训\n",
    "练集中学到映射关系𝑓𝜃: 𝒙 → 𝒚,   𝒙,𝒚 ∈ 𝔻train，从而利用训练好的𝑓𝜃\n",
    "(𝒙), 𝒙 ∈ 𝔻𝑡𝑒𝑠𝑡去预测新\n",
    "样本"
   ]
  },
  {
   "cell_type": "markdown",
   "metadata": {},
   "source": [
    "全连接层是神经网络最基本的网络类型，对后续神经网络类型的研究有巨大的贡献，\n",
    "全连接层前向计算流程相对简单，梯度求导也较简单，但是它有一个最大的缺陷，在处理\n",
    "较大特征长度的数据时，全连接层的参数量往往较大，使得深层数的全连接网络参数量巨大，训练起来比较困难。"
   ]
  },
  {
   "cell_type": "markdown",
   "metadata": {},
   "source": [
    "**卷积神经网络**"
   ]
  },
  {
   "cell_type": "markdown",
   "metadata": {},
   "source": [
    "如何识别、分析并理解图片、视频等数据是计算机视觉的一个核心问题，全连接层在\n",
    "处理高维度的图片、视频数据时往往出现网络参数量巨大，训练非常困难的问题。通过利\n",
    "用局部相关性和权值共享的思想，Yann Lecun 在 1986 年提出了卷积神经网络\n",
    "(Convolutional Neural Network，简称 CNN)。随着深度学习的兴盛，卷积神经网络在计算机\n",
    "视觉中的表现大大地超越了其它算法模型，呈现统治计算机视觉领域之势。这其中比较流\n",
    "行的模型有用于图片分类的 AlexNet、VGG、GoogLeNet、ResNet、DenseNet 等，用于目\n",
    "标识别的 RCNN、Fast RCNN、Faster RCNN、Mask RCNN、YOLO、SSD 等。我们将在第\n",
    "10 章详细介绍卷积神经网络原理。"
   ]
  },
  {
   "cell_type": "markdown",
   "metadata": {},
   "source": [
    "**循环神经网络**"
   ]
  },
  {
   "cell_type": "markdown",
   "metadata": {},
   "source": [
    "除了具有空间结构的图片、视频等数据外，序列信号也是非常常见的一种数据类型，\n",
    "其中一个最具代表性的序列信号就是文本数据。如何处理并理解文本数据是自然语言处理\n",
    "的一个核心问题。卷积神经网络由于缺乏 Memory 机制和处理不定长序列信号的能力，并\n",
    "不擅长序列信号的任务。循环神经网络(Recurrent Neural Network，简称 RNN)在 Yoshua \n",
    "Bengio、Jürgen Schmidhuber 等人的持续研究下，被证明非常擅长处理序列信号。1997\n",
    "年，Jürgen Schmidhuber 提出了 LSTM 网络，作为 RNN 的变种，它较好地克服了 RNN 缺\n",
    "乏长期记忆、不擅长处理长序列的问题，在自然语言处理中得到了广泛的应用。基于\n",
    "LSTM 模型，Google 提出了用于机器翻译的 Seq2Seq 模型，并成功商用于谷歌神经机器翻\n",
    "译系统(GNMT)。其他的 RNN 变种还有 GRU、双向 RNN 等。我们将在第 11 章详细介绍\n",
    "循环神经网络原理。\n"
   ]
  },
  {
   "cell_type": "markdown",
   "metadata": {},
   "source": [
    "**注意力（机制）网络**"
   ]
  },
  {
   "cell_type": "markdown",
   "metadata": {},
   "source": [
    "RNN 并不是自然语言处理的最终解决方案，近年来随着注意力机制(Attention\n",
    "Mechanism)的提出，克服了 RNN 训练不稳定、难以并行化等缺陷，在自然语言处理和图\n",
    "片生成等领域中逐渐崭露头角。注意力机制最初在图片分类任务上提出，但逐渐开始侵蚀\n",
    "NLP 各大任务。2017 年，Google 提出了第一个利用纯注意力机制实现的网络模型\n",
    "Transformer，随后基于 Transformer 模型相继提出了一系列的用于机器翻译的注意力网络模\n",
    "型，如 GPT、BERT、GPT-2 等。在其它领域，基于注意力机制，尤其是自注意力(Self\u0002Attention)机制构建的网络也取得了不错的效果，比如基于自注意力机制的 BigGAN 模型\n",
    "等。"
   ]
  },
  {
   "cell_type": "markdown",
   "metadata": {},
   "source": [
    "**图卷积神经网络**"
   ]
  },
  {
   "cell_type": "markdown",
   "metadata": {},
   "source": [
    "图片、文本等数据具有规则的空间、时间结构，称为 Euclidean Data(欧几里德数据)。\n",
    "卷积神经网络和循环神经网络被证明非常擅长处理这种类型的数据。而像类似于社交网\n",
    "络、通信网络、蛋白质分子结构等一系列的不规则空间拓扑结构的数据，它们显得力不从\n",
    "心。2016 年，Thomas Kipf 等人基于前人在一阶近似的谱卷积算法上提出了图卷积网络\n",
    "(Graph Convolution Network，GCN)模型。GCN 算法实现简单，从空间一阶邻居信息聚合的角度也能直观地理解，在半监督任务上取得了不错效果。随后，一系列的网络模型相继\n",
    "被提出，如 GAT，EdgeConv，DeepGCN 等。\n"
   ]
  },
  {
   "cell_type": "markdown",
   "metadata": {},
   "source": [
    "**汽车油耗预测实战**"
   ]
  },
  {
   "cell_type": "markdown",
   "metadata": {},
   "source": [
    "本节我们将利用全连接网络模型来完成汽车的效能指标 MPG(Mile Per Gallon，每加仑\n",
    "燃油英里数)的预测问题实战。\n"
   ]
  },
  {
   "cell_type": "markdown",
   "metadata": {},
   "source": [
    "Auto MPG 数据集一共记录了 398 项数据，我们从 UCI 服务器下载并读取数据集到\n",
    "DataFrame 对象中"
   ]
  },
  {
   "cell_type": "code",
   "execution_count": 40,
   "metadata": {},
   "outputs": [],
   "source": [
    "import pandas as pd"
   ]
  },
  {
   "cell_type": "code",
   "execution_count": 44,
   "metadata": {},
   "outputs": [
    {
     "name": "stdout",
     "output_type": "stream",
     "text": [
      "Downloading data from http://archive.ics.uci.edu/ml/machine-learning-databases/auto-mpg/auto-mpg.data\n",
      "32768/30286 [================================] - 4s 118us/step\n"
     ]
    }
   ],
   "source": [
    "dataset_path = tensorflow.keras.utils.get_file(\"auto-mpg.data\", r\"http://archive.ics.uci.edu/ml/machine-learning-databases/auto-mpg/auto-mpg.data\")"
   ]
  },
  {
   "cell_type": "code",
   "execution_count": 45,
   "metadata": {},
   "outputs": [],
   "source": [
    "column_names = ['MPG','Cylinders','Displacement','Horsepower','Weight','Acceleration', 'Model Year', 'Origin']"
   ]
  },
  {
   "cell_type": "code",
   "execution_count": 46,
   "metadata": {},
   "outputs": [],
   "source": [
    "raw_dataset = pd.read_csv(dataset_path, names=column_names,na_values = \"?\", comment='\\t', sep=\" \", skipinitialspace=True)\n"
   ]
  },
  {
   "cell_type": "code",
   "execution_count": 47,
   "metadata": {},
   "outputs": [],
   "source": [
    "dataset = raw_dataset.copy() "
   ]
  },
  {
   "cell_type": "code",
   "execution_count": 48,
   "metadata": {},
   "outputs": [
    {
     "data": {
      "text/html": [
       "<div>\n",
       "<style scoped>\n",
       "    .dataframe tbody tr th:only-of-type {\n",
       "        vertical-align: middle;\n",
       "    }\n",
       "\n",
       "    .dataframe tbody tr th {\n",
       "        vertical-align: top;\n",
       "    }\n",
       "\n",
       "    .dataframe thead th {\n",
       "        text-align: right;\n",
       "    }\n",
       "</style>\n",
       "<table border=\"1\" class=\"dataframe\">\n",
       "  <thead>\n",
       "    <tr style=\"text-align: right;\">\n",
       "      <th></th>\n",
       "      <th>MPG</th>\n",
       "      <th>Cylinders</th>\n",
       "      <th>Displacement</th>\n",
       "      <th>Horsepower</th>\n",
       "      <th>Weight</th>\n",
       "      <th>Acceleration</th>\n",
       "      <th>Model Year</th>\n",
       "      <th>Origin</th>\n",
       "    </tr>\n",
       "  </thead>\n",
       "  <tbody>\n",
       "    <tr>\n",
       "      <th>0</th>\n",
       "      <td>18.0</td>\n",
       "      <td>8</td>\n",
       "      <td>307.0</td>\n",
       "      <td>130.0</td>\n",
       "      <td>3504.0</td>\n",
       "      <td>12.0</td>\n",
       "      <td>70</td>\n",
       "      <td>1</td>\n",
       "    </tr>\n",
       "    <tr>\n",
       "      <th>1</th>\n",
       "      <td>15.0</td>\n",
       "      <td>8</td>\n",
       "      <td>350.0</td>\n",
       "      <td>165.0</td>\n",
       "      <td>3693.0</td>\n",
       "      <td>11.5</td>\n",
       "      <td>70</td>\n",
       "      <td>1</td>\n",
       "    </tr>\n",
       "    <tr>\n",
       "      <th>2</th>\n",
       "      <td>18.0</td>\n",
       "      <td>8</td>\n",
       "      <td>318.0</td>\n",
       "      <td>150.0</td>\n",
       "      <td>3436.0</td>\n",
       "      <td>11.0</td>\n",
       "      <td>70</td>\n",
       "      <td>1</td>\n",
       "    </tr>\n",
       "    <tr>\n",
       "      <th>3</th>\n",
       "      <td>16.0</td>\n",
       "      <td>8</td>\n",
       "      <td>304.0</td>\n",
       "      <td>150.0</td>\n",
       "      <td>3433.0</td>\n",
       "      <td>12.0</td>\n",
       "      <td>70</td>\n",
       "      <td>1</td>\n",
       "    </tr>\n",
       "    <tr>\n",
       "      <th>4</th>\n",
       "      <td>17.0</td>\n",
       "      <td>8</td>\n",
       "      <td>302.0</td>\n",
       "      <td>140.0</td>\n",
       "      <td>3449.0</td>\n",
       "      <td>10.5</td>\n",
       "      <td>70</td>\n",
       "      <td>1</td>\n",
       "    </tr>\n",
       "  </tbody>\n",
       "</table>\n",
       "</div>"
      ],
      "text/plain": [
       "    MPG  Cylinders  Displacement  Horsepower  Weight  Acceleration  \\\n",
       "0  18.0          8         307.0       130.0  3504.0          12.0   \n",
       "1  15.0          8         350.0       165.0  3693.0          11.5   \n",
       "2  18.0          8         318.0       150.0  3436.0          11.0   \n",
       "3  16.0          8         304.0       150.0  3433.0          12.0   \n",
       "4  17.0          8         302.0       140.0  3449.0          10.5   \n",
       "\n",
       "   Model Year  Origin  \n",
       "0          70       1  \n",
       "1          70       1  \n",
       "2          70       1  \n",
       "3          70       1  \n",
       "4          70       1  "
      ]
     },
     "execution_count": 48,
     "metadata": {},
     "output_type": "execute_result"
    }
   ],
   "source": [
    "dataset.head() "
   ]
  },
  {
   "cell_type": "markdown",
   "metadata": {},
   "source": [
    "原始表格中的数据可能含有空字段(缺失值)的数据项，需要清除这些记录项："
   ]
  },
  {
   "cell_type": "code",
   "execution_count": 49,
   "metadata": {},
   "outputs": [
    {
     "data": {
      "text/plain": [
       "MPG             0\n",
       "Cylinders       0\n",
       "Displacement    0\n",
       "Horsepower      6\n",
       "Weight          0\n",
       "Acceleration    0\n",
       "Model Year      0\n",
       "Origin          0\n",
       "dtype: int64"
      ]
     },
     "execution_count": 49,
     "metadata": {},
     "output_type": "execute_result"
    }
   ],
   "source": [
    "dataset.isna().sum() # 统计空白数据"
   ]
  },
  {
   "cell_type": "code",
   "execution_count": 50,
   "metadata": {},
   "outputs": [],
   "source": [
    "dataset = dataset.dropna() # 删除空白数据项 "
   ]
  },
  {
   "cell_type": "code",
   "execution_count": 51,
   "metadata": {},
   "outputs": [
    {
     "data": {
      "text/plain": [
       "MPG             0\n",
       "Cylinders       0\n",
       "Displacement    0\n",
       "Horsepower      0\n",
       "Weight          0\n",
       "Acceleration    0\n",
       "Model Year      0\n",
       "Origin          0\n",
       "dtype: int64"
      ]
     },
     "execution_count": 51,
     "metadata": {},
     "output_type": "execute_result"
    }
   ],
   "source": [
    "dataset.isna().sum() # 再次统计空白数据 "
   ]
  },
  {
   "cell_type": "code",
   "execution_count": 52,
   "metadata": {},
   "outputs": [
    {
     "data": {
      "text/plain": [
       "392"
      ]
     },
     "execution_count": 52,
     "metadata": {},
     "output_type": "execute_result"
    }
   ],
   "source": [
    "len(dataset.index)"
   ]
  },
  {
   "cell_type": "markdown",
   "metadata": {},
   "source": [
    "清除后，观察到数据集记录项减为 392 项。 "
   ]
  },
  {
   "cell_type": "markdown",
   "metadata": {},
   "source": [
    "由于 Origin 字段为类别类型数据，我们将其移除，并转换为新的 3 个字段：USA、\n",
    "Europe 和 Japan，分别代表是否来自此产地：\n"
   ]
  },
  {
   "cell_type": "code",
   "execution_count": 53,
   "metadata": {},
   "outputs": [],
   "source": [
    "origin = dataset.pop('Origin')"
   ]
  },
  {
   "cell_type": "code",
   "execution_count": 54,
   "metadata": {
    "collapsed": true
   },
   "outputs": [
    {
     "data": {
      "text/plain": [
       "0      1\n",
       "1      1\n",
       "2      1\n",
       "3      1\n",
       "4      1\n",
       "      ..\n",
       "393    1\n",
       "394    2\n",
       "395    1\n",
       "396    1\n",
       "397    1\n",
       "Name: Origin, Length: 392, dtype: int64"
      ]
     },
     "execution_count": 54,
     "metadata": {},
     "output_type": "execute_result"
    }
   ],
   "source": [
    "origin"
   ]
  },
  {
   "cell_type": "code",
   "execution_count": 55,
   "metadata": {},
   "outputs": [],
   "source": [
    "dataset['USA'] = (origin == 1)*1\n",
    "dataset['Europe'] = (origin == 2)*1\n",
    "dataset['Japan'] = (origin == 3)*1 "
   ]
  },
  {
   "cell_type": "code",
   "execution_count": 56,
   "metadata": {},
   "outputs": [
    {
     "data": {
      "text/html": [
       "<div>\n",
       "<style scoped>\n",
       "    .dataframe tbody tr th:only-of-type {\n",
       "        vertical-align: middle;\n",
       "    }\n",
       "\n",
       "    .dataframe tbody tr th {\n",
       "        vertical-align: top;\n",
       "    }\n",
       "\n",
       "    .dataframe thead th {\n",
       "        text-align: right;\n",
       "    }\n",
       "</style>\n",
       "<table border=\"1\" class=\"dataframe\">\n",
       "  <thead>\n",
       "    <tr style=\"text-align: right;\">\n",
       "      <th></th>\n",
       "      <th>MPG</th>\n",
       "      <th>Cylinders</th>\n",
       "      <th>Displacement</th>\n",
       "      <th>Horsepower</th>\n",
       "      <th>Weight</th>\n",
       "      <th>Acceleration</th>\n",
       "      <th>Model Year</th>\n",
       "      <th>USA</th>\n",
       "      <th>Europe</th>\n",
       "      <th>Japan</th>\n",
       "    </tr>\n",
       "  </thead>\n",
       "  <tbody>\n",
       "    <tr>\n",
       "      <th>393</th>\n",
       "      <td>27.0</td>\n",
       "      <td>4</td>\n",
       "      <td>140.0</td>\n",
       "      <td>86.0</td>\n",
       "      <td>2790.0</td>\n",
       "      <td>15.6</td>\n",
       "      <td>82</td>\n",
       "      <td>1</td>\n",
       "      <td>0</td>\n",
       "      <td>0</td>\n",
       "    </tr>\n",
       "    <tr>\n",
       "      <th>394</th>\n",
       "      <td>44.0</td>\n",
       "      <td>4</td>\n",
       "      <td>97.0</td>\n",
       "      <td>52.0</td>\n",
       "      <td>2130.0</td>\n",
       "      <td>24.6</td>\n",
       "      <td>82</td>\n",
       "      <td>0</td>\n",
       "      <td>1</td>\n",
       "      <td>0</td>\n",
       "    </tr>\n",
       "    <tr>\n",
       "      <th>395</th>\n",
       "      <td>32.0</td>\n",
       "      <td>4</td>\n",
       "      <td>135.0</td>\n",
       "      <td>84.0</td>\n",
       "      <td>2295.0</td>\n",
       "      <td>11.6</td>\n",
       "      <td>82</td>\n",
       "      <td>1</td>\n",
       "      <td>0</td>\n",
       "      <td>0</td>\n",
       "    </tr>\n",
       "    <tr>\n",
       "      <th>396</th>\n",
       "      <td>28.0</td>\n",
       "      <td>4</td>\n",
       "      <td>120.0</td>\n",
       "      <td>79.0</td>\n",
       "      <td>2625.0</td>\n",
       "      <td>18.6</td>\n",
       "      <td>82</td>\n",
       "      <td>1</td>\n",
       "      <td>0</td>\n",
       "      <td>0</td>\n",
       "    </tr>\n",
       "    <tr>\n",
       "      <th>397</th>\n",
       "      <td>31.0</td>\n",
       "      <td>4</td>\n",
       "      <td>119.0</td>\n",
       "      <td>82.0</td>\n",
       "      <td>2720.0</td>\n",
       "      <td>19.4</td>\n",
       "      <td>82</td>\n",
       "      <td>1</td>\n",
       "      <td>0</td>\n",
       "      <td>0</td>\n",
       "    </tr>\n",
       "  </tbody>\n",
       "</table>\n",
       "</div>"
      ],
      "text/plain": [
       "      MPG  Cylinders  Displacement  Horsepower  Weight  Acceleration  \\\n",
       "393  27.0          4         140.0        86.0  2790.0          15.6   \n",
       "394  44.0          4          97.0        52.0  2130.0          24.6   \n",
       "395  32.0          4         135.0        84.0  2295.0          11.6   \n",
       "396  28.0          4         120.0        79.0  2625.0          18.6   \n",
       "397  31.0          4         119.0        82.0  2720.0          19.4   \n",
       "\n",
       "     Model Year  USA  Europe  Japan  \n",
       "393          82    1       0      0  \n",
       "394          82    0       1      0  \n",
       "395          82    1       0      0  \n",
       "396          82    1       0      0  \n",
       "397          82    1       0      0  "
      ]
     },
     "execution_count": 56,
     "metadata": {},
     "output_type": "execute_result"
    }
   ],
   "source": [
    "dataset.tail()  "
   ]
  },
  {
   "cell_type": "markdown",
   "metadata": {},
   "source": [
    "按着 8:2 的比例切分数据集为训练集和测试集"
   ]
  },
  {
   "cell_type": "code",
   "execution_count": 65,
   "metadata": {},
   "outputs": [],
   "source": [
    "train_dataset = dataset.sample(frac=0.8,random_state=0)\n",
    "test_dataset = dataset.drop(train_dataset.index) "
   ]
  },
  {
   "cell_type": "markdown",
   "metadata": {},
   "source": [
    "将 MPG 字段移出为标签数据"
   ]
  },
  {
   "cell_type": "code",
   "execution_count": 63,
   "metadata": {
    "scrolled": true
   },
   "outputs": [],
   "source": [
    "# 移动 MPG 油耗效能这一列为真实标签 Y\n",
    "train_labels = train_dataset.pop('MPG')\n",
    "test_labels = test_dataset.pop('MPG') "
   ]
  },
  {
   "cell_type": "code",
   "execution_count": 66,
   "metadata": {
    "collapsed": true
   },
   "outputs": [
    {
     "data": {
      "text/plain": [
       "<bound method NDFrame.head of 146    28.0\n",
       "282    22.3\n",
       "69     12.0\n",
       "378    38.0\n",
       "331    33.8\n",
       "       ... \n",
       "281    19.8\n",
       "229    16.0\n",
       "150    26.0\n",
       "145    32.0\n",
       "182    28.0\n",
       "Name: MPG, Length: 314, dtype: float64>"
      ]
     },
     "execution_count": 66,
     "metadata": {},
     "output_type": "execute_result"
    }
   ],
   "source": [
    "train_labels.head"
   ]
  },
  {
   "cell_type": "markdown",
   "metadata": {},
   "source": [
    "统计训练集的各个字段数值的均值和标准差，并完成数据的标准化，通过 norm()函数\n",
    "实现"
   ]
  },
  {
   "cell_type": "code",
   "execution_count": 69,
   "metadata": {},
   "outputs": [],
   "source": [
    "train_stats = train_dataset.describe() "
   ]
  },
  {
   "cell_type": "code",
   "execution_count": 71,
   "metadata": {},
   "outputs": [
    {
     "data": {
      "text/html": [
       "<div>\n",
       "<style scoped>\n",
       "    .dataframe tbody tr th:only-of-type {\n",
       "        vertical-align: middle;\n",
       "    }\n",
       "\n",
       "    .dataframe tbody tr th {\n",
       "        vertical-align: top;\n",
       "    }\n",
       "\n",
       "    .dataframe thead th {\n",
       "        text-align: right;\n",
       "    }\n",
       "</style>\n",
       "<table border=\"1\" class=\"dataframe\">\n",
       "  <thead>\n",
       "    <tr style=\"text-align: right;\">\n",
       "      <th></th>\n",
       "      <th>MPG</th>\n",
       "      <th>Cylinders</th>\n",
       "      <th>Displacement</th>\n",
       "      <th>Horsepower</th>\n",
       "      <th>Weight</th>\n",
       "      <th>Acceleration</th>\n",
       "      <th>Model Year</th>\n",
       "      <th>USA</th>\n",
       "      <th>Europe</th>\n",
       "      <th>Japan</th>\n",
       "    </tr>\n",
       "  </thead>\n",
       "  <tbody>\n",
       "    <tr>\n",
       "      <th>count</th>\n",
       "      <td>314.000000</td>\n",
       "      <td>314.000000</td>\n",
       "      <td>314.000000</td>\n",
       "      <td>314.000000</td>\n",
       "      <td>314.000000</td>\n",
       "      <td>314.000000</td>\n",
       "      <td>314.000000</td>\n",
       "      <td>314.000000</td>\n",
       "      <td>314.000000</td>\n",
       "      <td>314.000000</td>\n",
       "    </tr>\n",
       "    <tr>\n",
       "      <th>mean</th>\n",
       "      <td>23.310510</td>\n",
       "      <td>5.477707</td>\n",
       "      <td>195.318471</td>\n",
       "      <td>104.869427</td>\n",
       "      <td>2990.251592</td>\n",
       "      <td>15.559236</td>\n",
       "      <td>75.898089</td>\n",
       "      <td>0.624204</td>\n",
       "      <td>0.178344</td>\n",
       "      <td>0.197452</td>\n",
       "    </tr>\n",
       "    <tr>\n",
       "      <th>std</th>\n",
       "      <td>7.728652</td>\n",
       "      <td>1.699788</td>\n",
       "      <td>104.331589</td>\n",
       "      <td>38.096214</td>\n",
       "      <td>843.898596</td>\n",
       "      <td>2.789230</td>\n",
       "      <td>3.675642</td>\n",
       "      <td>0.485101</td>\n",
       "      <td>0.383413</td>\n",
       "      <td>0.398712</td>\n",
       "    </tr>\n",
       "    <tr>\n",
       "      <th>min</th>\n",
       "      <td>10.000000</td>\n",
       "      <td>3.000000</td>\n",
       "      <td>68.000000</td>\n",
       "      <td>46.000000</td>\n",
       "      <td>1649.000000</td>\n",
       "      <td>8.000000</td>\n",
       "      <td>70.000000</td>\n",
       "      <td>0.000000</td>\n",
       "      <td>0.000000</td>\n",
       "      <td>0.000000</td>\n",
       "    </tr>\n",
       "    <tr>\n",
       "      <th>25%</th>\n",
       "      <td>17.000000</td>\n",
       "      <td>4.000000</td>\n",
       "      <td>105.500000</td>\n",
       "      <td>76.250000</td>\n",
       "      <td>2256.500000</td>\n",
       "      <td>13.800000</td>\n",
       "      <td>73.000000</td>\n",
       "      <td>0.000000</td>\n",
       "      <td>0.000000</td>\n",
       "      <td>0.000000</td>\n",
       "    </tr>\n",
       "  </tbody>\n",
       "</table>\n",
       "</div>"
      ],
      "text/plain": [
       "              MPG   Cylinders  Displacement  Horsepower       Weight  \\\n",
       "count  314.000000  314.000000    314.000000  314.000000   314.000000   \n",
       "mean    23.310510    5.477707    195.318471  104.869427  2990.251592   \n",
       "std      7.728652    1.699788    104.331589   38.096214   843.898596   \n",
       "min     10.000000    3.000000     68.000000   46.000000  1649.000000   \n",
       "25%     17.000000    4.000000    105.500000   76.250000  2256.500000   \n",
       "\n",
       "       Acceleration  Model Year         USA      Europe       Japan  \n",
       "count    314.000000  314.000000  314.000000  314.000000  314.000000  \n",
       "mean      15.559236   75.898089    0.624204    0.178344    0.197452  \n",
       "std        2.789230    3.675642    0.485101    0.383413    0.398712  \n",
       "min        8.000000   70.000000    0.000000    0.000000    0.000000  \n",
       "25%       13.800000   73.000000    0.000000    0.000000    0.000000  "
      ]
     },
     "execution_count": 71,
     "metadata": {},
     "output_type": "execute_result"
    }
   ],
   "source": [
    "train_stats.head()"
   ]
  },
  {
   "cell_type": "code",
   "execution_count": 72,
   "metadata": {},
   "outputs": [],
   "source": [
    "# 查看训练集的输入 X 的统计数据\n",
    "train_stats.pop(\"MPG\") # 仅保留输入 X\n",
    "train_stats = train_stats.transpose() # 转置"
   ]
  },
  {
   "cell_type": "code",
   "execution_count": 73,
   "metadata": {},
   "outputs": [],
   "source": [
    "def norm(x): # 减去每个字段的均值，并除以标准差\n",
    "     return (x - train_stats['mean']) / train_stats['std'] "
   ]
  },
  {
   "cell_type": "code",
   "execution_count": 74,
   "metadata": {},
   "outputs": [],
   "source": [
    "normed_train_data = norm(train_dataset) # 标准化训练集\n",
    "normed_test_data = norm(test_dataset) # 标准化测试集"
   ]
  },
  {
   "cell_type": "code",
   "execution_count": 75,
   "metadata": {},
   "outputs": [
    {
     "name": "stdout",
     "output_type": "stream",
     "text": [
      "(314, 10) (314,)\n",
      "(78, 10) (78,)\n"
     ]
    }
   ],
   "source": [
    "print(normed_train_data.shape,train_labels.shape)\n",
    "print(normed_test_data.shape, test_labels.shape)\n"
   ]
  },
  {
   "cell_type": "markdown",
   "metadata": {},
   "source": [
    "利用切分的训练集数据构建数据集对象：\n"
   ]
  },
  {
   "cell_type": "code",
   "execution_count": 76,
   "metadata": {},
   "outputs": [],
   "source": [
    "train_db = tf.data.Dataset.from_tensor_slices((normed_train_data.values, \n",
    "train_labels.values)) # 构建 Dataset 对象\n",
    "train_db = train_db.shuffle(100).batch(32) # 随机打散，批量化\n"
   ]
  },
  {
   "cell_type": "markdown",
   "metadata": {},
   "source": [
    "我们可以通过简单地统计数据集中各字段之间的两两分布来观察各个字段对 MPG 的\n",
    "影响，如图 6.16 所示。可以大致观察到，其中汽车排量、重量与 MPG 的关系比较简单，\n",
    "随着排量或重量的增大，汽车的 MPG 降低，能耗增加；气缸数越小，汽车能做到的最好\n",
    "MPG 也越高，越可能更节能，这都是是符合我们的经验"
   ]
  },
  {
   "cell_type": "code",
   "execution_count": null,
   "metadata": {},
   "outputs": [],
   "source": []
  }
 ],
 "metadata": {
  "kernelspec": {
   "display_name": "Python 3",
   "language": "python",
   "name": "python3"
  },
  "language_info": {
   "codemirror_mode": {
    "name": "ipython",
    "version": 3
   },
   "file_extension": ".py",
   "mimetype": "text/x-python",
   "name": "python",
   "nbconvert_exporter": "python",
   "pygments_lexer": "ipython3",
   "version": "3.8.5"
  }
 },
 "nbformat": 4,
 "nbformat_minor": 4
}
