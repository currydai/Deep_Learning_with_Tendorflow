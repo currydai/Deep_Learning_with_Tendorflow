{
 "cells": [
  {
   "cell_type": "markdown",
   "metadata": {},
   "source": [
    "# 一、Tensorflow与深度学习笔记 "
   ]
  },
  {
   "cell_type": "markdown",
   "metadata": {},
   "source": [
    "- **Author:**currydai\n",
    "- **Date:**4/3/2021 "
   ]
  },
  {
   "cell_type": "markdown",
   "metadata": {},
   "source": [
    "## 目录"
   ]
  },
  {
   "cell_type": "markdown",
   "metadata": {},
   "source": [
    "01. 人工智能简介\n",
    "02. 回归问题\n",
    "03. 分类问题\n",
    "04. tensorflow基础\n",
    "05. tensorflow进阶\n",
    "06. 神经网络\n",
    "07. 反向传播算法\n",
    "08. Keras高级接口\n",
    "09. 过拟合\n",
    "10. 卷积神经网络\n",
    "11. 循环神经网络\n",
    "12. 自编码器\n",
    "13. 生成对抗网络\n",
    "14. 强化学习\n",
    "15. 自定义数据集 "
   ]
  },
  {
   "cell_type": "markdown",
   "metadata": {},
   "source": [
    "## 前述"
   ]
  },
  {
   "cell_type": "markdown",
   "metadata": {},
   "source": [
    "深度学习相对与其他常规机器学习以及数值优化算法规模更大，主要体现在深层次的复杂网络导致前后向的计算复杂。不过不用过度担心或者惧怕，很多机构已经基于软硬件系统开发出最优的计算框架，例如Tensorflow or Pytorch，我们可以很方便的使用它们。\n"
   ]
  },
  {
   "cell_type": "markdown",
   "metadata": {},
   "source": [
    "然而在使用的过程中，我发现，由于框架太过简单，造成知识的退化。很多底层的原理一知半解，导致在实现各种模型时理解不到位。因此本文基于这种考虑，从原理公式结合tensorflow实现原理出发，深入理解深度学习相关模型与实现方法。"
   ]
  },
  {
   "cell_type": "markdown",
   "metadata": {},
   "source": [
    "$$公式+原理+代码$$  "
   ]
  },
  {
   "cell_type": "markdown",
   "metadata": {},
   "source": [
    "## 1.人工智能绪论 "
   ]
  },
  {
   "cell_type": "markdown",
   "metadata": {},
   "source": [
    "定义： 人工智能是让机器获得像人类一样具有思考和推理机制的智能技术"
   ]
  },
  {
   "cell_type": "markdown",
   "metadata": {},
   "source": [
    "发展：人工智能的发展主要经历过三个阶段，每个阶段都代表了人们从不同的角度尝试实现人工智能的探索足迹"
   ]
  },
  {
   "cell_type": "markdown",
   "metadata": {},
   "source": [
    "$$推理期->机器学习->神经网络$$"
   ]
  },
  {
   "cell_type": "markdown",
   "metadata": {},
   "source": [
    "### 1.1 机器学习"
   ]
  },
  {
   "cell_type": "markdown",
   "metadata": {},
   "source": [
    "**机器学习分类：**\n",
    "- 有监督学习 Supervised Learning\n",
    "- 无监督学习 Unsupervised Learning\n",
    "- 强化学习 Reinforcrment Learning"
   ]
  },
  {
   "cell_type": "markdown",
   "metadata": {},
   "source": [
    "- **有监督学习** 有监督学习的数据集包含了样本𝒙与样本的标签𝒚，算法模型需要学习到\n",
    "映射关系𝑓𝜃: 𝒙 → 𝒚，其中𝑓𝜃代表模型函数，𝜃为模型的参数。在训练时，通过计算模型的预\n",
    "测值𝑓𝜃(𝒙)与真实标签𝒚之间的误差来优化网络参数𝜃，使得网络下一次能够预测更精准。常\n",
    "见的有监督学习有线性回归、逻辑回归、支持向量机、随机森林等。"
   ]
  },
  {
   "cell_type": "markdown",
   "metadata": {},
   "source": [
    "- **无监督学习** 收集带标签的数据往往代价较为昂贵，对于只有样本𝒙的数据集，算法需\n",
    "要自行发现数据的模态，这种方式叫作无监督学习。无监督学习中有一类算法将自身作为\n",
    "监督信号，即模型需要学习的映射为𝑓𝜃: 𝒙 → 𝒙，称为自监督学习(Self-supervised \n",
    "Learning)。在训练时，通过计算模型的预测值𝑓𝜃(𝒙)与自身𝒙之间的误差来优化网络参数𝜃。\n",
    "常见的无监督学习算法有自编码器、生成对抗网络等。"
   ]
  },
  {
   "cell_type": "markdown",
   "metadata": {},
   "source": [
    "- **强化学习** 也称为增强学习，通过与环境进行交互来学习解决问题的策略的一类算法。\n",
    "与有监督、无监督学习不同，强化学习问题并没有明确的“正确的”动作监督信号，算法\n",
    "需要与环境进行交互，获取环境反馈的滞后的奖励信号，因此并不能通过计算动作与“正\n",
    "确动作”之间的误差来优化网络。常见的强化学习算法有 DQN，PPO 等。"
   ]
  },
  {
   "cell_type": "markdown",
   "metadata": {},
   "source": [
    "Tips：后续会有专门的课程区去介绍机器学习的理论、算法与应用，在这里就不展开扩展"
   ]
  },
  {
   "cell_type": "markdown",
   "metadata": {},
   "source": [
    "### 1.2神经网络与深度学习"
   ]
  },
  {
   "cell_type": "markdown",
   "metadata": {},
   "source": [
    "- 神经网络：一类基于神经网络从数据中学习的算法\n",
    "- 深度学习：将利用深层神经网络实现的算法"
   ]
  },
  {
   "cell_type": "code",
   "execution_count": null,
   "metadata": {},
   "outputs": [],
   "source": []
  }
 ],
 "metadata": {
  "kernelspec": {
   "display_name": "Python 3",
   "language": "python",
   "name": "python3"
  },
  "language_info": {
   "codemirror_mode": {
    "name": "ipython",
    "version": 3
   },
   "file_extension": ".py",
   "mimetype": "text/x-python",
   "name": "python",
   "nbconvert_exporter": "python",
   "pygments_lexer": "ipython3",
   "version": "3.8.5"
  }
 },
 "nbformat": 4,
 "nbformat_minor": 4
}
